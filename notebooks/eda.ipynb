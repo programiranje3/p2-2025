{
 "cells": [
  {
   "cell_type": "markdown",
   "source": [
    "# Exploratory data analysis\n",
    "Introduction to exploratory data analysis (EDA)."
   ],
   "metadata": {
    "collapsed": false
   }
  },
  {
   "cell_type": "markdown",
   "source": [
    "EDA is an approach to analyzing datasets to summarize their main characteristics, often with visual methods. EDA is used for seeing what the data can tell us before the modeling task [(source 1)](https://chartio.com/learn/data-analytics/what-is-exploratory-data-analysis/). It is used to explore the data, find different patterns, relations, and anomalies in the data using some statistical graphs and other visualization techniques, and possibly formulate hypotheses that could lead to new data collection and experiments [(source 2)](https://www.analyticsvidhya.com/blog/2021/08/how-to-perform-exploratory-data-analysis-a-guide-for-beginners/). More specifically, EDA enables analysts to:\n",
    "1. get maximum insights from a data set\n",
    "2. uncover underlying structure\n",
    "3. extract important variables from the dataset\n",
    "4. detect outliers and anomalies (if any)\n",
    "5. test underlying assumptions\n",
    "6. determine the optimal factor settings"
   ],
   "metadata": {
    "collapsed": false
   }
  },
  {
   "cell_type": "markdown",
   "source": [
    "## EDA steps and tools\n",
    "Practical steps in conducting EDA and frequently used EDA tools.\n",
    "Based on *pandas2020-main.Sales_Analysis_Pandas_P3_tutorial.ipynb* and *pandas2020-main.TED_Talks_Pandas_P3_tutorial.ipynb*.\n"
   ],
   "metadata": {
    "collapsed": false
   }
  },
  {
   "cell_type": "markdown",
   "source": [
    "Based on [this](https://stackoverflow.com/a/22149930/1899061), in all computations, `axis=...` refers to the axis **along which** the computation is done. By default, `axis=0`. This is consistent with the `numpy.mean` usage when axis is specified explicitly (in `numpy.mean`, `axis==None` by default, which computes the mean value over the flattened array), in which `axis=0` along the rows (namely, index in pandas), and `axis=1` along the columns.\n",
    "Note also that that `axis=0` indicates aggregating along rows and `axis=1` indicates aggregating along columns. This is consistent with how we index into a dataframe. In `df.iloc[<row>, <column>]`, `<row>` is in index position 0 and `<column>` is in index position 1. For added clarity, one may choose to specify `axis='index'` (instead of `axis=0`) or `axis='columns'` (instead of `axis=1`).\n",
    "**But**, `axis=0` means each row as a bulk - we manipulate a `pd.DataFrame` inter-row, instead of within-row. Likewise, 1 means each column as a bulk, i.e. we manipulate a `pd.DataFrame` inter-column instead of within-column. For example, `<pd.df>.drop(\"A\", axis=1)` will drop a whole column."
   ],
   "metadata": {
    "collapsed": false
   }
  },
  {
   "cell_type": "markdown",
   "source": [
    "### Reading the dataset\n",
    "- `pd.read_csv()`"
   ],
   "metadata": {
    "collapsed": false
   }
  },
  {
   "cell_type": "markdown",
   "source": [
    "### Initial examination and adaptations\n",
    "- `<pd.df>.shape`, `<pd.df>.head()`, `<pd.df>.tail()`, `<pd.df>.sample()`, `<pd.df>.dtypes`, `<pd.df>.info()`, `<pd.df>.describe()`\n",
    "- `<pd.df>.loc[...]`, `<pd.df>.iloc[...]` - examine individual cells, columns, rows\n",
    "    - `loc` works with conditions and column names, `iloc` with numerical indices\n",
    "    - in both `loc` and `iloc`, multiple columns can be specified as a list of column names, and `:` in each index position means 'all'\n",
    "    - in `iloc`, both index positions can be specified as lists of numeric values\n",
    "- `<pd.df>.columns`, `<pd.df>.columns.values`, `<pd.df>.columns.values.tolist()` (or `<pd.df>.columns.values.to_list()`), `<pd.df>.values`\n",
    "- `<pd.df>.rename({'<column_1 old name>':'<column_1 new name>', '<column_2 old name>':'<column_2 new name>', ...}, axis='columns')`, `<pd.df>.columns = ['<column_1 name>', '<column_2 name>', ...]` (change the names of all columns in <pd.df>)\n",
    "- `ast.literal_eval()` (using Python's *ast* module to transform a string into a literal value, a list, a tuple or any other container object)"
   ],
   "metadata": {
    "collapsed": false
   }
  },
  {
   "cell_type": "markdown",
   "source": [
    "### Missing values and value counts\n",
    "- `sb.heatmap()`, e.g. `sb.heatmap(<pd.df>.isna(),cbar=False,cmap='viridis')` ([example](https://www.analyticsvidhya.com/blog/2021/08/how-to-perform-exploratory-data-analysis-a-guide-for-beginners/))\n",
    "- `<pd.df>.isna()` (`<pd.df>.isnull()`), `<pd.df>.isna().sum()` (`<pd.df>.isnull().sum`) ([example](https://www.analyticsvidhya.com/blog/2021/08/how-to-perform-exploratory-data-analysis-a-guide-for-beginners/))\n",
    "- `<pd.df>['<column>'].value_counts()` (shows only the rows without NAs (default: dropna=True), check shape)\n",
    "- `<pd.df>['<column>'].value_counts(normalize=True)` (show proportions, rather than frequencies)\n",
    "- `<pd.Series>.dropna(how='all'/'any', inplace=True)` (return a new `<pd.Series>` object with missing values removed)\n",
    "\n",
    "The `cmap` parameter of `sb.heatmap()` denotes a [Matplotlib colormap](https://matplotlib.org/stable/tutorials/colors/colormaps.html#classes-of-colormaps) (`viridis`, `cividis`, `tab20`, `winter`, `BuPu_r`, `ocean`,...)."
   ],
   "metadata": {
    "collapsed": false
   }
  },
  {
   "cell_type": "markdown",
   "source": [
    "### Examining individual data items, rows and columns\n",
    "- `<pd.df>.sample()`\n",
    "- Simple indexing and fancy indexing: `<pd.df>.iloc[]`, `<pd.df>.loc[]`\n",
    "- `<pd.df>.index`, `<pd.df>.index[<from>:<to>]`, `<pd.df>.reset_index(drop=True, inplace=True)`\n",
    "- Indexing using list of values: `<pd.df>.loc[<pd.df>.<column>.isin(<list of values>)]` (select those observations where the value of `<column>` is in the `<list of values>`)\n",
    "- Indexing in data stats: `<pd.df>.describe().loc['50%', '<column_name>']` (select the median of `<column_name>` from the `<pd.df>` stats computed by `describe()`)"
   ],
   "metadata": {
    "collapsed": false
   }
  },
  {
   "cell_type": "markdown",
   "source": [
    "### Grouping and sorting data\n",
    "- `<pd.df>['<column>'].unique()`, `<pd.df>['<column>'].nunique()`\n",
    "- `<pd.df>['<column>'].groupby()`, `<pd.df>['<column>'].groupby().get_group()`\n",
    "- `<pd.df>['<column>'].value_counts()`, `<pd.df>['<column>'].value_counts().sort_index()`, `<pd.df>['<column>'].value_counts().sort_index(inplace=True)`\n",
    "- `<pd.df>.sort_values(by='<column name>', ascending=False/True)`\n",
    "- `<pd.df>.groupby('<column>').<another column>.<f()>.sort_values(ascending=False)` (aggregate using function `f()`, e.g. `mean()`)\n",
    "- `<pd.df>.groupby('<column>').<another column>.agg(['<f1 name>', '<f2 name>', ...])` (aggregate using multiple functions, e.g. `mean()`, `count()`,...)\n",
    "\n",
    "If `sort_values()` is used after `agg(['f1 name>', '<f2 name>', ...])` (`agg(['<f1 name>', '<f2 name>', ...]).sort_values(by='<f name>', ascending=False)`), it must be passed one positional argument (`by='<f name>'`) before the optional `ascending=False`.\n"
   ],
   "metadata": {
    "collapsed": false
   }
  },
  {
   "cell_type": "markdown",
   "source": [
    "### Data transformations\n",
    "- `<pd.df>.describe()`\n",
    "- `pd.to_numeric(<pd.DataFrame object>['<column name>'], errors='coerce')`, `pd.DataFrame.to_numpy()`, `pd.Series.to_numpy()`, `pd.to_datetime()`, ...\n",
    "- `<pd.df>.<column>.apply(<f_name>)` (apply the <f_name> function to all elements of each element of the `<column>`; for example, each element of the `<column>` can be a list of other elements)\n"
   ],
   "metadata": {
    "collapsed": false
   }
  },
  {
   "cell_type": "markdown",
   "source": [
    "### Exploring correlations\n",
    "Explore correlations between the (numerical) columns. \n",
    "- `sb.heatmap()`\n",
    "- [Example](https://www.analyticsvidhya.com/blog/2021/08/how-to-perform-exploratory-data-analysis-a-guide-for-beginners/)"
   ],
   "metadata": {
    "collapsed": false
   }
  },
  {
   "cell_type": "markdown",
   "source": [
    "### Data visualization\n",
    "Plot some bargraphs, scatterplots, boxplots,...\n",
    "- [Example](https://www.analyticsvidhya.com/blog/2021/08/how-to-perform-exploratory-data-analysis-a-guide-for-beginners/)"
   ],
   "metadata": {
    "collapsed": false
   }
  },
  {
   "cell_type": "markdown",
   "source": [
    "### Other\n",
    "[Other interesting ideas and different ways of using the things from above](https://realpython.com/pandas-python-explore-dataset/#exploring-your-dataset) (see the rest from [that article](https://realpython.com/pandas-python-explore-dataset/) as well)."
   ],
   "metadata": {
    "collapsed": false
   }
  },
  {
   "cell_type": "markdown",
   "source": [
    "## Import and configure packages\n",
    "The `%run` magic might not work well in DataSpell, thus the following `import` statements are copied here from *import_packages.ipynb*:"
   ],
   "metadata": {
    "collapsed": false
   }
  },
  {
   "cell_type": "code",
   "source": [
    "from plotnine.data import columns\n",
    "%run \"../notebooks/import_packages.ipynb\""
   ],
   "metadata": {
    "collapsed": false
   },
   "outputs": [],
   "execution_count": null
  },
  {
   "cell_type": "code",
   "source": [
    "%matplotlib inline\n",
    "\n",
    "import pandas as pd\n",
    "import numpy as np\n",
    "# import matplotlib as mpl\n",
    "import matplotlib.pyplot as plt\n",
    "plt.style.use('classic')\n",
    "import seaborn as sb"
   ],
   "metadata": {
    "collapsed": false,
    "ExecuteTime": {
     "end_time": "2025-05-21T21:39:40.197555Z",
     "start_time": "2025-05-21T21:39:40.162581Z"
    }
   },
   "outputs": [],
   "execution_count": 1
  },
  {
   "cell_type": "markdown",
   "source": "## Introducing grunge datasets",
   "metadata": {
    "collapsed": false
   }
  },
  {
   "cell_type": "markdown",
   "source": [
    "### Available datasets\n",
    "Relevant datasets, located in the *data* folder:\n",
    "* *grunge.csv* - complete raw dataset, located in the *data* folder; copied directly from [this Kaggle dataset](https://www.kaggle.com/datasets/anavui/grunge-bands-dataset), developed by [Ana Vucic](https://www.kaggle.com/anavui)\n",
    "* *pearl_jam_v1.csv*, *pearl_jam_v2.csv*, *pearl_jam_v3.csv* - incomplete raw Pearl Jam datasets"
   ],
   "metadata": {
    "collapsed": false
   }
  },
  {
   "cell_type": "markdown",
   "source": [
    "### Read the *csv* file containing one of the available datasets describing grunge songs\n",
    "`pd.read_csv()` returns a `pd.DataFrame` object.\n",
    "\n",
    "As for specifying the path of the dataset properly, see [this](https://stackoverflow.com/questions/35384358/how-to-open-my-files-in-data-folder-with-pandas-using-relative-path) (more specifically, **both** [this](https://stackoverflow.com/a/35384414/1899061) and [this](https://stackoverflow.com/a/43600253/1899061))."
   ],
   "metadata": {
    "collapsed": false
   }
  },
  {
   "cell_type": "code",
   "source": [
    "# Get the songs as a pd.DataFrame object from 'data/grunge_v1.csv', \n",
    "# or from '../data/grunge_v1.csv', \n",
    "# or '../../data/grunge_v1.csv', \n",
    "# or ..., \n",
    "# depending on where the csv file is located\n",
    "\n",
    "songs = pd.read_csv('../data/grunge_v1.csv')\n",
    "type(songs)\n",
    "songs\n",
    "\n",
    "# If an int column contains NaN values, read_csv() sets all values to float values, because NaN are internally\n",
    "# represented as float values. To read the int columns as int values and still preserve NaN values where they \n",
    "# exist, see this: https://stackoverflow.com/a/72323514. \n",
    "# The trick is: df = pd.read_csv('file.csv', dtype={'a': 'Int32', 'b': 'Int32'}), assuming that 'a' and 'b' \n",
    "# columns contain int and NaN values."
   ],
   "metadata": {
    "collapsed": false,
    "ExecuteTime": {
     "end_time": "2025-05-21T21:45:43.219451Z",
     "start_time": "2025-05-21T21:45:43.178665Z"
    }
   },
   "outputs": [
    {
     "data": {
      "text/plain": [
       "            track_name        album_name    album_type  duration  \\\n",
       "0                 Blew            Bleach  studio album       174   \n",
       "1     Floyd The Barber            Bleach  studio album       138   \n",
       "2         About A Girl            Bleach  studio album       168   \n",
       "3               School            Bleach  studio album       162   \n",
       "4            Love Buzz            Bleach  studio album       215   \n",
       "..                 ...               ...           ...       ...   \n",
       "702            I Awake  Louder Than Love  studio album       261   \n",
       "703  No Wrong No Right  Louder Than Love  studio album       287   \n",
       "704          Uncovered  Louder Than Love  studio album       270   \n",
       "705       Big Dumb Sex  Louder Than Love  studio album       251   \n",
       "706            Full On  Louder Than Love  studio album       162   \n",
       "\n",
       "     release_year      artists  acousticness  danceability  energy  \\\n",
       "0            1989      Nirvana      0.000006         0.411   0.882   \n",
       "1            1989      Nirvana      0.000788         0.443   0.878   \n",
       "2            1989      Nirvana      0.000005         0.413   0.875   \n",
       "3            1989      Nirvana      0.000012         0.210   0.943   \n",
       "4            1989      Nirvana      0.000031         0.479   0.865   \n",
       "..            ...          ...           ...           ...     ...   \n",
       "702          1989  Soundgarden      0.311000         0.568   0.626   \n",
       "703          1989  Soundgarden      0.032300         0.304   0.718   \n",
       "704          1989  Soundgarden      0.248000         0.379   0.820   \n",
       "705          1989  Soundgarden      0.005510         0.267   0.848   \n",
       "706          1989  Soundgarden      0.123000         0.270   0.638   \n",
       "\n",
       "     instrumentalness  ...  rock_digital_song_sales_peak_date  \\\n",
       "0            0.014700  ...                                NaN   \n",
       "1            0.560000  ...                                NaN   \n",
       "2            0.000580  ...                                NaN   \n",
       "3            0.493000  ...                                NaN   \n",
       "4            0.228000  ...                                NaN   \n",
       "..                ...  ...                                ...   \n",
       "702          0.148000  ...                                NaN   \n",
       "703          0.000034  ...                                NaN   \n",
       "704          0.000869  ...                                NaN   \n",
       "705          0.000491  ...                                NaN   \n",
       "706          0.051800  ...                                NaN   \n",
       "\n",
       "     rock_digital_song_sales_weaks_on_chart  \\\n",
       "0                                       NaN   \n",
       "1                                       NaN   \n",
       "2                                       NaN   \n",
       "3                                       NaN   \n",
       "4                                       NaN   \n",
       "..                                      ...   \n",
       "702                                     NaN   \n",
       "703                                     NaN   \n",
       "704                                     NaN   \n",
       "705                                     NaN   \n",
       "706                                     NaN   \n",
       "\n",
       "     alternative_digital_song_sales_debut_date  \\\n",
       "0                                          NaN   \n",
       "1                                          NaN   \n",
       "2                                          NaN   \n",
       "3                                          NaN   \n",
       "4                                          NaN   \n",
       "..                                         ...   \n",
       "702                                        NaN   \n",
       "703                                        NaN   \n",
       "704                                        NaN   \n",
       "705                                        NaN   \n",
       "706                                        NaN   \n",
       "\n",
       "     alternative_digital_song_sales_peak_pos  \\\n",
       "0                                        NaN   \n",
       "1                                        NaN   \n",
       "2                                        NaN   \n",
       "3                                        NaN   \n",
       "4                                        NaN   \n",
       "..                                       ...   \n",
       "702                                      NaN   \n",
       "703                                      NaN   \n",
       "704                                      NaN   \n",
       "705                                      NaN   \n",
       "706                                      NaN   \n",
       "\n",
       "     alternative_digital_song_sales_peak_date  \\\n",
       "0                                         NaN   \n",
       "1                                         NaN   \n",
       "2                                         NaN   \n",
       "3                                         NaN   \n",
       "4                                         NaN   \n",
       "..                                        ...   \n",
       "702                                       NaN   \n",
       "703                                       NaN   \n",
       "704                                       NaN   \n",
       "705                                       NaN   \n",
       "706                                       NaN   \n",
       "\n",
       "     alternative_digital_song_sales_weaks_on_chart  \\\n",
       "0                                              NaN   \n",
       "1                                              NaN   \n",
       "2                                              NaN   \n",
       "3                                              NaN   \n",
       "4                                              NaN   \n",
       "..                                             ...   \n",
       "702                                            NaN   \n",
       "703                                            NaN   \n",
       "704                                            NaN   \n",
       "705                                            NaN   \n",
       "706                                            NaN   \n",
       "\n",
       "     canadian_digital_song_sales_debut_date  \\\n",
       "0                                       NaN   \n",
       "1                                       NaN   \n",
       "2                                       NaN   \n",
       "3                                       NaN   \n",
       "4                                       NaN   \n",
       "..                                      ...   \n",
       "702                                     NaN   \n",
       "703                                     NaN   \n",
       "704                                     NaN   \n",
       "705                                     NaN   \n",
       "706                                     NaN   \n",
       "\n",
       "     canadian_digital_song_sales_peak_pos  \\\n",
       "0                                     NaN   \n",
       "1                                     NaN   \n",
       "2                                     NaN   \n",
       "3                                     NaN   \n",
       "4                                     NaN   \n",
       "..                                    ...   \n",
       "702                                   NaN   \n",
       "703                                   NaN   \n",
       "704                                   NaN   \n",
       "705                                   NaN   \n",
       "706                                   NaN   \n",
       "\n",
       "    canadian_digital_song_sales_peak_date  \\\n",
       "0                                     NaN   \n",
       "1                                     NaN   \n",
       "2                                     NaN   \n",
       "3                                     NaN   \n",
       "4                                     NaN   \n",
       "..                                    ...   \n",
       "702                                   NaN   \n",
       "703                                   NaN   \n",
       "704                                   NaN   \n",
       "705                                   NaN   \n",
       "706                                   NaN   \n",
       "\n",
       "    canadian_digital_song_sales_weaks_on_chart  \n",
       "0                                          NaN  \n",
       "1                                          NaN  \n",
       "2                                          NaN  \n",
       "3                                          NaN  \n",
       "4                                          NaN  \n",
       "..                                         ...  \n",
       "702                                        NaN  \n",
       "703                                        NaN  \n",
       "704                                        NaN  \n",
       "705                                        NaN  \n",
       "706                                        NaN  \n",
       "\n",
       "[707 rows x 97 columns]"
      ],
      "text/html": [
       "<div>\n",
       "<style scoped>\n",
       "    .dataframe tbody tr th:only-of-type {\n",
       "        vertical-align: middle;\n",
       "    }\n",
       "\n",
       "    .dataframe tbody tr th {\n",
       "        vertical-align: top;\n",
       "    }\n",
       "\n",
       "    .dataframe thead th {\n",
       "        text-align: right;\n",
       "    }\n",
       "</style>\n",
       "<table border=\"1\" class=\"dataframe\">\n",
       "  <thead>\n",
       "    <tr style=\"text-align: right;\">\n",
       "      <th></th>\n",
       "      <th>track_name</th>\n",
       "      <th>album_name</th>\n",
       "      <th>album_type</th>\n",
       "      <th>duration</th>\n",
       "      <th>release_year</th>\n",
       "      <th>artists</th>\n",
       "      <th>acousticness</th>\n",
       "      <th>danceability</th>\n",
       "      <th>energy</th>\n",
       "      <th>instrumentalness</th>\n",
       "      <th>...</th>\n",
       "      <th>rock_digital_song_sales_peak_date</th>\n",
       "      <th>rock_digital_song_sales_weaks_on_chart</th>\n",
       "      <th>alternative_digital_song_sales_debut_date</th>\n",
       "      <th>alternative_digital_song_sales_peak_pos</th>\n",
       "      <th>alternative_digital_song_sales_peak_date</th>\n",
       "      <th>alternative_digital_song_sales_weaks_on_chart</th>\n",
       "      <th>canadian_digital_song_sales_debut_date</th>\n",
       "      <th>canadian_digital_song_sales_peak_pos</th>\n",
       "      <th>canadian_digital_song_sales_peak_date</th>\n",
       "      <th>canadian_digital_song_sales_weaks_on_chart</th>\n",
       "    </tr>\n",
       "  </thead>\n",
       "  <tbody>\n",
       "    <tr>\n",
       "      <th>0</th>\n",
       "      <td>Blew</td>\n",
       "      <td>Bleach</td>\n",
       "      <td>studio album</td>\n",
       "      <td>174</td>\n",
       "      <td>1989</td>\n",
       "      <td>Nirvana</td>\n",
       "      <td>0.000006</td>\n",
       "      <td>0.411</td>\n",
       "      <td>0.882</td>\n",
       "      <td>0.014700</td>\n",
       "      <td>...</td>\n",
       "      <td>NaN</td>\n",
       "      <td>NaN</td>\n",
       "      <td>NaN</td>\n",
       "      <td>NaN</td>\n",
       "      <td>NaN</td>\n",
       "      <td>NaN</td>\n",
       "      <td>NaN</td>\n",
       "      <td>NaN</td>\n",
       "      <td>NaN</td>\n",
       "      <td>NaN</td>\n",
       "    </tr>\n",
       "    <tr>\n",
       "      <th>1</th>\n",
       "      <td>Floyd The Barber</td>\n",
       "      <td>Bleach</td>\n",
       "      <td>studio album</td>\n",
       "      <td>138</td>\n",
       "      <td>1989</td>\n",
       "      <td>Nirvana</td>\n",
       "      <td>0.000788</td>\n",
       "      <td>0.443</td>\n",
       "      <td>0.878</td>\n",
       "      <td>0.560000</td>\n",
       "      <td>...</td>\n",
       "      <td>NaN</td>\n",
       "      <td>NaN</td>\n",
       "      <td>NaN</td>\n",
       "      <td>NaN</td>\n",
       "      <td>NaN</td>\n",
       "      <td>NaN</td>\n",
       "      <td>NaN</td>\n",
       "      <td>NaN</td>\n",
       "      <td>NaN</td>\n",
       "      <td>NaN</td>\n",
       "    </tr>\n",
       "    <tr>\n",
       "      <th>2</th>\n",
       "      <td>About A Girl</td>\n",
       "      <td>Bleach</td>\n",
       "      <td>studio album</td>\n",
       "      <td>168</td>\n",
       "      <td>1989</td>\n",
       "      <td>Nirvana</td>\n",
       "      <td>0.000005</td>\n",
       "      <td>0.413</td>\n",
       "      <td>0.875</td>\n",
       "      <td>0.000580</td>\n",
       "      <td>...</td>\n",
       "      <td>NaN</td>\n",
       "      <td>NaN</td>\n",
       "      <td>NaN</td>\n",
       "      <td>NaN</td>\n",
       "      <td>NaN</td>\n",
       "      <td>NaN</td>\n",
       "      <td>NaN</td>\n",
       "      <td>NaN</td>\n",
       "      <td>NaN</td>\n",
       "      <td>NaN</td>\n",
       "    </tr>\n",
       "    <tr>\n",
       "      <th>3</th>\n",
       "      <td>School</td>\n",
       "      <td>Bleach</td>\n",
       "      <td>studio album</td>\n",
       "      <td>162</td>\n",
       "      <td>1989</td>\n",
       "      <td>Nirvana</td>\n",
       "      <td>0.000012</td>\n",
       "      <td>0.210</td>\n",
       "      <td>0.943</td>\n",
       "      <td>0.493000</td>\n",
       "      <td>...</td>\n",
       "      <td>NaN</td>\n",
       "      <td>NaN</td>\n",
       "      <td>NaN</td>\n",
       "      <td>NaN</td>\n",
       "      <td>NaN</td>\n",
       "      <td>NaN</td>\n",
       "      <td>NaN</td>\n",
       "      <td>NaN</td>\n",
       "      <td>NaN</td>\n",
       "      <td>NaN</td>\n",
       "    </tr>\n",
       "    <tr>\n",
       "      <th>4</th>\n",
       "      <td>Love Buzz</td>\n",
       "      <td>Bleach</td>\n",
       "      <td>studio album</td>\n",
       "      <td>215</td>\n",
       "      <td>1989</td>\n",
       "      <td>Nirvana</td>\n",
       "      <td>0.000031</td>\n",
       "      <td>0.479</td>\n",
       "      <td>0.865</td>\n",
       "      <td>0.228000</td>\n",
       "      <td>...</td>\n",
       "      <td>NaN</td>\n",
       "      <td>NaN</td>\n",
       "      <td>NaN</td>\n",
       "      <td>NaN</td>\n",
       "      <td>NaN</td>\n",
       "      <td>NaN</td>\n",
       "      <td>NaN</td>\n",
       "      <td>NaN</td>\n",
       "      <td>NaN</td>\n",
       "      <td>NaN</td>\n",
       "    </tr>\n",
       "    <tr>\n",
       "      <th>...</th>\n",
       "      <td>...</td>\n",
       "      <td>...</td>\n",
       "      <td>...</td>\n",
       "      <td>...</td>\n",
       "      <td>...</td>\n",
       "      <td>...</td>\n",
       "      <td>...</td>\n",
       "      <td>...</td>\n",
       "      <td>...</td>\n",
       "      <td>...</td>\n",
       "      <td>...</td>\n",
       "      <td>...</td>\n",
       "      <td>...</td>\n",
       "      <td>...</td>\n",
       "      <td>...</td>\n",
       "      <td>...</td>\n",
       "      <td>...</td>\n",
       "      <td>...</td>\n",
       "      <td>...</td>\n",
       "      <td>...</td>\n",
       "      <td>...</td>\n",
       "    </tr>\n",
       "    <tr>\n",
       "      <th>702</th>\n",
       "      <td>I Awake</td>\n",
       "      <td>Louder Than Love</td>\n",
       "      <td>studio album</td>\n",
       "      <td>261</td>\n",
       "      <td>1989</td>\n",
       "      <td>Soundgarden</td>\n",
       "      <td>0.311000</td>\n",
       "      <td>0.568</td>\n",
       "      <td>0.626</td>\n",
       "      <td>0.148000</td>\n",
       "      <td>...</td>\n",
       "      <td>NaN</td>\n",
       "      <td>NaN</td>\n",
       "      <td>NaN</td>\n",
       "      <td>NaN</td>\n",
       "      <td>NaN</td>\n",
       "      <td>NaN</td>\n",
       "      <td>NaN</td>\n",
       "      <td>NaN</td>\n",
       "      <td>NaN</td>\n",
       "      <td>NaN</td>\n",
       "    </tr>\n",
       "    <tr>\n",
       "      <th>703</th>\n",
       "      <td>No Wrong No Right</td>\n",
       "      <td>Louder Than Love</td>\n",
       "      <td>studio album</td>\n",
       "      <td>287</td>\n",
       "      <td>1989</td>\n",
       "      <td>Soundgarden</td>\n",
       "      <td>0.032300</td>\n",
       "      <td>0.304</td>\n",
       "      <td>0.718</td>\n",
       "      <td>0.000034</td>\n",
       "      <td>...</td>\n",
       "      <td>NaN</td>\n",
       "      <td>NaN</td>\n",
       "      <td>NaN</td>\n",
       "      <td>NaN</td>\n",
       "      <td>NaN</td>\n",
       "      <td>NaN</td>\n",
       "      <td>NaN</td>\n",
       "      <td>NaN</td>\n",
       "      <td>NaN</td>\n",
       "      <td>NaN</td>\n",
       "    </tr>\n",
       "    <tr>\n",
       "      <th>704</th>\n",
       "      <td>Uncovered</td>\n",
       "      <td>Louder Than Love</td>\n",
       "      <td>studio album</td>\n",
       "      <td>270</td>\n",
       "      <td>1989</td>\n",
       "      <td>Soundgarden</td>\n",
       "      <td>0.248000</td>\n",
       "      <td>0.379</td>\n",
       "      <td>0.820</td>\n",
       "      <td>0.000869</td>\n",
       "      <td>...</td>\n",
       "      <td>NaN</td>\n",
       "      <td>NaN</td>\n",
       "      <td>NaN</td>\n",
       "      <td>NaN</td>\n",
       "      <td>NaN</td>\n",
       "      <td>NaN</td>\n",
       "      <td>NaN</td>\n",
       "      <td>NaN</td>\n",
       "      <td>NaN</td>\n",
       "      <td>NaN</td>\n",
       "    </tr>\n",
       "    <tr>\n",
       "      <th>705</th>\n",
       "      <td>Big Dumb Sex</td>\n",
       "      <td>Louder Than Love</td>\n",
       "      <td>studio album</td>\n",
       "      <td>251</td>\n",
       "      <td>1989</td>\n",
       "      <td>Soundgarden</td>\n",
       "      <td>0.005510</td>\n",
       "      <td>0.267</td>\n",
       "      <td>0.848</td>\n",
       "      <td>0.000491</td>\n",
       "      <td>...</td>\n",
       "      <td>NaN</td>\n",
       "      <td>NaN</td>\n",
       "      <td>NaN</td>\n",
       "      <td>NaN</td>\n",
       "      <td>NaN</td>\n",
       "      <td>NaN</td>\n",
       "      <td>NaN</td>\n",
       "      <td>NaN</td>\n",
       "      <td>NaN</td>\n",
       "      <td>NaN</td>\n",
       "    </tr>\n",
       "    <tr>\n",
       "      <th>706</th>\n",
       "      <td>Full On</td>\n",
       "      <td>Louder Than Love</td>\n",
       "      <td>studio album</td>\n",
       "      <td>162</td>\n",
       "      <td>1989</td>\n",
       "      <td>Soundgarden</td>\n",
       "      <td>0.123000</td>\n",
       "      <td>0.270</td>\n",
       "      <td>0.638</td>\n",
       "      <td>0.051800</td>\n",
       "      <td>...</td>\n",
       "      <td>NaN</td>\n",
       "      <td>NaN</td>\n",
       "      <td>NaN</td>\n",
       "      <td>NaN</td>\n",
       "      <td>NaN</td>\n",
       "      <td>NaN</td>\n",
       "      <td>NaN</td>\n",
       "      <td>NaN</td>\n",
       "      <td>NaN</td>\n",
       "      <td>NaN</td>\n",
       "    </tr>\n",
       "  </tbody>\n",
       "</table>\n",
       "<p>707 rows × 97 columns</p>\n",
       "</div>"
      ]
     },
     "execution_count": 3,
     "metadata": {},
     "output_type": "execute_result"
    }
   ],
   "execution_count": 3
  },
  {
   "cell_type": "markdown",
   "source": [
    "### Explore the dataset (first steps)"
   ],
   "metadata": {
    "collapsed": false
   }
  },
  {
   "cell_type": "markdown",
   "source": [
    "##### Initial examination and adaptations\n",
    "- `<pd.df>.shape`, `<pd.df>.head()`, `<pd.df>.tail()`, `<pd.df>.sample()`, `<pd.df>.dtypes`, `<pd.df>.info()`, `<pd.df>.describe()`\n",
    "- `<pd.df>.loc[...]`, `<pd.df>.iloc[...]` - examine individual cells, columns, rows\n",
    "    - `loc` works with conditions and column names, `iloc` with numerical indices\n",
    "    - in both `loc` and `iloc`, multiple columns can be specified as a list of column names, and `:` in each index position means 'all'\n",
    "    - in `iloc`, both index positions can be specified as lists of numeric values\n",
    "- `<pd.df>.columns`, `<pd.df>.columns.values`, `<pd.df>.columns.values.tolist()` (or `<pd.df>.columns.values.to_list()`), `<pd.df>.values`\n",
    "- `<pd.df>.rename({'<column_1 old name>':'<column_1 new name>', '<column_2 old name>':'<column_2 new name>', ...}, axis='columns')`, `<pd.df>.columns = ['<column_1 name>', '<column_2 name>', ...]` (change the names of all columns in <pd.df>)\n",
    "- `ast.literal_eval()` (using Python's *ast* module to transform a string into a literal value, a list, a tuple or any other container object)"
   ],
   "metadata": {
    "collapsed": false
   }
  },
  {
   "cell_type": "markdown",
   "source": [
    "###### A sneak peek into the dataset\n",
    "- `<pd.df>.shape`, `<pd.df>.head()`, `<pd.df>.tail()`, `<pd.df>.sample()`, `<pd.df>.dtypes`, **<u>`<pd.df>.info()`**</u>, `<pd.df>.describe()` (shows descriptive statistics for numerical columns only).\n",
    "\n",
    "When calling `display()` on a method like `<pd.df>.head()`, `<pd.df>.tail()` and `<pd.df>.sample()`, only a certain default number of columns is displayed. To display *all* columns, use `pd.set_option('display.max_columns', None)` first. To display `<n>` columns, use `pd.set_option('display.max_columns', <n>)` first. "
   ],
   "metadata": {
    "collapsed": false
   }
  },
  {
   "cell_type": "code",
   "source": [
    "songs.shape\n",
    "songs.head(10)\n",
    "songs.tail(5)\n",
    "songs.sample(10)\n",
    "songs.dtypes\n",
    "songs.info()\n",
    "songs.describe()"
   ],
   "metadata": {
    "collapsed": false,
    "ExecuteTime": {
     "end_time": "2025-05-21T22:00:37.862549Z",
     "start_time": "2025-05-21T22:00:37.790361Z"
    }
   },
   "outputs": [
    {
     "name": "stdout",
     "output_type": "stream",
     "text": [
      "<class 'pandas.core.frame.DataFrame'>\n",
      "RangeIndex: 707 entries, 0 to 706\n",
      "Data columns (total 97 columns):\n",
      " #   Column                                         Non-Null Count  Dtype  \n",
      "---  ------                                         --------------  -----  \n",
      " 0   track_name                                     707 non-null    object \n",
      " 1   album_name                                     707 non-null    object \n",
      " 2   album_type                                     707 non-null    object \n",
      " 3   duration                                       707 non-null    int64  \n",
      " 4   release_year                                   707 non-null    int64  \n",
      " 5   artists                                        707 non-null    object \n",
      " 6   acousticness                                   707 non-null    float64\n",
      " 7   danceability                                   707 non-null    float64\n",
      " 8   energy                                         707 non-null    float64\n",
      " 9   instrumentalness                               707 non-null    float64\n",
      " 10  key                                            707 non-null    int64  \n",
      " 11  liveness                                       707 non-null    float64\n",
      " 12  loudness                                       707 non-null    float64\n",
      " 13  mode                                           707 non-null    int64  \n",
      " 14  speechiness                                    707 non-null    float64\n",
      " 15  tempo                                          707 non-null    float64\n",
      " 16  time_signature                                 707 non-null    int64  \n",
      " 17  valence                                        707 non-null    float64\n",
      " 18  producers                                      285 non-null    object \n",
      " 19  writers                                        372 non-null    object \n",
      " 20  track_composers                                658 non-null    object \n",
      " 21  track_genres                                   571 non-null    object \n",
      " 22  track_styles                                   572 non-null    object \n",
      " 23  track_moods                                    567 non-null    object \n",
      " 24  track_themes                                   419 non-null    object \n",
      " 25  album_duration                                 662 non-null    object \n",
      " 26  album_genres                                   236 non-null    object \n",
      " 27  album_styles                                   663 non-null    object \n",
      " 28  album_recording_date                           333 non-null    object \n",
      " 29  album_recording_location                       311 non-null    object \n",
      " 30  album_moods                                    644 non-null    object \n",
      " 31  album_themes                                   627 non-null    object \n",
      " 32  album_rating                                   646 non-null    float64\n",
      " 33  billboard_hot_100_debut_date                   12 non-null     object \n",
      " 34  billboard_hot_100_peak_pos                     12 non-null     float64\n",
      " 35  billboard_hot_100_peak_date                    12 non-null     object \n",
      " 36  billboard_hot_100_weaks_on_chart               12 non-null     float64\n",
      " 37  radio_songs_debut_date                         17 non-null     object \n",
      " 38  radio_songs_peak_pos                           17 non-null     float64\n",
      " 39  radio_songs_peak_date                          17 non-null     object \n",
      " 40  radio_songs_weaks_on_chart                     17 non-null     float64\n",
      " 41  digital_song_sales_debut_date                  8 non-null      object \n",
      " 42  digital_song_sales_peak_pos                    8 non-null      float64\n",
      " 43  digital_song_sales_peak_date                   8 non-null      object \n",
      " 44  digital_song_sales_weaks_on_chart              8 non-null      float64\n",
      " 45  billboard_global_200_debut_date                2 non-null      object \n",
      " 46  billboard_global_200_peak_pos                  2 non-null      float64\n",
      " 47  billboard_global_200_peak_date                 2 non-null      object \n",
      " 48  billboard_global_200_weaks_on_chart            2 non-null      float64\n",
      " 49  mainstream_rock_airplay_debut_date             19 non-null     object \n",
      " 50  mainstream_rock_airplay_peak_pos               19 non-null     float64\n",
      " 51  mainstream_rock_airplay_peak_date              19 non-null     object \n",
      " 52  mainstream_rock_airplay_weaks_on_chart         19 non-null     float64\n",
      " 53  alternative_airplay_debut_date                 19 non-null     object \n",
      " 54  alternative_airplay_peak_pos                   19 non-null     float64\n",
      " 55  alternative_airplay_peak_date                  19 non-null     object \n",
      " 56  alternative_airplay_weaks_on_chart             19 non-null     float64\n",
      " 57  rock_streaming_songs_debut_date                3 non-null      object \n",
      " 58  rock_streaming_songs_peak_pos                  3 non-null      float64\n",
      " 59  rock_streaming_songs_peak_date                 3 non-null      object \n",
      " 60  rock_streaming_songs_weaks_on_chart            3 non-null      float64\n",
      " 61  hot_alternative_songs_debut_date               3 non-null      object \n",
      " 62  hot_alternative_songs_peak_pos                 3 non-null      float64\n",
      " 63  hot_alternative_songs_peak_date                3 non-null      object \n",
      " 64  hot_alternative_songs_weaks_on_chart           3 non-null      float64\n",
      " 65  alternative_streaming_songs_debut_date         2 non-null      object \n",
      " 66  alternative_streaming_songs_peak_pos           2 non-null      float64\n",
      " 67  alternative_streaming_songs_peak_date          2 non-null      object \n",
      " 68  alternative_streaming_songs_weaks_on_chart     2 non-null      float64\n",
      " 69  hot_rock_songs_debut_date                      17 non-null     object \n",
      " 70  hot_rock_songs_peak_pos                        17 non-null     float64\n",
      " 71  hot_rock_songs_peak_date                       17 non-null     object \n",
      " 72  hot_rock_songs_weaks_on_chart                  17 non-null     float64\n",
      " 73  lyricfind_global_debut_date                    13 non-null     object \n",
      " 74  lyricfind_global_peak_pos                      13 non-null     float64\n",
      " 75  lyricfind_global_peak_date                     13 non-null     object \n",
      " 76  lyricfind_global_weaks_on_chart                13 non-null     float64\n",
      " 77  lyricfind_u.s._debut_date                      15 non-null     object \n",
      " 78  lyricfind_u.s._peak_pos                        15 non-null     float64\n",
      " 79  lyricfind_u.s._peak_date                       15 non-null     object \n",
      " 80  lyricfind_u.s._weaks_on_chart                  15 non-null     float64\n",
      " 81  hot_rock_&_alternative_songs_debut_date        16 non-null     object \n",
      " 82  hot_rock_&_alternative_songs_peak_pos          16 non-null     float64\n",
      " 83  hot_rock_&_alternative_songs_peak_date         16 non-null     object \n",
      " 84  hot_rock_&_alternative_songs_weaks_on_chart    16 non-null     float64\n",
      " 85  rock_digital_song_sales_debut_date             13 non-null     object \n",
      " 86  rock_digital_song_sales_peak_pos               13 non-null     float64\n",
      " 87  rock_digital_song_sales_peak_date              13 non-null     object \n",
      " 88  rock_digital_song_sales_weaks_on_chart         13 non-null     float64\n",
      " 89  alternative_digital_song_sales_debut_date      10 non-null     object \n",
      " 90  alternative_digital_song_sales_peak_pos        10 non-null     float64\n",
      " 91  alternative_digital_song_sales_peak_date       10 non-null     object \n",
      " 92  alternative_digital_song_sales_weaks_on_chart  10 non-null     float64\n",
      " 93  canadian_digital_song_sales_debut_date         10 non-null     object \n",
      " 94  canadian_digital_song_sales_peak_pos           10 non-null     float64\n",
      " 95  canadian_digital_song_sales_peak_date          10 non-null     object \n",
      " 96  canadian_digital_song_sales_weaks_on_chart     10 non-null     float64\n",
      "dtypes: float64(42), int64(5), object(50)\n",
      "memory usage: 535.9+ KB\n"
     ]
    },
    {
     "data": {
      "text/plain": [
       "          duration  release_year  acousticness  danceability      energy  \\\n",
       "count   707.000000    707.000000    707.000000    707.000000  707.000000   \n",
       "mean    246.612447   2002.432815      0.103595      0.389739    0.783649   \n",
       "std     105.443605      8.620382      0.221362      0.130659    0.193051   \n",
       "min      43.000000   1989.000000      0.000001      0.000000    0.000020   \n",
       "25%     183.500000   1995.000000      0.000193      0.291000    0.693500   \n",
       "50%     239.000000   2001.000000      0.004230      0.388000    0.849000   \n",
       "75%     289.000000   2009.000000      0.057300      0.481500    0.936000   \n",
       "max    1892.000000   2020.000000      0.980000      0.830000    0.994000   \n",
       "\n",
       "       instrumentalness         key    liveness    loudness        mode  ...  \\\n",
       "count        707.000000  707.000000  707.000000  707.000000  707.000000  ...   \n",
       "mean           0.162467    5.543140    0.276558   -7.116041    0.722772  ...   \n",
       "std            0.277173    3.458257    0.253680    2.741851    0.447947  ...   \n",
       "min            0.000000    0.000000    0.028000  -43.205000    0.000000  ...   \n",
       "25%            0.000072    2.000000    0.102000   -8.400500    0.000000  ...   \n",
       "50%            0.004120    6.000000    0.164000   -6.625000    1.000000  ...   \n",
       "75%            0.206500    8.000000    0.355500   -5.398000    1.000000  ...   \n",
       "max            0.988000   11.000000    1.000000   -1.996000    1.000000  ...   \n",
       "\n",
       "       lyricfind_u.s._peak_pos  lyricfind_u.s._weaks_on_chart  \\\n",
       "count                15.000000                      15.000000   \n",
       "mean                  8.066667                       2.533333   \n",
       "std                   7.225616                       2.166850   \n",
       "min                   1.000000                       1.000000   \n",
       "25%                   3.000000                       1.500000   \n",
       "50%                   6.000000                       2.000000   \n",
       "75%                  11.500000                       2.000000   \n",
       "max                  23.000000                       9.000000   \n",
       "\n",
       "       hot_rock_&_alternative_songs_peak_pos  \\\n",
       "count                              16.000000   \n",
       "mean                               12.125000   \n",
       "std                                10.144785   \n",
       "min                                 1.000000   \n",
       "25%                                 4.750000   \n",
       "50%                                10.500000   \n",
       "75%                                17.000000   \n",
       "max                                37.000000   \n",
       "\n",
       "       hot_rock_&_alternative_songs_weaks_on_chart  \\\n",
       "count                                    16.000000   \n",
       "mean                                     14.000000   \n",
       "std                                       9.430447   \n",
       "min                                       2.000000   \n",
       "25%                                       6.250000   \n",
       "50%                                      13.000000   \n",
       "75%                                      21.000000   \n",
       "max                                      29.000000   \n",
       "\n",
       "       rock_digital_song_sales_peak_pos  \\\n",
       "count                         13.000000   \n",
       "mean                          11.076923   \n",
       "std                            8.450459   \n",
       "min                            2.000000   \n",
       "25%                            5.000000   \n",
       "50%                           12.000000   \n",
       "75%                           14.000000   \n",
       "max                           33.000000   \n",
       "\n",
       "       rock_digital_song_sales_weaks_on_chart  \\\n",
       "count                               13.000000   \n",
       "mean                                12.384615   \n",
       "std                                 12.580000   \n",
       "min                                  1.000000   \n",
       "25%                                  3.000000   \n",
       "50%                                  9.000000   \n",
       "75%                                 19.000000   \n",
       "max                                 45.000000   \n",
       "\n",
       "       alternative_digital_song_sales_peak_pos  \\\n",
       "count                                10.000000   \n",
       "mean                                  7.700000   \n",
       "std                                   4.137901   \n",
       "min                                   3.000000   \n",
       "25%                                   3.750000   \n",
       "50%                                   7.500000   \n",
       "75%                                  10.750000   \n",
       "max                                  15.000000   \n",
       "\n",
       "       alternative_digital_song_sales_weaks_on_chart  \\\n",
       "count                                      10.000000   \n",
       "mean                                        8.600000   \n",
       "std                                        12.668421   \n",
       "min                                         1.000000   \n",
       "25%                                         3.000000   \n",
       "50%                                         3.500000   \n",
       "75%                                         9.500000   \n",
       "max                                        43.000000   \n",
       "\n",
       "       canadian_digital_song_sales_peak_pos  \\\n",
       "count                             10.000000   \n",
       "mean                              20.800000   \n",
       "std                               19.640095   \n",
       "min                                1.000000   \n",
       "25%                                2.000000   \n",
       "50%                               20.500000   \n",
       "75%                               30.500000   \n",
       "max                               55.000000   \n",
       "\n",
       "       canadian_digital_song_sales_weaks_on_chart  \n",
       "count                                    10.00000  \n",
       "mean                                     11.90000  \n",
       "std                                      21.07368  \n",
       "min                                       1.00000  \n",
       "25%                                       2.25000  \n",
       "50%                                       3.50000  \n",
       "75%                                       9.50000  \n",
       "max                                      70.00000  \n",
       "\n",
       "[8 rows x 47 columns]"
      ],
      "text/html": [
       "<div>\n",
       "<style scoped>\n",
       "    .dataframe tbody tr th:only-of-type {\n",
       "        vertical-align: middle;\n",
       "    }\n",
       "\n",
       "    .dataframe tbody tr th {\n",
       "        vertical-align: top;\n",
       "    }\n",
       "\n",
       "    .dataframe thead th {\n",
       "        text-align: right;\n",
       "    }\n",
       "</style>\n",
       "<table border=\"1\" class=\"dataframe\">\n",
       "  <thead>\n",
       "    <tr style=\"text-align: right;\">\n",
       "      <th></th>\n",
       "      <th>duration</th>\n",
       "      <th>release_year</th>\n",
       "      <th>acousticness</th>\n",
       "      <th>danceability</th>\n",
       "      <th>energy</th>\n",
       "      <th>instrumentalness</th>\n",
       "      <th>key</th>\n",
       "      <th>liveness</th>\n",
       "      <th>loudness</th>\n",
       "      <th>mode</th>\n",
       "      <th>...</th>\n",
       "      <th>lyricfind_u.s._peak_pos</th>\n",
       "      <th>lyricfind_u.s._weaks_on_chart</th>\n",
       "      <th>hot_rock_&amp;_alternative_songs_peak_pos</th>\n",
       "      <th>hot_rock_&amp;_alternative_songs_weaks_on_chart</th>\n",
       "      <th>rock_digital_song_sales_peak_pos</th>\n",
       "      <th>rock_digital_song_sales_weaks_on_chart</th>\n",
       "      <th>alternative_digital_song_sales_peak_pos</th>\n",
       "      <th>alternative_digital_song_sales_weaks_on_chart</th>\n",
       "      <th>canadian_digital_song_sales_peak_pos</th>\n",
       "      <th>canadian_digital_song_sales_weaks_on_chart</th>\n",
       "    </tr>\n",
       "  </thead>\n",
       "  <tbody>\n",
       "    <tr>\n",
       "      <th>count</th>\n",
       "      <td>707.000000</td>\n",
       "      <td>707.000000</td>\n",
       "      <td>707.000000</td>\n",
       "      <td>707.000000</td>\n",
       "      <td>707.000000</td>\n",
       "      <td>707.000000</td>\n",
       "      <td>707.000000</td>\n",
       "      <td>707.000000</td>\n",
       "      <td>707.000000</td>\n",
       "      <td>707.000000</td>\n",
       "      <td>...</td>\n",
       "      <td>15.000000</td>\n",
       "      <td>15.000000</td>\n",
       "      <td>16.000000</td>\n",
       "      <td>16.000000</td>\n",
       "      <td>13.000000</td>\n",
       "      <td>13.000000</td>\n",
       "      <td>10.000000</td>\n",
       "      <td>10.000000</td>\n",
       "      <td>10.000000</td>\n",
       "      <td>10.00000</td>\n",
       "    </tr>\n",
       "    <tr>\n",
       "      <th>mean</th>\n",
       "      <td>246.612447</td>\n",
       "      <td>2002.432815</td>\n",
       "      <td>0.103595</td>\n",
       "      <td>0.389739</td>\n",
       "      <td>0.783649</td>\n",
       "      <td>0.162467</td>\n",
       "      <td>5.543140</td>\n",
       "      <td>0.276558</td>\n",
       "      <td>-7.116041</td>\n",
       "      <td>0.722772</td>\n",
       "      <td>...</td>\n",
       "      <td>8.066667</td>\n",
       "      <td>2.533333</td>\n",
       "      <td>12.125000</td>\n",
       "      <td>14.000000</td>\n",
       "      <td>11.076923</td>\n",
       "      <td>12.384615</td>\n",
       "      <td>7.700000</td>\n",
       "      <td>8.600000</td>\n",
       "      <td>20.800000</td>\n",
       "      <td>11.90000</td>\n",
       "    </tr>\n",
       "    <tr>\n",
       "      <th>std</th>\n",
       "      <td>105.443605</td>\n",
       "      <td>8.620382</td>\n",
       "      <td>0.221362</td>\n",
       "      <td>0.130659</td>\n",
       "      <td>0.193051</td>\n",
       "      <td>0.277173</td>\n",
       "      <td>3.458257</td>\n",
       "      <td>0.253680</td>\n",
       "      <td>2.741851</td>\n",
       "      <td>0.447947</td>\n",
       "      <td>...</td>\n",
       "      <td>7.225616</td>\n",
       "      <td>2.166850</td>\n",
       "      <td>10.144785</td>\n",
       "      <td>9.430447</td>\n",
       "      <td>8.450459</td>\n",
       "      <td>12.580000</td>\n",
       "      <td>4.137901</td>\n",
       "      <td>12.668421</td>\n",
       "      <td>19.640095</td>\n",
       "      <td>21.07368</td>\n",
       "    </tr>\n",
       "    <tr>\n",
       "      <th>min</th>\n",
       "      <td>43.000000</td>\n",
       "      <td>1989.000000</td>\n",
       "      <td>0.000001</td>\n",
       "      <td>0.000000</td>\n",
       "      <td>0.000020</td>\n",
       "      <td>0.000000</td>\n",
       "      <td>0.000000</td>\n",
       "      <td>0.028000</td>\n",
       "      <td>-43.205000</td>\n",
       "      <td>0.000000</td>\n",
       "      <td>...</td>\n",
       "      <td>1.000000</td>\n",
       "      <td>1.000000</td>\n",
       "      <td>1.000000</td>\n",
       "      <td>2.000000</td>\n",
       "      <td>2.000000</td>\n",
       "      <td>1.000000</td>\n",
       "      <td>3.000000</td>\n",
       "      <td>1.000000</td>\n",
       "      <td>1.000000</td>\n",
       "      <td>1.00000</td>\n",
       "    </tr>\n",
       "    <tr>\n",
       "      <th>25%</th>\n",
       "      <td>183.500000</td>\n",
       "      <td>1995.000000</td>\n",
       "      <td>0.000193</td>\n",
       "      <td>0.291000</td>\n",
       "      <td>0.693500</td>\n",
       "      <td>0.000072</td>\n",
       "      <td>2.000000</td>\n",
       "      <td>0.102000</td>\n",
       "      <td>-8.400500</td>\n",
       "      <td>0.000000</td>\n",
       "      <td>...</td>\n",
       "      <td>3.000000</td>\n",
       "      <td>1.500000</td>\n",
       "      <td>4.750000</td>\n",
       "      <td>6.250000</td>\n",
       "      <td>5.000000</td>\n",
       "      <td>3.000000</td>\n",
       "      <td>3.750000</td>\n",
       "      <td>3.000000</td>\n",
       "      <td>2.000000</td>\n",
       "      <td>2.25000</td>\n",
       "    </tr>\n",
       "    <tr>\n",
       "      <th>50%</th>\n",
       "      <td>239.000000</td>\n",
       "      <td>2001.000000</td>\n",
       "      <td>0.004230</td>\n",
       "      <td>0.388000</td>\n",
       "      <td>0.849000</td>\n",
       "      <td>0.004120</td>\n",
       "      <td>6.000000</td>\n",
       "      <td>0.164000</td>\n",
       "      <td>-6.625000</td>\n",
       "      <td>1.000000</td>\n",
       "      <td>...</td>\n",
       "      <td>6.000000</td>\n",
       "      <td>2.000000</td>\n",
       "      <td>10.500000</td>\n",
       "      <td>13.000000</td>\n",
       "      <td>12.000000</td>\n",
       "      <td>9.000000</td>\n",
       "      <td>7.500000</td>\n",
       "      <td>3.500000</td>\n",
       "      <td>20.500000</td>\n",
       "      <td>3.50000</td>\n",
       "    </tr>\n",
       "    <tr>\n",
       "      <th>75%</th>\n",
       "      <td>289.000000</td>\n",
       "      <td>2009.000000</td>\n",
       "      <td>0.057300</td>\n",
       "      <td>0.481500</td>\n",
       "      <td>0.936000</td>\n",
       "      <td>0.206500</td>\n",
       "      <td>8.000000</td>\n",
       "      <td>0.355500</td>\n",
       "      <td>-5.398000</td>\n",
       "      <td>1.000000</td>\n",
       "      <td>...</td>\n",
       "      <td>11.500000</td>\n",
       "      <td>2.000000</td>\n",
       "      <td>17.000000</td>\n",
       "      <td>21.000000</td>\n",
       "      <td>14.000000</td>\n",
       "      <td>19.000000</td>\n",
       "      <td>10.750000</td>\n",
       "      <td>9.500000</td>\n",
       "      <td>30.500000</td>\n",
       "      <td>9.50000</td>\n",
       "    </tr>\n",
       "    <tr>\n",
       "      <th>max</th>\n",
       "      <td>1892.000000</td>\n",
       "      <td>2020.000000</td>\n",
       "      <td>0.980000</td>\n",
       "      <td>0.830000</td>\n",
       "      <td>0.994000</td>\n",
       "      <td>0.988000</td>\n",
       "      <td>11.000000</td>\n",
       "      <td>1.000000</td>\n",
       "      <td>-1.996000</td>\n",
       "      <td>1.000000</td>\n",
       "      <td>...</td>\n",
       "      <td>23.000000</td>\n",
       "      <td>9.000000</td>\n",
       "      <td>37.000000</td>\n",
       "      <td>29.000000</td>\n",
       "      <td>33.000000</td>\n",
       "      <td>45.000000</td>\n",
       "      <td>15.000000</td>\n",
       "      <td>43.000000</td>\n",
       "      <td>55.000000</td>\n",
       "      <td>70.00000</td>\n",
       "    </tr>\n",
       "  </tbody>\n",
       "</table>\n",
       "<p>8 rows × 47 columns</p>\n",
       "</div>"
      ]
     },
     "execution_count": 10,
     "metadata": {},
     "output_type": "execute_result"
    }
   ],
   "execution_count": 10
  },
  {
   "cell_type": "markdown",
   "source": [
    "###### Columns\n",
    "- `<pd.df>.columns`, `<pd.df>.columns.values`, `<pd.df>.columns.values.tolist()` (or `<pd.df>.columns.values.to_list()`), `<pd.df>.values`\n",
    "\n",
    "Show the columns of the `songs` object (which is a `pd.DataFrame` object)."
   ],
   "metadata": {
    "collapsed": false
   }
  },
  {
   "cell_type": "code",
   "source": [
    "# Get the columns as a pd.Index object, using <pd.df>.columns\n",
    "songs.columns\n",
    "# Get the columns as a list, using list(<pd.df>.columns)\n",
    "list(songs.columns)\n",
    "# Get the columns as a list, using <pd.df>.columns.tolist() or <pd.df>.columns.to_list()\n",
    "songs.columns.tolist()\n",
    "# Get the columns as a numpy.ndarray object, using <pd.df>.columns.values or np.array(<pd.df>.columns)\n",
    "songs.columns.values\n",
    "# Get the values of all items in the dataset as a numpy.ndarray of sequences of the values in each item, \n",
    "# using <pd.df>.values (the type of both the encompassing and the encompassed sequences is numpy.ndarray)\n",
    "songs.values"
   ],
   "metadata": {
    "collapsed": false,
    "ExecuteTime": {
     "end_time": "2025-05-21T22:05:36.261077Z",
     "start_time": "2025-05-21T22:05:36.253098Z"
    }
   },
   "outputs": [
    {
     "data": {
      "text/plain": [
       "array([['Blew', 'Bleach', 'studio album', ..., nan, nan, nan],\n",
       "       ['Floyd The Barber', 'Bleach', 'studio album', ..., nan, nan, nan],\n",
       "       ['About A Girl', 'Bleach', 'studio album', ..., nan, nan, nan],\n",
       "       ...,\n",
       "       ['Uncovered', 'Louder Than Love', 'studio album', ..., nan, nan,\n",
       "        nan],\n",
       "       ['Big Dumb Sex', 'Louder Than Love', 'studio album', ..., nan,\n",
       "        nan, nan],\n",
       "       ['Full On', 'Louder Than Love', 'studio album', ..., nan, nan,\n",
       "        nan]], dtype=object)"
      ]
     },
     "execution_count": 15,
     "metadata": {},
     "output_type": "execute_result"
    }
   ],
   "execution_count": 15
  },
  {
   "cell_type": "markdown",
   "source": [
    "###### Renaming columns\n",
    "- `<pd.df>.rename(columns={'<column_1 old name>':'<column_1 new name>', '<column_2 old name>':'<column_2 new name>', ...}, inplace=True)`, or\n",
    "- `<pd.df>.rename({'<column_1 old name>':'<column_1 new name>', '<column_2 old name>':'<column_2 new name>', ...}, axis='columns', inplace=True)`;\n",
    "- `<pd.df>.columns = ['<column_1 name>', '<column_2 name>', ...]` (change the names of all columns in `<pd.df>`)"
   ],
   "metadata": {
    "collapsed": false
   }
  },
  {
   "cell_type": "code",
   "source": [
    "songs.columns\n",
    "# Rename the names of some columns\n",
    "# songs.rename({'track_name': 'track', 'album_name': 'album', 'producers': 'produced_by'}, axis='columns', inplace=True)\n",
    "\n",
    "# Rename these columns back to their original names\n",
    "# songs.rename({'produced_by': 'producers'}, axis='columns', inplace=True)\n"
   ],
   "metadata": {
    "collapsed": false,
    "ExecuteTime": {
     "end_time": "2025-05-21T22:13:27.657357Z",
     "start_time": "2025-05-21T22:13:27.651803Z"
    }
   },
   "outputs": [
    {
     "data": {
      "text/plain": [
       "Index(['track', 'album', 'album_type', 'duration', 'release_year', 'artists',\n",
       "       'acousticness', 'danceability', 'energy', 'instrumentalness', 'key',\n",
       "       'liveness', 'loudness', 'mode', 'speechiness', 'tempo',\n",
       "       'time_signature', 'valence', 'producers', 'writers', 'track_composers',\n",
       "       'track_genres', 'track_styles', 'track_moods', 'track_themes',\n",
       "       'album_duration', 'album_genres', 'album_styles',\n",
       "       'album_recording_date', 'album_recording_location', 'album_moods',\n",
       "       'album_themes', 'album_rating', 'billboard_hot_100_debut_date',\n",
       "       'billboard_hot_100_peak_pos', 'billboard_hot_100_peak_date',\n",
       "       'billboard_hot_100_weaks_on_chart', 'radio_songs_debut_date',\n",
       "       'radio_songs_peak_pos', 'radio_songs_peak_date',\n",
       "       'radio_songs_weaks_on_chart', 'digital_song_sales_debut_date',\n",
       "       'digital_song_sales_peak_pos', 'digital_song_sales_peak_date',\n",
       "       'digital_song_sales_weaks_on_chart', 'billboard_global_200_debut_date',\n",
       "       'billboard_global_200_peak_pos', 'billboard_global_200_peak_date',\n",
       "       'billboard_global_200_weaks_on_chart',\n",
       "       'mainstream_rock_airplay_debut_date',\n",
       "       'mainstream_rock_airplay_peak_pos', 'mainstream_rock_airplay_peak_date',\n",
       "       'mainstream_rock_airplay_weaks_on_chart',\n",
       "       'alternative_airplay_debut_date', 'alternative_airplay_peak_pos',\n",
       "       'alternative_airplay_peak_date', 'alternative_airplay_weaks_on_chart',\n",
       "       'rock_streaming_songs_debut_date', 'rock_streaming_songs_peak_pos',\n",
       "       'rock_streaming_songs_peak_date', 'rock_streaming_songs_weaks_on_chart',\n",
       "       'hot_alternative_songs_debut_date', 'hot_alternative_songs_peak_pos',\n",
       "       'hot_alternative_songs_peak_date',\n",
       "       'hot_alternative_songs_weaks_on_chart',\n",
       "       'alternative_streaming_songs_debut_date',\n",
       "       'alternative_streaming_songs_peak_pos',\n",
       "       'alternative_streaming_songs_peak_date',\n",
       "       'alternative_streaming_songs_weaks_on_chart',\n",
       "       'hot_rock_songs_debut_date', 'hot_rock_songs_peak_pos',\n",
       "       'hot_rock_songs_peak_date', 'hot_rock_songs_weaks_on_chart',\n",
       "       'lyricfind_global_debut_date', 'lyricfind_global_peak_pos',\n",
       "       'lyricfind_global_peak_date', 'lyricfind_global_weaks_on_chart',\n",
       "       'lyricfind_u.s._debut_date', 'lyricfind_u.s._peak_pos',\n",
       "       'lyricfind_u.s._peak_date', 'lyricfind_u.s._weaks_on_chart',\n",
       "       'hot_rock_&_alternative_songs_debut_date',\n",
       "       'hot_rock_&_alternative_songs_peak_pos',\n",
       "       'hot_rock_&_alternative_songs_peak_date',\n",
       "       'hot_rock_&_alternative_songs_weaks_on_chart',\n",
       "       'rock_digital_song_sales_debut_date',\n",
       "       'rock_digital_song_sales_peak_pos', 'rock_digital_song_sales_peak_date',\n",
       "       'rock_digital_song_sales_weaks_on_chart',\n",
       "       'alternative_digital_song_sales_debut_date',\n",
       "       'alternative_digital_song_sales_peak_pos',\n",
       "       'alternative_digital_song_sales_peak_date',\n",
       "       'alternative_digital_song_sales_weaks_on_chart',\n",
       "       'canadian_digital_song_sales_debut_date',\n",
       "       'canadian_digital_song_sales_peak_pos',\n",
       "       'canadian_digital_song_sales_peak_date',\n",
       "       'canadian_digital_song_sales_weaks_on_chart'],\n",
       "      dtype='object')"
      ]
     },
     "execution_count": 20,
     "metadata": {},
     "output_type": "execute_result"
    }
   ],
   "execution_count": 20
  },
  {
   "metadata": {},
   "cell_type": "markdown",
   "source": [
    "###### Rearranging columns\n",
    "- `<pd.df> = <pd.df>[['<col to be the first>', 'col to be the second'...etc.]]`\n",
    "- `column_names = ['<col to be the first>', 'col to be the second'...etc.]`, `<pd.df> = <pd.df>.reindex(columns=column_names)`"
   ]
  },
  {
   "metadata": {
    "ExecuteTime": {
     "end_time": "2025-05-21T22:20:29.400416Z",
     "start_time": "2025-05-21T22:20:29.380469Z"
    }
   },
   "cell_type": "code",
   "source": [
    "columns = ['track', 'artists', 'album', 'album_type', 'duration', 'release_year', ]\n",
    "list(songs.columns).index('acousticness')\n",
    "columns.extend(list(songs.columns)[6:])\n",
    "columns\n",
    "songs = songs.reindex(columns=columns)\n",
    "songs"
   ],
   "outputs": [
    {
     "data": {
      "text/plain": [
       "                 track      artists             album    album_type  duration  \\\n",
       "0                 Blew      Nirvana            Bleach  studio album       174   \n",
       "1     Floyd The Barber      Nirvana            Bleach  studio album       138   \n",
       "2         About A Girl      Nirvana            Bleach  studio album       168   \n",
       "3               School      Nirvana            Bleach  studio album       162   \n",
       "4            Love Buzz      Nirvana            Bleach  studio album       215   \n",
       "..                 ...          ...               ...           ...       ...   \n",
       "702            I Awake  Soundgarden  Louder Than Love  studio album       261   \n",
       "703  No Wrong No Right  Soundgarden  Louder Than Love  studio album       287   \n",
       "704          Uncovered  Soundgarden  Louder Than Love  studio album       270   \n",
       "705       Big Dumb Sex  Soundgarden  Louder Than Love  studio album       251   \n",
       "706            Full On  Soundgarden  Louder Than Love  studio album       162   \n",
       "\n",
       "     release_year  acousticness  danceability  energy  instrumentalness  ...  \\\n",
       "0            1989      0.000006         0.411   0.882          0.014700  ...   \n",
       "1            1989      0.000788         0.443   0.878          0.560000  ...   \n",
       "2            1989      0.000005         0.413   0.875          0.000580  ...   \n",
       "3            1989      0.000012         0.210   0.943          0.493000  ...   \n",
       "4            1989      0.000031         0.479   0.865          0.228000  ...   \n",
       "..            ...           ...           ...     ...               ...  ...   \n",
       "702          1989      0.311000         0.568   0.626          0.148000  ...   \n",
       "703          1989      0.032300         0.304   0.718          0.000034  ...   \n",
       "704          1989      0.248000         0.379   0.820          0.000869  ...   \n",
       "705          1989      0.005510         0.267   0.848          0.000491  ...   \n",
       "706          1989      0.123000         0.270   0.638          0.051800  ...   \n",
       "\n",
       "     rock_digital_song_sales_peak_date  \\\n",
       "0                                  NaN   \n",
       "1                                  NaN   \n",
       "2                                  NaN   \n",
       "3                                  NaN   \n",
       "4                                  NaN   \n",
       "..                                 ...   \n",
       "702                                NaN   \n",
       "703                                NaN   \n",
       "704                                NaN   \n",
       "705                                NaN   \n",
       "706                                NaN   \n",
       "\n",
       "     rock_digital_song_sales_weaks_on_chart  \\\n",
       "0                                       NaN   \n",
       "1                                       NaN   \n",
       "2                                       NaN   \n",
       "3                                       NaN   \n",
       "4                                       NaN   \n",
       "..                                      ...   \n",
       "702                                     NaN   \n",
       "703                                     NaN   \n",
       "704                                     NaN   \n",
       "705                                     NaN   \n",
       "706                                     NaN   \n",
       "\n",
       "     alternative_digital_song_sales_debut_date  \\\n",
       "0                                          NaN   \n",
       "1                                          NaN   \n",
       "2                                          NaN   \n",
       "3                                          NaN   \n",
       "4                                          NaN   \n",
       "..                                         ...   \n",
       "702                                        NaN   \n",
       "703                                        NaN   \n",
       "704                                        NaN   \n",
       "705                                        NaN   \n",
       "706                                        NaN   \n",
       "\n",
       "     alternative_digital_song_sales_peak_pos  \\\n",
       "0                                        NaN   \n",
       "1                                        NaN   \n",
       "2                                        NaN   \n",
       "3                                        NaN   \n",
       "4                                        NaN   \n",
       "..                                       ...   \n",
       "702                                      NaN   \n",
       "703                                      NaN   \n",
       "704                                      NaN   \n",
       "705                                      NaN   \n",
       "706                                      NaN   \n",
       "\n",
       "     alternative_digital_song_sales_peak_date  \\\n",
       "0                                         NaN   \n",
       "1                                         NaN   \n",
       "2                                         NaN   \n",
       "3                                         NaN   \n",
       "4                                         NaN   \n",
       "..                                        ...   \n",
       "702                                       NaN   \n",
       "703                                       NaN   \n",
       "704                                       NaN   \n",
       "705                                       NaN   \n",
       "706                                       NaN   \n",
       "\n",
       "     alternative_digital_song_sales_weaks_on_chart  \\\n",
       "0                                              NaN   \n",
       "1                                              NaN   \n",
       "2                                              NaN   \n",
       "3                                              NaN   \n",
       "4                                              NaN   \n",
       "..                                             ...   \n",
       "702                                            NaN   \n",
       "703                                            NaN   \n",
       "704                                            NaN   \n",
       "705                                            NaN   \n",
       "706                                            NaN   \n",
       "\n",
       "     canadian_digital_song_sales_debut_date  \\\n",
       "0                                       NaN   \n",
       "1                                       NaN   \n",
       "2                                       NaN   \n",
       "3                                       NaN   \n",
       "4                                       NaN   \n",
       "..                                      ...   \n",
       "702                                     NaN   \n",
       "703                                     NaN   \n",
       "704                                     NaN   \n",
       "705                                     NaN   \n",
       "706                                     NaN   \n",
       "\n",
       "     canadian_digital_song_sales_peak_pos  \\\n",
       "0                                     NaN   \n",
       "1                                     NaN   \n",
       "2                                     NaN   \n",
       "3                                     NaN   \n",
       "4                                     NaN   \n",
       "..                                    ...   \n",
       "702                                   NaN   \n",
       "703                                   NaN   \n",
       "704                                   NaN   \n",
       "705                                   NaN   \n",
       "706                                   NaN   \n",
       "\n",
       "    canadian_digital_song_sales_peak_date  \\\n",
       "0                                     NaN   \n",
       "1                                     NaN   \n",
       "2                                     NaN   \n",
       "3                                     NaN   \n",
       "4                                     NaN   \n",
       "..                                    ...   \n",
       "702                                   NaN   \n",
       "703                                   NaN   \n",
       "704                                   NaN   \n",
       "705                                   NaN   \n",
       "706                                   NaN   \n",
       "\n",
       "    canadian_digital_song_sales_weaks_on_chart  \n",
       "0                                          NaN  \n",
       "1                                          NaN  \n",
       "2                                          NaN  \n",
       "3                                          NaN  \n",
       "4                                          NaN  \n",
       "..                                         ...  \n",
       "702                                        NaN  \n",
       "703                                        NaN  \n",
       "704                                        NaN  \n",
       "705                                        NaN  \n",
       "706                                        NaN  \n",
       "\n",
       "[707 rows x 97 columns]"
      ],
      "text/html": [
       "<div>\n",
       "<style scoped>\n",
       "    .dataframe tbody tr th:only-of-type {\n",
       "        vertical-align: middle;\n",
       "    }\n",
       "\n",
       "    .dataframe tbody tr th {\n",
       "        vertical-align: top;\n",
       "    }\n",
       "\n",
       "    .dataframe thead th {\n",
       "        text-align: right;\n",
       "    }\n",
       "</style>\n",
       "<table border=\"1\" class=\"dataframe\">\n",
       "  <thead>\n",
       "    <tr style=\"text-align: right;\">\n",
       "      <th></th>\n",
       "      <th>track</th>\n",
       "      <th>artists</th>\n",
       "      <th>album</th>\n",
       "      <th>album_type</th>\n",
       "      <th>duration</th>\n",
       "      <th>release_year</th>\n",
       "      <th>acousticness</th>\n",
       "      <th>danceability</th>\n",
       "      <th>energy</th>\n",
       "      <th>instrumentalness</th>\n",
       "      <th>...</th>\n",
       "      <th>rock_digital_song_sales_peak_date</th>\n",
       "      <th>rock_digital_song_sales_weaks_on_chart</th>\n",
       "      <th>alternative_digital_song_sales_debut_date</th>\n",
       "      <th>alternative_digital_song_sales_peak_pos</th>\n",
       "      <th>alternative_digital_song_sales_peak_date</th>\n",
       "      <th>alternative_digital_song_sales_weaks_on_chart</th>\n",
       "      <th>canadian_digital_song_sales_debut_date</th>\n",
       "      <th>canadian_digital_song_sales_peak_pos</th>\n",
       "      <th>canadian_digital_song_sales_peak_date</th>\n",
       "      <th>canadian_digital_song_sales_weaks_on_chart</th>\n",
       "    </tr>\n",
       "  </thead>\n",
       "  <tbody>\n",
       "    <tr>\n",
       "      <th>0</th>\n",
       "      <td>Blew</td>\n",
       "      <td>Nirvana</td>\n",
       "      <td>Bleach</td>\n",
       "      <td>studio album</td>\n",
       "      <td>174</td>\n",
       "      <td>1989</td>\n",
       "      <td>0.000006</td>\n",
       "      <td>0.411</td>\n",
       "      <td>0.882</td>\n",
       "      <td>0.014700</td>\n",
       "      <td>...</td>\n",
       "      <td>NaN</td>\n",
       "      <td>NaN</td>\n",
       "      <td>NaN</td>\n",
       "      <td>NaN</td>\n",
       "      <td>NaN</td>\n",
       "      <td>NaN</td>\n",
       "      <td>NaN</td>\n",
       "      <td>NaN</td>\n",
       "      <td>NaN</td>\n",
       "      <td>NaN</td>\n",
       "    </tr>\n",
       "    <tr>\n",
       "      <th>1</th>\n",
       "      <td>Floyd The Barber</td>\n",
       "      <td>Nirvana</td>\n",
       "      <td>Bleach</td>\n",
       "      <td>studio album</td>\n",
       "      <td>138</td>\n",
       "      <td>1989</td>\n",
       "      <td>0.000788</td>\n",
       "      <td>0.443</td>\n",
       "      <td>0.878</td>\n",
       "      <td>0.560000</td>\n",
       "      <td>...</td>\n",
       "      <td>NaN</td>\n",
       "      <td>NaN</td>\n",
       "      <td>NaN</td>\n",
       "      <td>NaN</td>\n",
       "      <td>NaN</td>\n",
       "      <td>NaN</td>\n",
       "      <td>NaN</td>\n",
       "      <td>NaN</td>\n",
       "      <td>NaN</td>\n",
       "      <td>NaN</td>\n",
       "    </tr>\n",
       "    <tr>\n",
       "      <th>2</th>\n",
       "      <td>About A Girl</td>\n",
       "      <td>Nirvana</td>\n",
       "      <td>Bleach</td>\n",
       "      <td>studio album</td>\n",
       "      <td>168</td>\n",
       "      <td>1989</td>\n",
       "      <td>0.000005</td>\n",
       "      <td>0.413</td>\n",
       "      <td>0.875</td>\n",
       "      <td>0.000580</td>\n",
       "      <td>...</td>\n",
       "      <td>NaN</td>\n",
       "      <td>NaN</td>\n",
       "      <td>NaN</td>\n",
       "      <td>NaN</td>\n",
       "      <td>NaN</td>\n",
       "      <td>NaN</td>\n",
       "      <td>NaN</td>\n",
       "      <td>NaN</td>\n",
       "      <td>NaN</td>\n",
       "      <td>NaN</td>\n",
       "    </tr>\n",
       "    <tr>\n",
       "      <th>3</th>\n",
       "      <td>School</td>\n",
       "      <td>Nirvana</td>\n",
       "      <td>Bleach</td>\n",
       "      <td>studio album</td>\n",
       "      <td>162</td>\n",
       "      <td>1989</td>\n",
       "      <td>0.000012</td>\n",
       "      <td>0.210</td>\n",
       "      <td>0.943</td>\n",
       "      <td>0.493000</td>\n",
       "      <td>...</td>\n",
       "      <td>NaN</td>\n",
       "      <td>NaN</td>\n",
       "      <td>NaN</td>\n",
       "      <td>NaN</td>\n",
       "      <td>NaN</td>\n",
       "      <td>NaN</td>\n",
       "      <td>NaN</td>\n",
       "      <td>NaN</td>\n",
       "      <td>NaN</td>\n",
       "      <td>NaN</td>\n",
       "    </tr>\n",
       "    <tr>\n",
       "      <th>4</th>\n",
       "      <td>Love Buzz</td>\n",
       "      <td>Nirvana</td>\n",
       "      <td>Bleach</td>\n",
       "      <td>studio album</td>\n",
       "      <td>215</td>\n",
       "      <td>1989</td>\n",
       "      <td>0.000031</td>\n",
       "      <td>0.479</td>\n",
       "      <td>0.865</td>\n",
       "      <td>0.228000</td>\n",
       "      <td>...</td>\n",
       "      <td>NaN</td>\n",
       "      <td>NaN</td>\n",
       "      <td>NaN</td>\n",
       "      <td>NaN</td>\n",
       "      <td>NaN</td>\n",
       "      <td>NaN</td>\n",
       "      <td>NaN</td>\n",
       "      <td>NaN</td>\n",
       "      <td>NaN</td>\n",
       "      <td>NaN</td>\n",
       "    </tr>\n",
       "    <tr>\n",
       "      <th>...</th>\n",
       "      <td>...</td>\n",
       "      <td>...</td>\n",
       "      <td>...</td>\n",
       "      <td>...</td>\n",
       "      <td>...</td>\n",
       "      <td>...</td>\n",
       "      <td>...</td>\n",
       "      <td>...</td>\n",
       "      <td>...</td>\n",
       "      <td>...</td>\n",
       "      <td>...</td>\n",
       "      <td>...</td>\n",
       "      <td>...</td>\n",
       "      <td>...</td>\n",
       "      <td>...</td>\n",
       "      <td>...</td>\n",
       "      <td>...</td>\n",
       "      <td>...</td>\n",
       "      <td>...</td>\n",
       "      <td>...</td>\n",
       "      <td>...</td>\n",
       "    </tr>\n",
       "    <tr>\n",
       "      <th>702</th>\n",
       "      <td>I Awake</td>\n",
       "      <td>Soundgarden</td>\n",
       "      <td>Louder Than Love</td>\n",
       "      <td>studio album</td>\n",
       "      <td>261</td>\n",
       "      <td>1989</td>\n",
       "      <td>0.311000</td>\n",
       "      <td>0.568</td>\n",
       "      <td>0.626</td>\n",
       "      <td>0.148000</td>\n",
       "      <td>...</td>\n",
       "      <td>NaN</td>\n",
       "      <td>NaN</td>\n",
       "      <td>NaN</td>\n",
       "      <td>NaN</td>\n",
       "      <td>NaN</td>\n",
       "      <td>NaN</td>\n",
       "      <td>NaN</td>\n",
       "      <td>NaN</td>\n",
       "      <td>NaN</td>\n",
       "      <td>NaN</td>\n",
       "    </tr>\n",
       "    <tr>\n",
       "      <th>703</th>\n",
       "      <td>No Wrong No Right</td>\n",
       "      <td>Soundgarden</td>\n",
       "      <td>Louder Than Love</td>\n",
       "      <td>studio album</td>\n",
       "      <td>287</td>\n",
       "      <td>1989</td>\n",
       "      <td>0.032300</td>\n",
       "      <td>0.304</td>\n",
       "      <td>0.718</td>\n",
       "      <td>0.000034</td>\n",
       "      <td>...</td>\n",
       "      <td>NaN</td>\n",
       "      <td>NaN</td>\n",
       "      <td>NaN</td>\n",
       "      <td>NaN</td>\n",
       "      <td>NaN</td>\n",
       "      <td>NaN</td>\n",
       "      <td>NaN</td>\n",
       "      <td>NaN</td>\n",
       "      <td>NaN</td>\n",
       "      <td>NaN</td>\n",
       "    </tr>\n",
       "    <tr>\n",
       "      <th>704</th>\n",
       "      <td>Uncovered</td>\n",
       "      <td>Soundgarden</td>\n",
       "      <td>Louder Than Love</td>\n",
       "      <td>studio album</td>\n",
       "      <td>270</td>\n",
       "      <td>1989</td>\n",
       "      <td>0.248000</td>\n",
       "      <td>0.379</td>\n",
       "      <td>0.820</td>\n",
       "      <td>0.000869</td>\n",
       "      <td>...</td>\n",
       "      <td>NaN</td>\n",
       "      <td>NaN</td>\n",
       "      <td>NaN</td>\n",
       "      <td>NaN</td>\n",
       "      <td>NaN</td>\n",
       "      <td>NaN</td>\n",
       "      <td>NaN</td>\n",
       "      <td>NaN</td>\n",
       "      <td>NaN</td>\n",
       "      <td>NaN</td>\n",
       "    </tr>\n",
       "    <tr>\n",
       "      <th>705</th>\n",
       "      <td>Big Dumb Sex</td>\n",
       "      <td>Soundgarden</td>\n",
       "      <td>Louder Than Love</td>\n",
       "      <td>studio album</td>\n",
       "      <td>251</td>\n",
       "      <td>1989</td>\n",
       "      <td>0.005510</td>\n",
       "      <td>0.267</td>\n",
       "      <td>0.848</td>\n",
       "      <td>0.000491</td>\n",
       "      <td>...</td>\n",
       "      <td>NaN</td>\n",
       "      <td>NaN</td>\n",
       "      <td>NaN</td>\n",
       "      <td>NaN</td>\n",
       "      <td>NaN</td>\n",
       "      <td>NaN</td>\n",
       "      <td>NaN</td>\n",
       "      <td>NaN</td>\n",
       "      <td>NaN</td>\n",
       "      <td>NaN</td>\n",
       "    </tr>\n",
       "    <tr>\n",
       "      <th>706</th>\n",
       "      <td>Full On</td>\n",
       "      <td>Soundgarden</td>\n",
       "      <td>Louder Than Love</td>\n",
       "      <td>studio album</td>\n",
       "      <td>162</td>\n",
       "      <td>1989</td>\n",
       "      <td>0.123000</td>\n",
       "      <td>0.270</td>\n",
       "      <td>0.638</td>\n",
       "      <td>0.051800</td>\n",
       "      <td>...</td>\n",
       "      <td>NaN</td>\n",
       "      <td>NaN</td>\n",
       "      <td>NaN</td>\n",
       "      <td>NaN</td>\n",
       "      <td>NaN</td>\n",
       "      <td>NaN</td>\n",
       "      <td>NaN</td>\n",
       "      <td>NaN</td>\n",
       "      <td>NaN</td>\n",
       "      <td>NaN</td>\n",
       "    </tr>\n",
       "  </tbody>\n",
       "</table>\n",
       "<p>707 rows × 97 columns</p>\n",
       "</div>"
      ]
     },
     "execution_count": 24,
     "metadata": {},
     "output_type": "execute_result"
    }
   ],
   "execution_count": 24
  },
  {
   "cell_type": "code",
   "source": [
    "# Save the modified dataset\n",
    "songs.to_csv('../data/grunge_v2.csv', index=False)"
   ],
   "metadata": {
    "collapsed": false,
    "ExecuteTime": {
     "end_time": "2025-05-21T22:24:29.813011Z",
     "start_time": "2025-05-21T22:24:29.786326Z"
    }
   },
   "outputs": [],
   "execution_count": 26
  },
  {
   "cell_type": "markdown",
   "source": [
    "##### Missing values and value counts\n",
    "- `sb.heatmap()`, e.g. `sb.heatmap(<pd.df>.isna(),cbar=False,cmap='viridis')` ([example](https://www.analyticsvidhya.com/blog/2021/08/how-to-perform-exploratory-data-analysis-a-guide-for-beginners/))\n",
    "- `<pd.df>.isna()` (`<pd.df>.isnull()`), `<pd.df>.isna().sum()` (`<pd.df>.isnull().sum()`) ([example](https://www.analyticsvidhya.com/blog/2021/08/how-to-perform-exploratory-data-analysis-a-guide-for-beginners/))\n",
    "- `<pd.df>['<column>'].value_counts()` (shows only the rows without NAs (default: dropna=True), check shape)\n",
    "- `<pd.df>['<column>'].value_counts(normalize=True)` (show proportions, rather than frequencies)\n",
    "- `<pd.df>.dropna(how='all'/'any', inplace=True)`, `<pd.Series>.dropna(how='all'/'any', inplace=True)` (return a new `<pd.Series>`/`<pd.Series>` object with missing values removed)\n",
    "\n",
    "The `cmap` parameter of `sb.heatmap()` denotes a [Matplotlib colormap](https://matplotlib.org/stable/tutorials/colors/colormaps.html#classes-of-colormaps) (`viridis`, `cividis`, `tab20`, `winter`, `BuPu_r`, `ocean`,...)."
   ],
   "metadata": {
    "collapsed": false
   }
  },
  {
   "metadata": {
    "ExecuteTime": {
     "end_time": "2025-05-21T22:24:52.444993Z",
     "start_time": "2025-05-21T22:24:52.427717Z"
    }
   },
   "cell_type": "code",
   "source": [
    "# Read the dataset\n",
    "songs = pd.read_csv('../data/grunge_v2.csv')"
   ],
   "outputs": [],
   "execution_count": 27
  },
  {
   "cell_type": "code",
   "source": [
    "# Display the heatmap (missing values) of the songs dataset \n",
    "# (demonstrate using sb.heatmap(songs.isna(), cbar=False, cmap='cividis') vs. \n",
    "# sb.heatmap(songs.isna(), cbar=False, cmap='cividis');)\n",
    "sb.heatmap(songs.isna(), cbar=False, cmap='cividis');"
   ],
   "metadata": {
    "collapsed": false,
    "ExecuteTime": {
     "end_time": "2025-05-21T22:31:47.032273Z",
     "start_time": "2025-05-21T22:31:46.159212Z"
    }
   },
   "outputs": [
    {
     "data": {
      "text/plain": [
       "<Figure size 640x480 with 1 Axes>"
      ],
      "image/png": "[encoded data removed]"
     },
     "metadata": {},
     "output_type": "display_data"
    }
   ],
   "execution_count": 33
  },
  {
   "cell_type": "markdown",
   "source": [
    "How many missing values are there? (`<pd.df>.isna().sum()` for all columns, `<pd.df>.['<column>'].isna().sum()` for a specific column, `<pd.df>.isna()[['<column1>', 'column2', ...]].sum()` for selected multiple columns; `isnull()` is the same as `isna()`, and `isna()` is used more often).\n",
    "\n",
    "Try also `<pd.df>.isna()`, `<pd.df>.isna()[['<column1>', 'column2', ...]]`, `type(<pd.df>.isna())`, `type(<pd.df>.isna().sum())`, `type(<pd.df>.isna()[['<column1>', 'column2', ...]].sum())`, `<pd.df>.isna().sum().value_counts()`."
   ],
   "metadata": {
    "collapsed": false
   }
  },
  {
   "cell_type": "code",
   "source": [
    "songs.isna().sum()\n",
    "songs.isna()[['track_genres', 'album_styles']].sum()\n",
    "songs.isna()\n",
    "type(songs.isna()['track_genres'])\n",
    "songs.isna().sum().value_counts()\n",
    "type(songs.isna().sum().value_counts())"
   ],
   "metadata": {
    "collapsed": false,
    "ExecuteTime": {
     "end_time": "2025-05-21T22:40:11.354367Z",
     "start_time": "2025-05-21T22:40:11.340270Z"
    }
   },
   "outputs": [
    {
     "data": {
      "text/plain": [
       "pandas.core.series.Series"
      ]
     },
     "execution_count": 43,
     "metadata": {},
     "output_type": "execute_result"
    }
   ],
   "execution_count": 43
  },
  {
   "cell_type": "markdown",
   "source": [
    "How many missing values are there in the columns where there *are* missing values? `<i> = <pd.df>.isna().sum() > 0`, `<pd.df>.isna().sum()[<i>]`. \n",
    "Try also `<i>`, `type(<i>)`, `<i>[<i>]`, `<pd.df>.loc[:, <i>]`."
   ],
   "metadata": {
    "collapsed": false
   }
  },
  {
   "cell_type": "code",
   "source": [
    "i = songs.isna().sum() > 0\n",
    "i\n",
    "i[i]\n",
    "type(i)\n",
    "songs.loc[:, i]"
   ],
   "metadata": {
    "collapsed": false,
    "ExecuteTime": {
     "end_time": "2025-05-21T22:44:00.270256Z",
     "start_time": "2025-05-21T22:44:00.245920Z"
    }
   },
   "outputs": [
    {
     "data": {
      "text/plain": [
       "       producers                       writers               track_composers  \\\n",
       "0    Jack Endino                   Kurt Cobain                   Kurt Cobain   \n",
       "1    Jack Endino                   Kurt Cobain                   Kurt Cobain   \n",
       "2    Jack Endino                   Kurt Cobain                   Kurt Cobain   \n",
       "3    Jack Endino                   Kurt Cobain                   Kurt Cobain   \n",
       "4    Jack Endino            Robbie van Leeuwen            Robbie Van Leeuwen   \n",
       "..           ...                           ...                           ...   \n",
       "702          NaN                 Hiro Yamamoto                 Hiro Yamamoto   \n",
       "703          NaN  Chris Cornell, Hiro Yamamoto  Chris Cornell, Hiro Yamamoto   \n",
       "704          NaN                 Chris Cornell                 Chris Cornell   \n",
       "705          NaN                 Chris Cornell                 Chris Cornell   \n",
       "706          NaN                 Chris Cornell                 Chris Cornell   \n",
       "\n",
       "    track_genres                                       track_styles  \\\n",
       "0       Pop/Rock  Alternative/Indie Rock, Grunge, Alternative Po...   \n",
       "1       Pop/Rock  Alternative/Indie Rock, Grunge, Alternative Po...   \n",
       "2       Pop/Rock  Alternative Pop/Rock, Alternative/Indie Rock, ...   \n",
       "3       Pop/Rock  Alternative/Indie Rock, Grunge, Alternative Po...   \n",
       "4       Pop/Rock  Alternative/Indie Rock, Grunge, Alternative Po...   \n",
       "..           ...                                                ...   \n",
       "702     Pop/Rock  Alternative Metal, Alternative Pop/Rock, Alter...   \n",
       "703     Pop/Rock  Alternative Metal, Alternative Pop/Rock, Alter...   \n",
       "704     Pop/Rock  Alternative Metal, Alternative Pop/Rock, Alter...   \n",
       "705     Pop/Rock  Alternative Metal, Alternative Pop/Rock, Alter...   \n",
       "706     Pop/Rock  Alternative Metal, Alternative Pop/Rock, Alter...   \n",
       "\n",
       "                                           track_moods  \\\n",
       "0    Angst-Ridden, Aggressive, Harsh, Snide, Viscer...   \n",
       "1    Cathartic, Intense, Angst-Ridden, Crunchy, Vol...   \n",
       "2    Yearning, Brooding, Earnest, Intimate, Melanch...   \n",
       "3    Angst-Ridden, Aggressive, Harsh, Visceral, Ace...   \n",
       "4    Aggressive, Raucous, Visceral, Acerbic, Energe...   \n",
       "..                                                 ...   \n",
       "702  Brooding, Earnest, Gloomy, Harsh, Literate, Pa...   \n",
       "703  Brooding, Earnest, Gloomy, Harsh, Literate, Pa...   \n",
       "704  Brooding, Earnest, Gloomy, Harsh, Literate, Pa...   \n",
       "705  Brooding, Earnest, Gloomy, Harsh, Literate, Pa...   \n",
       "706  Earnest, Gloomy, Literate, Tense/Anxious, Urge...   \n",
       "\n",
       "                                          track_themes album_duration  \\\n",
       "0                         Cool & Cocky, Guys Night Out       42:14:00   \n",
       "1                         Cool & Cocky, Guys Night Out       42:14:00   \n",
       "2    Heartache, Introspection, Breakup, Feeling Blu...       42:14:00   \n",
       "3                         Cool & Cocky, Guys Night Out       42:14:00   \n",
       "4                         Cool & Cocky, Guys Night Out       42:14:00   \n",
       "..                                                 ...            ...   \n",
       "702                                        Imagination       53:06:00   \n",
       "703                                        Imagination       53:06:00   \n",
       "704                                        Imagination       53:06:00   \n",
       "705                                        Imagination       53:06:00   \n",
       "706              Imagination, Guys Night Out, Drinking       53:06:00   \n",
       "\n",
       "    album_genres                                       album_styles  ...  \\\n",
       "0       Pop/Rock  Alternative Pop/Rock, Alternative/Indie Rock, ...  ...   \n",
       "1       Pop/Rock  Alternative Pop/Rock, Alternative/Indie Rock, ...  ...   \n",
       "2       Pop/Rock  Alternative Pop/Rock, Alternative/Indie Rock, ...  ...   \n",
       "3       Pop/Rock  Alternative Pop/Rock, Alternative/Indie Rock, ...  ...   \n",
       "4       Pop/Rock  Alternative Pop/Rock, Alternative/Indie Rock, ...  ...   \n",
       "..           ...                                                ...  ...   \n",
       "702          NaN  Alternative Metal, Alternative Pop/Rock, Alter...  ...   \n",
       "703          NaN  Alternative Metal, Alternative Pop/Rock, Alter...  ...   \n",
       "704          NaN  Alternative Metal, Alternative Pop/Rock, Alter...  ...   \n",
       "705          NaN  Alternative Metal, Alternative Pop/Rock, Alter...  ...   \n",
       "706          NaN  Alternative Metal, Alternative Pop/Rock, Alter...  ...   \n",
       "\n",
       "    rock_digital_song_sales_peak_date rock_digital_song_sales_weaks_on_chart  \\\n",
       "0                                 NaN                                    NaN   \n",
       "1                                 NaN                                    NaN   \n",
       "2                                 NaN                                    NaN   \n",
       "3                                 NaN                                    NaN   \n",
       "4                                 NaN                                    NaN   \n",
       "..                                ...                                    ...   \n",
       "702                               NaN                                    NaN   \n",
       "703                               NaN                                    NaN   \n",
       "704                               NaN                                    NaN   \n",
       "705                               NaN                                    NaN   \n",
       "706                               NaN                                    NaN   \n",
       "\n",
       "    alternative_digital_song_sales_debut_date  \\\n",
       "0                                         NaN   \n",
       "1                                         NaN   \n",
       "2                                         NaN   \n",
       "3                                         NaN   \n",
       "4                                         NaN   \n",
       "..                                        ...   \n",
       "702                                       NaN   \n",
       "703                                       NaN   \n",
       "704                                       NaN   \n",
       "705                                       NaN   \n",
       "706                                       NaN   \n",
       "\n",
       "    alternative_digital_song_sales_peak_pos  \\\n",
       "0                                       NaN   \n",
       "1                                       NaN   \n",
       "2                                       NaN   \n",
       "3                                       NaN   \n",
       "4                                       NaN   \n",
       "..                                      ...   \n",
       "702                                     NaN   \n",
       "703                                     NaN   \n",
       "704                                     NaN   \n",
       "705                                     NaN   \n",
       "706                                     NaN   \n",
       "\n",
       "     alternative_digital_song_sales_peak_date  \\\n",
       "0                                         NaN   \n",
       "1                                         NaN   \n",
       "2                                         NaN   \n",
       "3                                         NaN   \n",
       "4                                         NaN   \n",
       "..                                        ...   \n",
       "702                                       NaN   \n",
       "703                                       NaN   \n",
       "704                                       NaN   \n",
       "705                                       NaN   \n",
       "706                                       NaN   \n",
       "\n",
       "    alternative_digital_song_sales_weaks_on_chart  \\\n",
       "0                                             NaN   \n",
       "1                                             NaN   \n",
       "2                                             NaN   \n",
       "3                                             NaN   \n",
       "4                                             NaN   \n",
       "..                                            ...   \n",
       "702                                           NaN   \n",
       "703                                           NaN   \n",
       "704                                           NaN   \n",
       "705                                           NaN   \n",
       "706                                           NaN   \n",
       "\n",
       "     canadian_digital_song_sales_debut_date  \\\n",
       "0                                       NaN   \n",
       "1                                       NaN   \n",
       "2                                       NaN   \n",
       "3                                       NaN   \n",
       "4                                       NaN   \n",
       "..                                      ...   \n",
       "702                                     NaN   \n",
       "703                                     NaN   \n",
       "704                                     NaN   \n",
       "705                                     NaN   \n",
       "706                                     NaN   \n",
       "\n",
       "    canadian_digital_song_sales_peak_pos  \\\n",
       "0                                    NaN   \n",
       "1                                    NaN   \n",
       "2                                    NaN   \n",
       "3                                    NaN   \n",
       "4                                    NaN   \n",
       "..                                   ...   \n",
       "702                                  NaN   \n",
       "703                                  NaN   \n",
       "704                                  NaN   \n",
       "705                                  NaN   \n",
       "706                                  NaN   \n",
       "\n",
       "     canadian_digital_song_sales_peak_date  \\\n",
       "0                                      NaN   \n",
       "1                                      NaN   \n",
       "2                                      NaN   \n",
       "3                                      NaN   \n",
       "4                                      NaN   \n",
       "..                                     ...   \n",
       "702                                    NaN   \n",
       "703                                    NaN   \n",
       "704                                    NaN   \n",
       "705                                    NaN   \n",
       "706                                    NaN   \n",
       "\n",
       "    canadian_digital_song_sales_weaks_on_chart  \n",
       "0                                          NaN  \n",
       "1                                          NaN  \n",
       "2                                          NaN  \n",
       "3                                          NaN  \n",
       "4                                          NaN  \n",
       "..                                         ...  \n",
       "702                                        NaN  \n",
       "703                                        NaN  \n",
       "704                                        NaN  \n",
       "705                                        NaN  \n",
       "706                                        NaN  \n",
       "\n",
       "[707 rows x 79 columns]"
      ],
      "text/html": [
       "<div>\n",
       "<style scoped>\n",
       "    .dataframe tbody tr th:only-of-type {\n",
       "        vertical-align: middle;\n",
       "    }\n",
       "\n",
       "    .dataframe tbody tr th {\n",
       "        vertical-align: top;\n",
       "    }\n",
       "\n",
       "    .dataframe thead th {\n",
       "        text-align: right;\n",
       "    }\n",
       "</style>\n",
       "<table border=\"1\" class=\"dataframe\">\n",
       "  <thead>\n",
       "    <tr style=\"text-align: right;\">\n",
       "      <th></th>\n",
       "      <th>producers</th>\n",
       "      <th>writers</th>\n",
       "      <th>track_composers</th>\n",
       "      <th>track_genres</th>\n",
       "      <th>track_styles</th>\n",
       "      <th>track_moods</th>\n",
       "      <th>track_themes</th>\n",
       "      <th>album_duration</th>\n",
       "      <th>album_genres</th>\n",
       "      <th>album_styles</th>\n",
       "      <th>...</th>\n",
       "      <th>rock_digital_song_sales_peak_date</th>\n",
       "      <th>rock_digital_song_sales_weaks_on_chart</th>\n",
       "      <th>alternative_digital_song_sales_debut_date</th>\n",
       "      <th>alternative_digital_song_sales_peak_pos</th>\n",
       "      <th>alternative_digital_song_sales_peak_date</th>\n",
       "      <th>alternative_digital_song_sales_weaks_on_chart</th>\n",
       "      <th>canadian_digital_song_sales_debut_date</th>\n",
       "      <th>canadian_digital_song_sales_peak_pos</th>\n",
       "      <th>canadian_digital_song_sales_peak_date</th>\n",
       "      <th>canadian_digital_song_sales_weaks_on_chart</th>\n",
       "    </tr>\n",
       "  </thead>\n",
       "  <tbody>\n",
       "    <tr>\n",
       "      <th>0</th>\n",
       "      <td>Jack Endino</td>\n",
       "      <td>Kurt Cobain</td>\n",
       "      <td>Kurt Cobain</td>\n",
       "      <td>Pop/Rock</td>\n",
       "      <td>Alternative/Indie Rock, Grunge, Alternative Po...</td>\n",
       "      <td>Angst-Ridden, Aggressive, Harsh, Snide, Viscer...</td>\n",
       "      <td>Cool &amp; Cocky, Guys Night Out</td>\n",
       "      <td>42:14:00</td>\n",
       "      <td>Pop/Rock</td>\n",
       "      <td>Alternative Pop/Rock, Alternative/Indie Rock, ...</td>\n",
       "      <td>...</td>\n",
       "      <td>NaN</td>\n",
       "      <td>NaN</td>\n",
       "      <td>NaN</td>\n",
       "      <td>NaN</td>\n",
       "      <td>NaN</td>\n",
       "      <td>NaN</td>\n",
       "      <td>NaN</td>\n",
       "      <td>NaN</td>\n",
       "      <td>NaN</td>\n",
       "      <td>NaN</td>\n",
       "    </tr>\n",
       "    <tr>\n",
       "      <th>1</th>\n",
       "      <td>Jack Endino</td>\n",
       "      <td>Kurt Cobain</td>\n",
       "      <td>Kurt Cobain</td>\n",
       "      <td>Pop/Rock</td>\n",
       "      <td>Alternative/Indie Rock, Grunge, Alternative Po...</td>\n",
       "      <td>Cathartic, Intense, Angst-Ridden, Crunchy, Vol...</td>\n",
       "      <td>Cool &amp; Cocky, Guys Night Out</td>\n",
       "      <td>42:14:00</td>\n",
       "      <td>Pop/Rock</td>\n",
       "      <td>Alternative Pop/Rock, Alternative/Indie Rock, ...</td>\n",
       "      <td>...</td>\n",
       "      <td>NaN</td>\n",
       "      <td>NaN</td>\n",
       "      <td>NaN</td>\n",
       "      <td>NaN</td>\n",
       "      <td>NaN</td>\n",
       "      <td>NaN</td>\n",
       "      <td>NaN</td>\n",
       "      <td>NaN</td>\n",
       "      <td>NaN</td>\n",
       "      <td>NaN</td>\n",
       "    </tr>\n",
       "    <tr>\n",
       "      <th>2</th>\n",
       "      <td>Jack Endino</td>\n",
       "      <td>Kurt Cobain</td>\n",
       "      <td>Kurt Cobain</td>\n",
       "      <td>Pop/Rock</td>\n",
       "      <td>Alternative Pop/Rock, Alternative/Indie Rock, ...</td>\n",
       "      <td>Yearning, Brooding, Earnest, Intimate, Melanch...</td>\n",
       "      <td>Heartache, Introspection, Breakup, Feeling Blu...</td>\n",
       "      <td>42:14:00</td>\n",
       "      <td>Pop/Rock</td>\n",
       "      <td>Alternative Pop/Rock, Alternative/Indie Rock, ...</td>\n",
       "      <td>...</td>\n",
       "      <td>NaN</td>\n",
       "      <td>NaN</td>\n",
       "      <td>NaN</td>\n",
       "      <td>NaN</td>\n",
       "      <td>NaN</td>\n",
       "      <td>NaN</td>\n",
       "      <td>NaN</td>\n",
       "      <td>NaN</td>\n",
       "      <td>NaN</td>\n",
       "      <td>NaN</td>\n",
       "    </tr>\n",
       "    <tr>\n",
       "      <th>3</th>\n",
       "      <td>Jack Endino</td>\n",
       "      <td>Kurt Cobain</td>\n",
       "      <td>Kurt Cobain</td>\n",
       "      <td>Pop/Rock</td>\n",
       "      <td>Alternative/Indie Rock, Grunge, Alternative Po...</td>\n",
       "      <td>Angst-Ridden, Aggressive, Harsh, Visceral, Ace...</td>\n",
       "      <td>Cool &amp; Cocky, Guys Night Out</td>\n",
       "      <td>42:14:00</td>\n",
       "      <td>Pop/Rock</td>\n",
       "      <td>Alternative Pop/Rock, Alternative/Indie Rock, ...</td>\n",
       "      <td>...</td>\n",
       "      <td>NaN</td>\n",
       "      <td>NaN</td>\n",
       "      <td>NaN</td>\n",
       "      <td>NaN</td>\n",
       "      <td>NaN</td>\n",
       "      <td>NaN</td>\n",
       "      <td>NaN</td>\n",
       "      <td>NaN</td>\n",
       "      <td>NaN</td>\n",
       "      <td>NaN</td>\n",
       "    </tr>\n",
       "    <tr>\n",
       "      <th>4</th>\n",
       "      <td>Jack Endino</td>\n",
       "      <td>Robbie van Leeuwen</td>\n",
       "      <td>Robbie Van Leeuwen</td>\n",
       "      <td>Pop/Rock</td>\n",
       "      <td>Alternative/Indie Rock, Grunge, Alternative Po...</td>\n",
       "      <td>Aggressive, Raucous, Visceral, Acerbic, Energe...</td>\n",
       "      <td>Cool &amp; Cocky, Guys Night Out</td>\n",
       "      <td>42:14:00</td>\n",
       "      <td>Pop/Rock</td>\n",
       "      <td>Alternative Pop/Rock, Alternative/Indie Rock, ...</td>\n",
       "      <td>...</td>\n",
       "      <td>NaN</td>\n",
       "      <td>NaN</td>\n",
       "      <td>NaN</td>\n",
       "      <td>NaN</td>\n",
       "      <td>NaN</td>\n",
       "      <td>NaN</td>\n",
       "      <td>NaN</td>\n",
       "      <td>NaN</td>\n",
       "      <td>NaN</td>\n",
       "      <td>NaN</td>\n",
       "    </tr>\n",
       "    <tr>\n",
       "      <th>...</th>\n",
       "      <td>...</td>\n",
       "      <td>...</td>\n",
       "      <td>...</td>\n",
       "      <td>...</td>\n",
       "      <td>...</td>\n",
       "      <td>...</td>\n",
       "      <td>...</td>\n",
       "      <td>...</td>\n",
       "      <td>...</td>\n",
       "      <td>...</td>\n",
       "      <td>...</td>\n",
       "      <td>...</td>\n",
       "      <td>...</td>\n",
       "      <td>...</td>\n",
       "      <td>...</td>\n",
       "      <td>...</td>\n",
       "      <td>...</td>\n",
       "      <td>...</td>\n",
       "      <td>...</td>\n",
       "      <td>...</td>\n",
       "      <td>...</td>\n",
       "    </tr>\n",
       "    <tr>\n",
       "      <th>702</th>\n",
       "      <td>NaN</td>\n",
       "      <td>Hiro Yamamoto</td>\n",
       "      <td>Hiro Yamamoto</td>\n",
       "      <td>Pop/Rock</td>\n",
       "      <td>Alternative Metal, Alternative Pop/Rock, Alter...</td>\n",
       "      <td>Brooding, Earnest, Gloomy, Harsh, Literate, Pa...</td>\n",
       "      <td>Imagination</td>\n",
       "      <td>53:06:00</td>\n",
       "      <td>NaN</td>\n",
       "      <td>Alternative Metal, Alternative Pop/Rock, Alter...</td>\n",
       "      <td>...</td>\n",
       "      <td>NaN</td>\n",
       "      <td>NaN</td>\n",
       "      <td>NaN</td>\n",
       "      <td>NaN</td>\n",
       "      <td>NaN</td>\n",
       "      <td>NaN</td>\n",
       "      <td>NaN</td>\n",
       "      <td>NaN</td>\n",
       "      <td>NaN</td>\n",
       "      <td>NaN</td>\n",
       "    </tr>\n",
       "    <tr>\n",
       "      <th>703</th>\n",
       "      <td>NaN</td>\n",
       "      <td>Chris Cornell, Hiro Yamamoto</td>\n",
       "      <td>Chris Cornell, Hiro Yamamoto</td>\n",
       "      <td>Pop/Rock</td>\n",
       "      <td>Alternative Metal, Alternative Pop/Rock, Alter...</td>\n",
       "      <td>Brooding, Earnest, Gloomy, Harsh, Literate, Pa...</td>\n",
       "      <td>Imagination</td>\n",
       "      <td>53:06:00</td>\n",
       "      <td>NaN</td>\n",
       "      <td>Alternative Metal, Alternative Pop/Rock, Alter...</td>\n",
       "      <td>...</td>\n",
       "      <td>NaN</td>\n",
       "      <td>NaN</td>\n",
       "      <td>NaN</td>\n",
       "      <td>NaN</td>\n",
       "      <td>NaN</td>\n",
       "      <td>NaN</td>\n",
       "      <td>NaN</td>\n",
       "      <td>NaN</td>\n",
       "      <td>NaN</td>\n",
       "      <td>NaN</td>\n",
       "    </tr>\n",
       "    <tr>\n",
       "      <th>704</th>\n",
       "      <td>NaN</td>\n",
       "      <td>Chris Cornell</td>\n",
       "      <td>Chris Cornell</td>\n",
       "      <td>Pop/Rock</td>\n",
       "      <td>Alternative Metal, Alternative Pop/Rock, Alter...</td>\n",
       "      <td>Brooding, Earnest, Gloomy, Harsh, Literate, Pa...</td>\n",
       "      <td>Imagination</td>\n",
       "      <td>53:06:00</td>\n",
       "      <td>NaN</td>\n",
       "      <td>Alternative Metal, Alternative Pop/Rock, Alter...</td>\n",
       "      <td>...</td>\n",
       "      <td>NaN</td>\n",
       "      <td>NaN</td>\n",
       "      <td>NaN</td>\n",
       "      <td>NaN</td>\n",
       "      <td>NaN</td>\n",
       "      <td>NaN</td>\n",
       "      <td>NaN</td>\n",
       "      <td>NaN</td>\n",
       "      <td>NaN</td>\n",
       "      <td>NaN</td>\n",
       "    </tr>\n",
       "    <tr>\n",
       "      <th>705</th>\n",
       "      <td>NaN</td>\n",
       "      <td>Chris Cornell</td>\n",
       "      <td>Chris Cornell</td>\n",
       "      <td>Pop/Rock</td>\n",
       "      <td>Alternative Metal, Alternative Pop/Rock, Alter...</td>\n",
       "      <td>Brooding, Earnest, Gloomy, Harsh, Literate, Pa...</td>\n",
       "      <td>Imagination</td>\n",
       "      <td>53:06:00</td>\n",
       "      <td>NaN</td>\n",
       "      <td>Alternative Metal, Alternative Pop/Rock, Alter...</td>\n",
       "      <td>...</td>\n",
       "      <td>NaN</td>\n",
       "      <td>NaN</td>\n",
       "      <td>NaN</td>\n",
       "      <td>NaN</td>\n",
       "      <td>NaN</td>\n",
       "      <td>NaN</td>\n",
       "      <td>NaN</td>\n",
       "      <td>NaN</td>\n",
       "      <td>NaN</td>\n",
       "      <td>NaN</td>\n",
       "    </tr>\n",
       "    <tr>\n",
       "      <th>706</th>\n",
       "      <td>NaN</td>\n",
       "      <td>Chris Cornell</td>\n",
       "      <td>Chris Cornell</td>\n",
       "      <td>Pop/Rock</td>\n",
       "      <td>Alternative Metal, Alternative Pop/Rock, Alter...</td>\n",
       "      <td>Earnest, Gloomy, Literate, Tense/Anxious, Urge...</td>\n",
       "      <td>Imagination, Guys Night Out, Drinking</td>\n",
       "      <td>53:06:00</td>\n",
       "      <td>NaN</td>\n",
       "      <td>Alternative Metal, Alternative Pop/Rock, Alter...</td>\n",
       "      <td>...</td>\n",
       "      <td>NaN</td>\n",
       "      <td>NaN</td>\n",
       "      <td>NaN</td>\n",
       "      <td>NaN</td>\n",
       "      <td>NaN</td>\n",
       "      <td>NaN</td>\n",
       "      <td>NaN</td>\n",
       "      <td>NaN</td>\n",
       "      <td>NaN</td>\n",
       "      <td>NaN</td>\n",
       "    </tr>\n",
       "  </tbody>\n",
       "</table>\n",
       "<p>707 rows × 79 columns</p>\n",
       "</div>"
      ]
     },
     "execution_count": 47,
     "metadata": {},
     "output_type": "execute_result"
    }
   ],
   "execution_count": 47
  },
  {
   "metadata": {},
   "cell_type": "markdown",
   "source": "Leave out rows with `np.NaN` values: `<pd.df>.dropna()`, `<pd.df>.<column>.dropna()`, `<pd.df>['<column>'].dropna()`."
  },
  {
   "metadata": {
    "ExecuteTime": {
     "end_time": "2025-05-21T22:48:29.889376Z",
     "start_time": "2025-05-21T22:48:29.880834Z"
    }
   },
   "cell_type": "code",
   "source": [
    "songs.dropna()\n",
    "songs['producers'].dropna()"
   ],
   "outputs": [
    {
     "data": {
      "text/plain": [
       "0                   Jack Endino\n",
       "1                   Jack Endino\n",
       "2                   Jack Endino\n",
       "3                   Jack Endino\n",
       "4                   Jack Endino\n",
       "                 ...           \n",
       "577    Rick Parashar, Pearl Jam\n",
       "578    Rick Parashar, Pearl Jam\n",
       "580    Rick Parashar, Pearl Jam\n",
       "581    Rick Parashar, Pearl Jam\n",
       "582    Rick Parashar, Pearl Jam\n",
       "Name: producers, Length: 285, dtype: object"
      ]
     },
     "execution_count": 49,
     "metadata": {},
     "output_type": "execute_result"
    }
   ],
   "execution_count": 49
  },
  {
   "metadata": {},
   "cell_type": "markdown",
   "source": "Leave out columns with `np.NaN` values: `<pd.df>.dropna(axis=1)` (or `<pd.df>.dropna(axis=columns)`)."
  },
  {
   "metadata": {
    "ExecuteTime": {
     "end_time": "2025-05-21T22:50:55.564899Z",
     "start_time": "2025-05-21T22:50:55.558266Z"
    }
   },
   "cell_type": "code",
   "source": "songs = songs.dropna(axis=1)",
   "outputs": [],
   "execution_count": 51
  },
  {
   "metadata": {
    "ExecuteTime": {
     "end_time": "2025-05-21T22:52:07.858771Z",
     "start_time": "2025-05-21T22:52:07.848814Z"
    }
   },
   "cell_type": "code",
   "source": [
    "# Save the modified dataset\n",
    "songs.to_csv('../data/grunge_v2.csv', index=False)"
   ],
   "outputs": [],
   "execution_count": 52
  },
  {
   "metadata": {},
   "cell_type": "markdown",
   "source": [
    "##### Value counts\n",
    "Show value counts for a dataframe: `<pd.df>.value_counts()`, `<pd.df>.value_counts(normalize=True)`.\n",
    "- `<pd.df>['<column>'].value_counts()` (shows only the rows without NAs (default: dropna=True), check shape)\n",
    "- `<pd.df>['<column>'].value_counts(normalize=True)` (show proportions, rather than frequencies)\n"
   ]
  },
  {
   "cell_type": "code",
   "source": [
    "songs.value_counts()\n",
    "songs.value_counts(normalize=True)\n",
    "songs.album_type.value_counts()"
   ],
   "metadata": {
    "collapsed": false,
    "ExecuteTime": {
     "end_time": "2025-05-21T22:55:35.892088Z",
     "start_time": "2025-05-21T22:55:35.880173Z"
    }
   },
   "outputs": [
    {
     "data": {
      "text/plain": [
       "album_type\n",
       "studio album         369\n",
       "compilation album    135\n",
       "live album           118\n",
       "box set               73\n",
       "extended play         11\n",
       "single                 1\n",
       "Name: count, dtype: int64"
      ]
     },
     "execution_count": 55,
     "metadata": {},
     "output_type": "execute_result"
    }
   ],
   "execution_count": 55
  },
  {
   "metadata": {},
   "cell_type": "markdown",
   "source": [
    "##### Duplicates\n",
    "The `<pd.df>.duplicated()` method returns a `pd.Series` object with boolean values denoting duplicated rows. The removal of duplicated rows is done by `<pd.df>.drop_duplicates()` (see below).\n",
    "\n",
    "Find/Show *complete* duplicates (if any): `<pd.df>.duplicated()` (keeps the first occurrence by default, i.e. marks duplicates as `True` except for the first occurrence), `<pd.df>.duplicated(keep='last)` (keeps the last occurrence by default, i.e. marks duplicates as `True` except for the last occurrence), `<pd.df>.duplicated(keep=False)` (marks all occurrences as `True`).\n",
    "\n",
    "Find duplicates based on a specific column): `<pd.df>.<column>.duplicated()`, `<pd.df>.duplicated(subset=['<column>'])`.\n",
    "\n",
    "Find duplicates based on multiple specific columns: `<pd.df>.duplicated(subset=['<column 1>', '<column 2>',...])`. \n",
    "\n",
    "Drop *complete* duplicates (if any): `<pd.df>.drop_duplicates(inplace=True)`.\n",
    "\n",
    "Remove rows with duplicates in a certain column (if any), keeping the first row with that value in that column (default): `<pd.df>.drop_duplicates('<column>', inplace=True)`, or keeping the last row with that value in that column: `<pd.df>.drop_duplicates('<column>', keep='last', inplace=True)`."
   ]
  },
  {
   "metadata": {
    "ExecuteTime": {
     "end_time": "2024-09-17T13:23:33.124237Z",
     "start_time": "2024-09-17T13:23:33.120004Z"
    }
   },
   "cell_type": "code",
   "source": "# Show duplicated songs (complete duplicates)\n",
   "outputs": [],
   "execution_count": 1
  },
  {
   "metadata": {
    "ExecuteTime": {
     "end_time": "2024-09-17T13:25:41.944045Z",
     "start_time": "2024-09-17T13:25:41.940399Z"
    }
   },
   "cell_type": "code",
   "source": "# Show duplicates based on the song title (the 'track' column) only\n",
   "outputs": [],
   "execution_count": 2
  },
  {
   "metadata": {},
   "cell_type": "code",
   "outputs": [],
   "execution_count": null,
   "source": "# Show the effect of removing duplicates based on the song title (the 'track' column), i.e. without inplace=True\n"
  },
  {
   "metadata": {},
   "cell_type": "markdown",
   "source": [
    "##### Removing the rows with a specific value (specific values) in a certain column\n",
    "Use: `<pd.df> = <pd.df>[<pd.df>.<column> == <value>, inplace=True)`, `<pd.df> = <pd.df>[<pd.df>['<column>'] == <value>, inplace=True)`, `<pd.df> = <pd.df>[<pd.df>.<column> != <value>, inplace=True)`, `<pd.df> = <pd.df>[<pd.df>['<column>'] != <value>, inplace=True)`, `<pd.df>[<pd.df>.<column>.isin([<value 1>, <value 2>, ...])]`, and the like."
   ]
  },
  {
   "metadata": {
    "ExecuteTime": {
     "end_time": "2024-09-17T14:42:05.013271Z",
     "start_time": "2024-09-17T14:42:05.009634Z"
    }
   },
   "cell_type": "code",
   "source": [
    "# Remove the songs appearing on live, compilation, and box set albums, using\n",
    "# <pd.df>[<pd.df>.<column>.isin([<value 1>, <value 2>, ...])]\n"
   ],
   "outputs": [],
   "execution_count": 3
  },
  {
   "metadata": {},
   "cell_type": "code",
   "outputs": [],
   "execution_count": null,
   "source": "# Check for duplicates now; if there ARE duplicates left, examine them and their features manually\n"
  },
  {
   "metadata": {},
   "cell_type": "code",
   "outputs": [],
   "execution_count": null,
   "source": "# Reset index to 0:n: <pd.df>.reset_index(drop=True, inplace=True); drop=True: do not insert index into columns\n"
  },
  {
   "metadata": {},
   "cell_type": "code",
   "outputs": [],
   "execution_count": 184,
   "source": [
    "# Remove the remaining duplicate: <pd.df>.drop_duplicates('track', keep='first'|'last', inplace=True);\n",
    "# alternatively, <pd.df>.drop(index=<i>, inplace=True), <pd.df>.drop(index=[<i1>, <i2>, ...], inplace=True)\n"
   ]
  },
  {
   "metadata": {
    "ExecuteTime": {
     "end_time": "2024-09-18T10:40:17.631888Z",
     "start_time": "2024-09-18T10:40:17.612915Z"
    }
   },
   "cell_type": "code",
   "source": "# Optionally, reset index again\n",
   "outputs": [],
   "execution_count": 5
  },
  {
   "metadata": {},
   "cell_type": "code",
   "outputs": [],
   "execution_count": 51,
   "source": "# Save the modified dataset\n"
  },
  {
   "cell_type": "markdown",
   "source": [
    "### Examining individual data items, rows and columns\n",
    "- `<pd.df>.sample()`\n",
    "- Simple indexing and fancy indexing: `<pd.df>.iloc[]`, `<pd.df>.loc[]`\n",
    "- `<pd.df>.index`, `<pd.df>.index[<from>:<to>]`, `<pd.df>.reset_index(drop=True, inplace=True)`\n",
    "- Indexing using list of values: `<pd.df>.loc[<pd.df>.<column>.isin(<list of values>)]` (select those observations where the value of <column> is in the `<list of values>`)\n",
    "- Indexing in data stats: `<pd.df>.describe().loc['50%', '<column_name>']` (select the median of `<column_name>` from the `<pd.df>` stats computed by `describe()`)"
   ],
   "metadata": {
    "collapsed": false
   }
  },
  {
   "metadata": {},
   "cell_type": "markdown",
   "source": "Read a dataset with missing values."
  },
  {
   "metadata": {},
   "cell_type": "code",
   "outputs": [],
   "execution_count": null,
   "source": ""
  },
  {
   "cell_type": "markdown",
   "source": [
    "Take a sample of the dataset to get a feeling of what's in there."
   ],
   "metadata": {
    "collapsed": false
   }
  },
  {
   "cell_type": "code",
   "source": [],
   "metadata": {
    "collapsed": false
   },
   "outputs": [],
   "execution_count": null
  },
  {
   "cell_type": "markdown",
   "source": [
    "What are the songs that have *some* missing values? \n",
    "Use masking to create the index of such elements; e.g. `<i>`, e.g., `<i> = songs.isna().sum() > 0` and show the type of the result (it's a `pd.Series` object).\n",
    "Display `<i>.index` and `<i>.values`. "
   ],
   "metadata": {
    "collapsed": false
   }
  },
  {
   "cell_type": "code",
   "source": [],
   "metadata": {
    "collapsed": false
   },
   "outputs": [],
   "execution_count": null
  },
  {
   "metadata": {},
   "cell_type": "markdown",
   "source": [
    "From the `pd.Series` object `<i>` created in the previous step, select the elements that have the values > 0 (i.e., the names of the columns that have some `NaN` values) - `<i>[<i>]`, `<i>[<i>.values > 0]` (works because `<i>.values` are `True` and `False`, and `True.__int__() = 1`).\n",
    "\n",
    "Also, from the `<pd.df>` select a subset with only those columns that have *some* `NaN` values - `<pd.df>.loc[:, <i>]`."
   ]
  },
  {
   "cell_type": "code",
   "source": [],
   "metadata": {
    "collapsed": false
   },
   "outputs": [],
   "execution_count": null
  },
  {
   "cell_type": "markdown",
   "source": [
    "How many `NaN`s are there in each column that has `NaN`s? `<pd.df>.isna().sum()[i]`."
   ],
   "metadata": {
    "collapsed": false
   }
  },
  {
   "cell_type": "code",
   "source": [],
   "metadata": {
    "collapsed": false
   },
   "outputs": [],
   "execution_count": null
  },
  {
   "cell_type": "markdown",
   "source": "From a `<pd.df>` select all *rows* that have *some* missing values: `<pd.df>[<pd.df>.isna().any(axis=1)]`, `<pd.df>.loc[<pd.df>.isna().any(axis=1)]`, `<pd.df>.loc[<pd.df>.isna().any(axis=1), :]`.",
   "metadata": {
    "collapsed": false
   }
  },
  {
   "cell_type": "code",
   "source": [],
   "metadata": {
    "collapsed": false
   },
   "outputs": [],
   "execution_count": null
  },
  {
   "metadata": {},
   "cell_type": "markdown",
   "source": "Select rows based on column conditions: `<pd.df>.loc[<pd.df>.<column 1> == <...>]`, `<pd.df>.loc[(<pd.df>.<column 1> == <...>) & (<pd.df>.<column 2> == <...>)]`, etc. Notice the use of `&`, not `and`."
  },
  {
   "metadata": {},
   "cell_type": "code",
   "source": "",
   "outputs": [],
   "execution_count": null
  },
  {
   "cell_type": "markdown",
   "source": "What are the rows that have missing values in a specific column of a `<pd.df>`? For example, what are the songs with missing `track_composers` values?",
   "metadata": {
    "collapsed": false
   }
  },
  {
   "cell_type": "markdown",
   "source": [
    "Using `isna()`, `loc[]`, `iloc[]`, `len()` and `index`."
   ],
   "metadata": {
    "collapsed": false
   }
  },
  {
   "cell_type": "markdown",
   "source": [
    "Calling `loc[]` effectively means *creating a subset* (typically based on a relational or logical expression over one or more columns of the dataset). In other words, `loc[]` creates a *slice* of the dataframe, so the type of the result is `<pd.df>`.\n",
    "\n",
    "Note that `loc[]` works as `loc[<selected rows>, <selected columns>]`. The indices `<selected rows>` and `<selected columns>` can be created either directly in `loc[]` or beforehand.\n",
    "\n",
    "If defining the <selected rows> index to be used with `loc[]` subsequently, it is a good practice to define it as a boolean *mask* over a single column, like `<pd.df>['<column>'].isna()`, or as a logical expression in which each chunk is a relational expression over a single column, e.g. `<pd.df>['<column1>'].isna() & <pd.df>['<column2>'] < 23`. The result will be a subset of the original dataframe (i.e., another `<pd.df>`)."
   ],
   "metadata": {
    "collapsed": false
   }
  },
  {
   "cell_type": "markdown",
   "source": [
    "Defining the relevant index with a statement like `<pd.df>.loc[<pd.df>['<column>'].isna()].index` is a good starting point when using `iloc[]` subsequently.\n",
    "\n",
    "If using `iloc[]`, don't forget the `.index` chunk in the statement used to create the index (such as `<pd.df>.loc[<pd.df>['<column>'].isna()].index`). Without it, the result is another `<pd.df>`."
   ],
   "metadata": {
    "collapsed": false
   }
  },
  {
   "cell_type": "code",
   "source": [
    "# Define i_iloc, the index to be used with iloc[], starting from <i> = <pd.df>['<column>'].isna();\n",
    "# iloc[] can be used conveniently here if the relevant index is already defined with <pd.df>.loc[<i>].index, i.e. <pd.df>.loc[<pd.df>['<column>'].isna()].index;\n",
    "# remember that the second index in iloc[] must be a number too (the relevant column index)\n",
    "\n",
    "# Define i_loc, the index (boolean mask) to be used with loc[], e.g. i_loc = <pd.df>['<column>'].isna()\n",
    "\n",
    "# display(songs.loc[i_loc.index, ['track', 'track_composers']])\n",
    "# display(songs.iloc[i_iloc, [0, 20]])"
   ],
   "metadata": {
    "collapsed": false
   },
   "outputs": [],
   "execution_count": null
  },
  {
   "metadata": {},
   "cell_type": "markdown",
   "source": "Replace `NaN` values in `track_composers` with `'unknown'` (`<pd.df>.loc[<i_loc>, '<column>'] = <new value>`, `<pd.df>.iloc[<i_iloc>, <column index>] = <new value>`)."
  },
  {
   "metadata": {},
   "cell_type": "code",
   "outputs": [],
   "execution_count": 135,
   "source": "# Make the replacement and display it\n"
  },
  {
   "metadata": {},
   "cell_type": "markdown",
   "source": "Double-check the missing values now:"
  },
  {
   "metadata": {
    "ExecuteTime": {
     "end_time": "2024-09-17T22:27:07.397686Z",
     "start_time": "2024-09-17T22:27:07.392170Z"
    }
   },
   "cell_type": "code",
   "source": [
    "# Use <pd.df>.<column>.isna().sum(), or <pd.df>.isna().sum()['<column>'], or \n",
    "# sb.heatmap(<pd.df>.isna(), cmap='...')\n"
   ],
   "outputs": [],
   "execution_count": 4
  },
  {
   "cell_type": "markdown",
   "source": "How many songs from the beginning of the grunge era are there?",
   "metadata": {
    "collapsed": false
   }
  },
  {
   "cell_type": "code",
   "source": [
    "# Define the beginning of the grunge era as a list comprehension\n",
    "\n",
    "# Display the songs from the early years using a combination of <pd.df>.loc[] and isin()\n"
   ],
   "metadata": {
    "collapsed": false
   },
   "outputs": [],
   "execution_count": null
  },
  {
   "cell_type": "markdown",
   "source": [
    "### Grouping and sorting data\n",
    "- `<pd.df>['<column>'].unique()`, `<pd.df>['<column>'].nunique()`\n",
    "- `<pd.df>.<column>.groupby()`, `<pd.df>.groupby('<column>')`, `<pd.df>.groupby('<column>').get_group(<value>)`\n",
    "- `<pd.df>['<column>'].value_counts()`, `<pd.df>['<column>'].value_counts().sort_index()`, `<pd.df>['<column>'].value_counts().sort_index(inplace=True)`\n",
    "- `<pd.df>.sort_values(by='<column name>', ascending=False/True)`\n",
    "- `<pd.df>.groupby('<column>').<another column>.<f()>.sort_values(ascending=False)` (aggregate using function `f()`, e.g. `mean()`)\n",
    "- `<pd.df>.groupby('<column>').<another column>.agg(['<f1 name>', '<f2 name>', ...])` (aggregate using multiple functions, e.g. `mean()`, `count()`,...)\n",
    "\n",
    "If `sort_values()` is used after `agg([<'f1 name>', '<f2 name>', ...])` (`agg(['<f1 name>', '<f2 name>', ...]).sort_values(by='<f name>', ascending=False)`), it must be passed one positional argument (`by='<f name>'`) before the optional `ascending=False`.\n"
   ],
   "metadata": {
    "collapsed": false
   }
  },
  {
   "metadata": {},
   "cell_type": "markdown",
   "source": "Read a dataset without missing values."
  },
  {
   "metadata": {
    "ExecuteTime": {
     "end_time": "2024-09-18T11:14:28.302544Z",
     "start_time": "2024-09-18T11:14:28.300029Z"
    }
   },
   "cell_type": "code",
   "source": "",
   "outputs": [],
   "execution_count": null
  },
  {
   "metadata": {},
   "cell_type": "markdown",
   "source": "How many unique values for `release_year` are there in the dataset (`<pd.df>['<column>'].unique()`, `<pd.df>.<column>.unique()`; `<pd.df>['<column>'].nunique()`, `<pd.df>.<column>.nunique()`)?"
  },
  {
   "cell_type": "code",
   "source": [],
   "metadata": {
    "collapsed": false
   },
   "outputs": [],
   "execution_count": null
  },
  {
   "cell_type": "markdown",
   "source": [
    "Group the songs in the dataset by the year of release (`<pd.df>.groupby('<column>')`). The result can be `songs_by_year`. Display it, show its type, and explore its individual groups and their types (`<pd.df>.groupby('<column>').get_group(<value>)`). "
   ],
   "metadata": {
    "collapsed": false
   }
  },
  {
   "cell_type": "code",
   "source": [],
   "metadata": {
    "collapsed": false
   },
   "outputs": [],
   "execution_count": null
  },
  {
   "metadata": {},
   "cell_type": "markdown",
   "source": [
    "How many songs are there in the dataset for each `release_year` (`<pd.df>['<column>'].value_counts()`, `<pd.df>['<column>'].value_counts()[<year>]`, `<pd.df>['<column>'].value_counts().sort_index()`)?\n",
    "\n",
    "Note that `value_counts()` returns a `pd.Series` object, with the index equal to `<pd.df>['<column>'].unique()` values."
   ]
  },
  {
   "cell_type": "code",
   "source": [],
   "metadata": {
    "collapsed": false
   },
   "outputs": [],
   "execution_count": null
  },
  {
   "cell_type": "markdown",
   "source": [
    "Sort the songs from the dataset by the year of release (`<pd.df>.sort_values(by='<column name>', ascending=False/True)`).\n",
    "(It is also possible to use `inplace=True` in `sort_values()`, but it will change the order of songs in the dataset from that point on.)"
   ],
   "metadata": {
    "collapsed": false
   }
  },
  {
   "cell_type": "code",
   "source": [],
   "metadata": {
    "collapsed": false
   },
   "outputs": [],
   "execution_count": null
  },
  {
   "cell_type": "markdown",
   "source": [
    "Group the songs in the dataset by the year of release and display `mean` and/or `max` duration of the songs in each year, as well as the number (`count`) of songs in each year (`<pd.df>.groupby('<column>').<another column>.<f()>.sort_values(ascending=False)` (aggregate using function `f()`, e.g. `mean()`), `<pd.df>.groupby('<column>').<another column>.agg(['f1 name>', '<f2 name>', ...])` (aggregate using multiple functions, e.g. `mean()`, `count()`, `max()`,...)).\n",
    "If `sort_values()` is used after `agg([<'f1 name>', '<f2 name>', ...])` (`agg(['<f1 name>', '<f2 name>', ...]).sort_values(by='<f name>', ascending=False)`), it must be passed one positional argument (`by='<f name>'`) before the optional `ascending=False`."
   ],
   "metadata": {
    "collapsed": false
   }
  },
  {
   "cell_type": "code",
   "source": [
    "# Make the groupings and aggregations\n",
    "\n",
    "# <pd.df>.groupby('<column>').<another column>.<f()>.sort_values(ascending=False)\n",
    "\n",
    "# <pd.df>.groupby('<column>').<another column>.agg(['<f1 name>', '<f2 name>', ...]).sort_values(by='<f name>', ascending=False)\n"
   ],
   "metadata": {
    "collapsed": false
   },
   "outputs": [],
   "execution_count": null
  },
  {
   "metadata": {},
   "cell_type": "markdown",
   "source": [
    "## Data visualization\n",
    "Plot some scatterplots, line plots, bar graphs, histograms, scatterplots, box plots, violins, heatmaps,...\n",
    "[Example](https://www.analyticsvidhya.com/blog/2021/08/how-to-perform-exploratory-data-analysis-a-guide-for-beginners/)\n",
    "\n",
    "[Matplotlib examples](https://matplotlib.org/stable/gallery/index.html)\n",
    "\n",
    "[Seaborn examples](https://seaborn.pydata.org/examples/index.html) (see also [The Python Graph Gallery](https://www.python-graph-gallery.com/); it has a very neat user interface!)\n",
    "\n",
    "<u>**Note that it is also possible to**</u> <u>**[plot lines, bargraphs,... with Pandas only](https://pandas.pydata.org/docs/reference/api/pandas.DataFrame.plot.line.html)**</u> (although in such cases Pandas interacts with Matplotlib under the hood)."
   ]
  },
  {
   "metadata": {},
   "cell_type": "markdown",
   "source": [
    "<b>IMPORTANT: Matplotlib terminology, Figure vs. Axes</b><br>\n",
    "A `Figure` object in Matplotlib is the outermost container for a Matplotlib graphic, which can contain multiple `Axes` objects. One source of confusion is the name: an `Axes` actually translates into what we think of as an individual plot or graph (rather than the plural of \"axis\", as we might expect)."
   ]
  },
  {
   "metadata": {},
   "cell_type": "markdown",
   "source": "##### Missing values"
  },
  {
   "metadata": {},
   "cell_type": "markdown",
   "source": [
    "Read the dataset.\n",
    "\n",
    "`pd.read_csv()` returns a `pd.DataFrame` object.\n",
    "\n",
    "As for specifying the path of the dataset properly, see [this](https://stackoverflow.com/questions/35384358/how-to-open-my-files-in-data-folder-with-pandas-using-relative-path) (more specifically, **both** [this](https://stackoverflow.com/a/35384414/1899061) and [this](https://stackoverflow.com/a/43600253/1899061))."
   ]
  },
  {
   "metadata": {},
   "cell_type": "code",
   "outputs": [],
   "execution_count": 3,
   "source": [
    "# Get the songs as a pd.DataFrame object from 'data/grunge_v4.csv', \n",
    "# or from '../data/grunge_v4.csv', or '../../data/grunge_v4.csv', or ...,\n",
    "# depending on where the csv file is located\n"
   ]
  },
  {
   "metadata": {},
   "cell_type": "markdown",
   "source": "Check for missing values (use, e.g., `sb.heatmap(<pd.df>.isna(), cbar=False, cmap='viridis')`)."
  },
  {
   "metadata": {
    "ExecuteTime": {
     "end_time": "2024-09-19T15:10:52.229786Z",
     "start_time": "2024-09-19T15:10:52.227178Z"
    }
   },
   "cell_type": "code",
   "source": "",
   "outputs": [],
   "execution_count": null
  },
  {
   "metadata": {},
   "cell_type": "markdown",
   "source": "Briefly analyze the rows with `NaN`s. To select all such rows, use `any()` (`<pd.df>.loc[<pd.df>.isna().any(axis=1), ['<column 1>', '<column 2>', ...]`). To select the rows where there are no `NaN`s at all, use `<pd.df>.loc[<pd.df>.notna().all(axis=1), ['<column 1>', '<column 2>', ...]`."
  },
  {
   "metadata": {
    "ExecuteTime": {
     "end_time": "2024-09-19T15:11:13.599006Z",
     "start_time": "2024-09-19T15:11:13.595801Z"
    }
   },
   "cell_type": "code",
   "source": "",
   "outputs": [],
   "execution_count": null
  },
  {
   "metadata": {},
   "cell_type": "markdown",
   "source": "If it is difficult to spot any regular pattern, get rid of `NaN`s in the simplest way possible (`<pd.df>.dropna(inplace=True)`). Make sure that the modified dataset is `NaN`-free (`<pd.df>.isna().sum()`)."
  },
  {
   "metadata": {},
   "cell_type": "code",
   "outputs": [],
   "execution_count": null,
   "source": ""
  },
  {
   "metadata": {},
   "cell_type": "markdown",
   "source": "Save the reduced dataset as `grunge_visualization.csv`, the starting one to make visualizations."
  },
  {
   "metadata": {},
   "cell_type": "code",
   "outputs": [],
   "execution_count": null,
   "source": "# Save the modified dataset\n"
  },
  {
   "metadata": {},
   "cell_type": "markdown",
   "source": "##### Scatterplot"
  },
  {
   "metadata": {},
   "cell_type": "markdown",
   "source": [
    "Read the modified dataset (if necessary).\n",
    "\n",
    "`pd.read_csv()` returns a `pd.DataFrame` object.\n",
    "\n",
    "As for specifying the path of the dataset properly, see [this](https://stackoverflow.com/questions/35384358/how-to-open-my-files-in-data-folder-with-pandas-using-relative-path) (more specifically, **both** [this](https://stackoverflow.com/a/35384414/1899061) and [this](https://stackoverflow.com/a/43600253/1899061))."
   ]
  },
  {
   "metadata": {},
   "cell_type": "code",
   "outputs": [],
   "execution_count": null,
   "source": ""
  },
  {
   "metadata": {},
   "cell_type": "markdown",
   "source": "Scatterplot the relationship between `duration` and `danceability`."
  },
  {
   "metadata": {},
   "cell_type": "markdown",
   "source": "If the format of `duration` is `str`, change it to `int`."
  },
  {
   "metadata": {},
   "cell_type": "code",
   "outputs": [],
   "execution_count": null,
   "source": ""
  },
  {
   "metadata": {},
   "cell_type": "markdown",
   "source": "Save the modified dataset as `grunge_visualization_duration_int.csv`."
  },
  {
   "metadata": {},
   "cell_type": "code",
   "outputs": [],
   "execution_count": null,
   "source": "# Save the modified dataset\n"
  },
  {
   "metadata": {},
   "cell_type": "markdown",
   "source": "To set the ranges of values on x-axis and y-axis (`duration`, `danceability`), check the min and max values or run `describe()`. Even better, run `songs.describe().loc[['min', 'max'], ['duration', 'danceability']]`, since `describe()` creates a `<pd.df>` object."
  },
  {
   "metadata": {},
   "cell_type": "code",
   "outputs": [],
   "execution_count": null,
   "source": ""
  },
  {
   "metadata": {},
   "cell_type": "markdown",
   "source": "###### 1. Plotting using Matplotlib"
  },
  {
   "metadata": {},
   "cell_type": "markdown",
   "source": [
    "[Matplotlib scatterplot example](https://matplotlib.org/stable/gallery/shapes_and_collections/scatter.html)<br>\n",
    "[Excellent tutorial on matplotlib](https://realpython.com/python-matplotlib-guide/)\n",
    "\n",
    "Simple version:<br>\n",
    "`ax = plt.axes()`<br>\n",
    "`ax.set(xlim=(<from>, <to>), ylim=(<from>, <to>), xlabel='<xlabel>', ylabel='<ylabel>', title='<title>')`<br>\n",
    "`ax.scatter(<pd.df>['<X>'], <pd.df>['<Y>'], marker='<marker type>', c='<fill color>', edgecolors='<edgecolor>', s=<marker size>)`; <br>\n",
    "\n",
    "The `<pd.df>['<X>']` and `<pd.df>['<Y>']` arguments can be also specified as `<pd.df>.<X>` and `<pd.df>.<Y>` if `<X>` and `<Y>` are single words.\n",
    "The color parameter (`c`) is optional; if present, it should be a scalar or a sequence of length consistent with the lengths of `<X>` and `<Y>` (`(<X>, <Y>)` points). The `marker` parameter is optional as well. Both `c` and `marker` have defaults. For other values of `c` and `marker`, see [this](https://matplotlib.org/stable/gallery/color/named_colors.html#css-colors) and [this](https://matplotlib.org/stable/api/_as_gen/matplotlib.markers.MarkerStyle.html#matplotlib.markers.MarkerStyle.markers), respectively. A good value for `s` is 30-40 for 200-300 markers on the plot.\n",
    "\n",
    "Alternatively:<br>\n",
    "`ax.plot(<pd.df>['<X>'], <pd.df>['<Y>'], marker='<marker type>', color='<color>', linestyle='');`<br>\n",
    "\n",
    "The `linestyle=''` parameter is essential for plotting the dots only - omitting it means that the connecting lines are plotted as well.<br><br>\n",
    "\n",
    "Elaborated version, using plt.subplots():\n",
    "\n",
    "Get the Figure and the Axes objects\n",
    "\n",
    "`fig, ax = plt.subplots(nrows=1, ncols=1, layout='constrained', facecolor='color', figsize=(<x_size>, <y_size>))`\n",
    "\n",
    "Plot the data on the Axes\n",
    "\n",
    "`ax.scatter(x=<x>, y=<y>, color='<color>', linewidth=<linewidth>, edgecolors='<edgecolors>', marker='<marker type>', s=<dot/point size>, alpha=<transparency>)`\n",
    "\n",
    "Set the Axes title, background color (face color), labels (incl. font sizes) and limits\n",
    "\n",
    "`ax.set_title('<title>', fontsize=12, loc='left')`<br>\n",
    "`ax.set_facecolor('<color>')`<br>\n",
    "`ax.set_xlabel('<x_label>', fontsize=8)`<br>\n",
    "`ax.set_ylabel('<y_label>', fontsize=8)`<br>\n",
    "`ax.set_xlim(<m>, <n>)`<br>\n",
    "`ax.set_ylim(<p>, <q>)`<br>\n",
    "\n",
    "Set the tick parameters<br>\n",
    "\n",
    "`ax.ticklabel_format(useOffset=False)`<br>\n",
    "`ax.tick_params(axis='x', labelsize=6)`<br>\n",
    "`ax.tick_params(axis='y', labelsize=6)`<br>\n",
    "\n",
    "Display the plot<br>\n",
    "\n",
    "`plt.show()`<br><br>\n",
    "\n",
    "In `fig, ax = plt.subplots(nrows=1, ncols=1, layout='constrained', facecolor='color', figsize=(<x_size>, <y_size>))`, using `layout='constrained'` is recommended to avoid overlapping of figure elements when changing the figure size. For a good figure size, use `figsize=(3.5, 2)` or similar.\n",
    "\n",
    "To prevent numbers displayed in scientific notation (exponential) on axes ticks, make sure to use `ax.ticklabel_format(useOffset=False)`.\n",
    "\n",
    "Experiment with different font sizes for labels, title and ticks.\n",
    "\n",
    "The `color` parameter can be abbreviated as `c` and is optional; if present, it should be a scalar or a sequence of length consistent with the lengths of `<X>` and `<Y>` (`(<X>, <Y>)` points). The `marker` parameter is optional as well. Both `color` and `marker` have defaults. For other values of `color` and `marker`, see [this](https://matplotlib.org/stable/gallery/color/named_colors.html#css-colors) and [this](https://matplotlib.org/stable/api/_as_gen/matplotlib.markers.MarkerStyle.html#matplotlib.markers.MarkerStyle.markers), respectively. A good value for the dot/point size parameter `s` is 30-40 for 200-300 markers on the plot.\n",
    "\n",
    "Examples of some parameters in `ax.scatter()`: `color='steelblue'`, `linewidth=1` (the thickness of the dots/points rim), `alpha=0.8` (alpha: transparency (0-1))."
   ]
  },
  {
   "metadata": {},
   "cell_type": "code",
   "outputs": [],
   "execution_count": null,
   "source": "# Simple version\n"
  },
  {
   "metadata": {},
   "cell_type": "code",
   "outputs": [],
   "execution_count": null,
   "source": "# Elaborated version, using plt.subplots()\n"
  },
  {
   "metadata": {},
   "cell_type": "markdown",
   "source": "###### 2. A brief analysis of the plot: What are the shortest/longest songs and their durations?"
  },
  {
   "metadata": {},
   "cell_type": "code",
   "outputs": [],
   "execution_count": null,
   "source": [
    "# display(<pd.df>['column'] <= <value>)                                    # Boolean mask\n",
    "# display(type(<pd.df>['column'] <= <value>))                              # pd.Series\n",
    "# display(<pd.df>[<pd.df>['column'] <= <value>]['column to to display'])   # select one column\n",
    "# display(<pd.df>[<pd.df>['column'] <= <value>]['column 1  to to display', 'column 2 to display',...])   # select multiple columns\n",
    "\n",
    "# Try this also with .loc[], as well as with .iloc[], with an explicitly set index and with .index\n"
   ]
  },
  {
   "metadata": {},
   "cell_type": "markdown",
   "source": "##### Line plot"
  },
  {
   "metadata": {},
   "cell_type": "markdown",
   "source": [
    "Read the modified dataset (if necessary).\n",
    "\n",
    "`pd.read_csv()` returns a `pd.DataFrame` object.\n",
    "\n",
    "As for specifying the path of the dataset properly, see [this](https://stackoverflow.com/questions/35384358/how-to-open-my-files-in-data-folder-with-pandas-using-relative-path) (more specifically, **both** [this](https://stackoverflow.com/a/35384414/1899061) and [this](https://stackoverflow.com/a/43600253/1899061))."
   ]
  },
  {
   "metadata": {},
   "cell_type": "code",
   "outputs": [],
   "execution_count": null,
   "source": ""
  },
  {
   "metadata": {},
   "cell_type": "markdown",
   "source": "How many songs from each `release_year` are there?"
  },
  {
   "metadata": {},
   "cell_type": "code",
   "outputs": [],
   "execution_count": null,
   "source": "# Use <pd.df>['<column>'].value_counts(), <pd.df>['<column>'].value_counts()[<specific value> in <column>]\n"
  },
  {
   "metadata": {},
   "cell_type": "markdown",
   "source": "Sort this result by index: `pd.Series.sort_index()` (there is also `pd.DataFrame.sort_index()`)."
  },
  {
   "metadata": {},
   "cell_type": "code",
   "outputs": [],
   "execution_count": null,
   "source": "# Define val_counts_sorted_by_index\n"
  },
  {
   "metadata": {},
   "cell_type": "markdown",
   "source": [
    "Preparation for plotting (`counts` on y-axis, `release_year` on x-axis): get the `np.ndarray` version of `val_counts_sorted_by_index`, as well as of its index.\n",
    "\n",
    "One way of doing it is to use `np.array()` over `val_counts_sorted_by_index.index` and `val_counts_sorted_by_index.values`. However, the same effect is achieved using only `val_counts_sorted_by_index.index` and `val_counts_sorted_by_index.values` (their type is `np.ndarray`)."
   ]
  },
  {
   "metadata": {},
   "cell_type": "code",
   "outputs": [],
   "execution_count": null,
   "source": ""
  },
  {
   "metadata": {},
   "cell_type": "markdown",
   "source": "And now plot it."
  },
  {
   "metadata": {},
   "cell_type": "markdown",
   "source": "###### 1. Plotting using Matplotlib"
  },
  {
   "metadata": {},
   "cell_type": "markdown",
   "source": [
    "[Matplotlib line plot example](https://matplotlib.org/stable/gallery/lines_bars_and_markers/simple_plot.html)<br>\n",
    "[Excellent tutorial on matplotlib](https://realpython.com/python-matplotlib-guide/)\n",
    "<br>\n",
    "`ax = plt.axes()`<br>\n",
    "`ax.set(xlim=(<lower limit>, <upper limit>), ylim=(<lower limit>, <upper limit>), xlabel='...', ylabel='...', title='...')`<br>\n",
    "`ax.ticklabel_format(useOffset=False)`<br>\n",
    "`ax.plot(<x>, <y>, color='...', marker='<marker type>', linewidth=<number>, alpha=<number>)`<br>\n",
    "\n",
    "To prevent numbers displayed in scientific notation (exponential) on axes ticks, make sure to use `ax.ticklabel_format(useOffset=False)`.\n",
    "\n",
    "Do not use `x=<x>, y=<y>` in `ax.plot()`, it generates an error. Use just `<x>, <y>`. For the other parameters, the keywords are necessary.\n",
    "\n",
    "Examples of parameters in `ax.plot()`: `color='steelblue'`, `linewidth=3`, `alpha=0.8` (alpha: transparency (0-1))."
   ]
  },
  {
   "metadata": {},
   "cell_type": "code",
   "outputs": [],
   "execution_count": null,
   "source": "# Simple version\n"
  },
  {
   "metadata": {},
   "cell_type": "markdown",
   "source": [
    "<em>Elaborated version 1, without `plt.subplots()`</em><br><br>\n",
    "\n",
    "Set the Figure object parameters<br>\n",
    "\n",
    "`plt.figure(layout='constrained', facecolor='<color>', figsize=(<x_size>, <y_size>))`<br>\n",
    "\n",
    "Get the Axes object<br>\n",
    "\n",
    "`ax = plt.axes()`<br>\n",
    "\n",
    "Set the Axes object parameters<br>\n",
    "\n",
    "`ax.set_facecolor('<color>')`<br>\n",
    "`ax.set_title('<title>', fontsize=12, loc='left')`<br>\n",
    "`ax.set_xlabel('<x_label>', fontsize=8)`<br>\n",
    "`ax.set_ylabel('<y_label>', fontsize=8)`<br>\n",
    "\n",
    "Without `plt.subplots()`, `xlim` and `ylim` have to be set using `ax.set()`<br>\n",
    "\n",
    "`ax.set(xlim=(<m>, <n>), ylim=(<p>, <q>))`<br>\n",
    "\n",
    "Set the tick parameters<br>\n",
    "\n",
    "`ax.ticklabel_format(useOffset=False)`<br>\n",
    "`ax.tick_params(axis='x', labelsize=6)`<br>\n",
    "`ax.tick_params(axis='y', labelsize=6)`<br>\n",
    "\n",
    "Display the plot using `ax.plot()`<br>\n",
    "\n",
    "`ax.plot(<x>, <y>, color='<color>', linewidth=<linewidth>, alpha=<transparency>);`<br><br>\n",
    "\n",
    "In `plt.figure(layout='constrained', facecolor='<color>', figsize=(<x_size>, <y_size>))`, using `layout='constrained'` is recommended to avoid overlapping of figure elements when changing the figure size. For a good figure size, use `figsize=(3.5, 2)` or similar.\n",
    "\n",
    "It is also possible to set the Axes object background color using `plt.axes(facecolor='<color>')` instead of `ax.set_facecolor('<color>')`.\n",
    "\n",
    "To prevent numbers displayed in scientific notation (exponential) on axes ticks, make sure to use `ax.ticklabel_format(useOffset=False)`.\n",
    "\n",
    "Experiment with different font sizes for labels, title and ticks.\n",
    "\n",
    "**Do not use `x=<x>, y=<y>` in `ax.plot()`, it generates an error. Use just `<x>, <y>`. For the other parameters, the keywords are necessary.**\n",
    "\n",
    "Examples of parameters in `ax.plot()`: `color='steelblue'`, `linewidth=3`, `alpha=0.8` (alpha: transparency (0-1))."
   ]
  },
  {
   "metadata": {},
   "cell_type": "code",
   "outputs": [],
   "execution_count": null,
   "source": [
    "# Elaborated version 1, without plt.subplots()\n",
    "\n",
    "# Set the Figure object parameters\n",
    "\n",
    "# Get the Axes object\n",
    "\n",
    "# Set the Axes object parameters\n",
    "\n",
    "# Without plt.subplots(), xlim and ylim have to be set using ax.set()\n",
    "\n",
    "# Set the tick parameters\n",
    "\n",
    "# Display the plot using ax.plot()\n"
   ]
  },
  {
   "metadata": {},
   "cell_type": "markdown",
   "source": [
    "<em>Elaborated version 2, using `plt.subplots()`</em><br><br>\n",
    "\n",
    "Get the Figure and the Axes objects\n",
    "\n",
    "`fig, ax = plt.subplots(nrows=1, ncols=1, layout='constrained', facecolor='color', figsize=(<x_size>, <y_size>))`\n",
    "\n",
    "Plot the data on the Axes\n",
    "\n",
    "`ax.plot(<x>, <y>, color='<color>', linewidth=<linewidth>, alpha=<transparency>)`\n",
    "\n",
    "Set the Axes title, background color (face color), labels (incl. font sizes) and limits\n",
    "\n",
    "`ax.set_title('<title>', fontsize=12, loc='left')`<br>\n",
    "`ax.set_facecolor('<color>')`<br>\n",
    "`ax.set_xlabel('<x_label>', fontsize=8)`<br>\n",
    "`ax.set_ylabel('<y_label>', fontsize=8)`<br>\n",
    "`ax.set_xlim(<m>, <n>)`<br>\n",
    "`ax.set_ylim(<p>, <q>)`<br>\n",
    "\n",
    "Set the tick parameters<br>\n",
    "\n",
    "`ax.ticklabel_format(useOffset=False)`<br>\n",
    "`ax.tick_params(axis='x', labelsize=6)`<br>\n",
    "`ax.tick_params(axis='y', labelsize=6)`<br>\n",
    "\n",
    "Display the plot<br>\n",
    "\n",
    "`plt.show()`<br><br>\n",
    "\n",
    "In `fig, ax = plt.subplots(nrows=1, ncols=1, layout='constrained', facecolor='color', figsize=(<x_size>, <y_size>))`, using `layout='constrained'` is recommended to avoid overlapping of figure elements when changing the figure size. For a good figure size, use `figsize=(3.5, 2)` or similar.\n",
    "\n",
    "To prevent numbers displayed in scientific notation (exponential) on axes ticks, make sure to use `ax.ticklabel_format(useOffset=False)`.\n",
    "\n",
    "Experiment with different font sizes for labels, title and ticks.\n",
    "\n",
    "**Do not use `x=<x>, y=<y>` in `ax.plot()`, it generates an error. Use just `<x>, <y>`. For the other parameters, the keywords are necessary.**\n",
    "\n",
    "Examples of parameters in `ax.plot()`: `color='steelblue'`, `linewidth=3`, `alpha=0.8` (alpha: transparency (0-1))."
   ]
  },
  {
   "metadata": {},
   "cell_type": "code",
   "outputs": [],
   "execution_count": null,
   "source": [
    "# Elaborated version 2, using plt.subplots()\n",
    "\n",
    "# Get the Figure and the Axes objects\n",
    "\n",
    "# Plot the data on the Axes\n",
    "\n",
    "# Set the Axes title, labels (incl. font sizes) and limits\n",
    "\n",
    "# Set the Axes background color (face color) \n",
    "\n",
    "# Set the tick parameters\n",
    "\n",
    "# Display the plot using plt.show()\n"
   ]
  },
  {
   "metadata": {},
   "cell_type": "markdown",
   "source": [
    "###### 2. Smoothen the curves\n",
    "Based on [this](https://stackoverflow.com/a/5284038/1899061).<br><br>\n",
    "`from scipy.interpolate import make_interp_spline, BSpline`<br>\n",
    "\n",
    "`<x> = <definition of x-axis variable>`<br>\n",
    "`<y> = <definition of y-axis variable>`<br>\n",
    "\n",
    "`<x_smooth> = np.linspace(<x>.min(), <x>max(), 300)`&emsp;&emsp;&emsp;&emsp;# 300: the number of points to make between `<x>.min() and <x>.max()`<br>\n",
    "`spl = make_interp_spline(release_year, counts, k=3)`&emsp;&emsp;&emsp;&emsp; # type: BSpline<br>\n",
    "`<y_smooth> = spl(<x>_smooth)`<br>\n",
    "\n",
    "`plt.xlim([<lowest value of x to show on the plot>, <highest value of x to show on the plot>])`<br>\n",
    "`plt.ylim([<lowest value of y to show on the plot>, <highest value of x to show on the plot>])`<br>\n",
    "\n",
    "`plt.plot(<x_smooth>, <y_smooth>)`<br>\n",
    "`plt.plot(<x>, <y>)`&emsp;&emsp;&emsp;&emsp;&emsp;&emsp;&emsp;&emsp;&emsp;&emsp;&emsp;&emsp;&emsp;&emsp;&emsp;&emsp;&emsp;&emsp;&emsp;# optional: show the segmented line on the same plot as well<br>\n",
    "`plt.show()`\n",
    "\n"
   ]
  },
  {
   "metadata": {
    "ExecuteTime": {
     "end_time": "2024-09-20T09:03:17.877201Z",
     "start_time": "2024-09-20T09:03:17.868177Z"
    }
   },
   "cell_type": "code",
   "source": [
    "# # 300 represents the number of points to make between T.min and T.max\n",
    "# T = np.array([6, 7, 8, 9, 10, 11, 12])\n",
    "# power = np.array([1.53E+03, 5.92E+02, 2.04E+02, 7.24E+01, 2.72E+01, 1.10E+01, 4.70E+00])\n",
    "#\n",
    "# # plt.plot(T,power)\n",
    "# # plt.show()\n",
    "#\n",
    "# xnew = np.linspace(T.min(), T.max(), 300)\n",
    "#\n",
    "# spl = make_interp_spline(T, power, k=3)  # type: BSpline\n",
    "# power_smooth = spl(xnew)\n",
    "#\n",
    "# plt.plot(xnew, power_smooth)\n",
    "# plt.show()\n",
    "\n",
    "# from scipy.interpolate import make_interp_spline, BSpline\n",
    "# \n",
    "# year_smooth = np.linspace(release_year.min(), release_year.max(), 300)\n",
    "# spl = make_interp_spline(release_year, counts, k=3)  # type: BSpline\n",
    "# counts_smooth = spl(year_smooth)\n",
    "# \n",
    "# # plt.figure(layout='constrained', figsize=(5, 3), facecolor='lightyellow', alpha=0.5)\n",
    "# fig, ax = plt.subplots(figsize=(10, 7), layout='constrained', facecolor='beige')\n",
    "# \n",
    "# ax.set_facecolor('navajowhite')\n",
    "# \n",
    "# plt.ticklabel_format(useOffset=False)\n",
    "# \n",
    "# plt.xlim([1989, 2020])\n",
    "# plt.ylim([0, 40])\n",
    "# plt.xticks(fontsize=8)\n",
    "# plt.yticks(fontsize=8)\n",
    "# \n",
    "# plt.xlabel('release_year', fontsize=10)\n",
    "# plt.ylabel('count', fontsize=10)\n",
    "# plt.title('Song counts over years', fontsize=12, color='green')\n",
    "# \n",
    "# plt.plot(year_smooth, counts_smooth)\n",
    "# plt.plot(release_year, counts)\n",
    "# plt.show()\n",
    "\n",
    "# # Alternatively\n",
    "# ax = plt.axes()\n",
    "# ax.set(xlim=(years.min()-1, years.max()+1), ylim=(150, 400), xlabel='release year', ylabel='count', title='Song counts over years')\n",
    "# ax.ticklabel_format(useOffset=False)\n",
    "# ax.plot(years, counts, color='steelblue', linewidth=2, marker='o', alpha=0.8)\n",
    "# ax.plot(year_smooth, counts_smooth, color='green', linewidth=2, alpha=0.8);"
   ],
   "outputs": [],
   "execution_count": 2
  },
  {
   "metadata": {},
   "cell_type": "markdown",
   "source": [
    "###### 3. Multiple subplots\n",
    "(shown here after [this](https://jakevdp.github.io/PythonDataScienceHandbook/04.08-multiple-subplots.html))"
   ]
  },
  {
   "metadata": {},
   "cell_type": "code",
   "outputs": [],
   "execution_count": null,
   "source": [
    "# # From https://jakevdp.github.io/PythonDataScienceHandbook/04.08-multiple-subplots.html\n",
    "# fig = plt.figure()\n",
    "# ax1 = fig.add_axes([0.1, 0.55, 0.8, 0.4],\n",
    "#                    xticklabels=[], ylim=(-1.2, 1.2))\n",
    "# ax2 = fig.add_axes([0.1, 0.1, 0.8, 0.4],\n",
    "#                    ylim=(-1.2, 1.2))\n",
    "# # Meanings of the numbers in [0.1, 0.55, 0.8, 0.4]:\n",
    "# #     0.1 - distance from the left edge of fig (grey area)\n",
    "# #     0.55 - distance between the upper and lower subplots (0.5: they touch each other)\n",
    "# #     0.8 - distance from the right edge of fig (grey area)\n",
    "# #     0.4 - area assigned to the upper/lower subplot (ax1/ax2) along the vertical axes\n",
    "# # Experiment with these numbers to get a better feeling for them\n",
    "\n",
    "# x = np.linspace(0, 10)\n",
    "# ax1.plot(np.sin(x))\n",
    "# ax2.plot(np.cos(x));\n",
    "\n",
    "# fig, ax = plt.subplots()\n",
    "# ax\n",
    "\n",
    "\n",
    "# fig = plt.figure(figsize=(6, 6), )\n",
    "# # fig\n",
    "# ax1 = fig.add_axes([0.1, 0.579, 0.8, 0.35],\n",
    "#                    xlim=(1963, 1968), ylim=(150, 400),\n",
    "#                    xlabel='release year', ylabel='counts',\n",
    "#                    title='Number of songs recorded over the years')\n",
    "# ax2 = fig.add_axes([0.1, 0.08, 0.8, 0.35],\n",
    "#                    xlim=(1963, 1968), ylim=(150, 400),\n",
    "#                    xlabel='release year', ylabel='counts',\n",
    "#                    title='Number of songs recorded over the years')\n",
    "# # display(type(ax1))\n",
    "# ax1.ticklabel_format(useOffset=False)\n",
    "# ax2.ticklabel_format(useOffset=False)\n",
    "# \n",
    "# ax1.plot(years, counts, color='steelblue', linewidth=1.5, alpha=0.8)    # alpha: transparency (0-1)\n",
    "# ax2.plot(years, counts, color='purple', linewidth=1.5, alpha=0.8);      # alpha: transparency (0-1)"
   ]
  },
  {
   "metadata": {
    "ExecuteTime": {
     "end_time": "2024-09-19T17:58:27.710675Z",
     "start_time": "2024-09-19T17:58:27.690802Z"
    }
   },
   "cell_type": "code",
   "source": [
    "# # From https://jakevdp.github.io/PythonDataScienceHandbook/04.08-multiple-subplots.html\n",
    "# fig = plt.figure()\n",
    "# ax1 = fig.add_axes([0.1, 0.55, 0.8, 0.4],\n",
    "#                    xticklabels=[], ylim=(-1.2, 1.2))\n",
    "# ax2 = fig.add_axes([0.1, 0.1, 0.8, 0.4],\n",
    "#                    ylim=(-1.2, 1.2))\n",
    "# # Meanings of the numbers in [0.1, 0.55, 0.8, 0.4]:\n",
    "# #     0.1 - distance from the left edge of fig (grey area)\n",
    "# #     0.55 - distance between the upper and lower subplots (0.5: they touch each other)\n",
    "# #     0.8 - distance from the right edge of fig (grey area)\n",
    "# #     0.4 - area assigned to the upper/lower subplot (ax1/ax2) along the vertical axes\n",
    "# # Experiment with these numbers to get a better feeling for them\n",
    "\n",
    "# x = np.linspace(0, 10)\n",
    "# ax1.plot(np.sin(x))\n",
    "# ax2.plot(np.cos(x));\n",
    "\n",
    "# fig, ax = plt.subplots()\n",
    "# ax\n",
    "\n",
    "\n",
    "# fig = plt.figure(figsize=(10, 7), )\n",
    "# # fig\n",
    "# ax1 = fig.add_axes([0.1, 0.579, 0.8, 0.35],\n",
    "#                    xlim=(1989, 2020), ylim=(0, 40),\n",
    "#                    xlabel='release year', ylabel='counts',\n",
    "#                    title='Number of songs over the years')\n",
    "# ax2 = fig.add_axes([0.1, 0.08, 0.8, 0.35],\n",
    "#                    xlim=(1989, 2020), ylim=(0, 40),\n",
    "#                    xlabel='release year', ylabel='counts',\n",
    "#                    title='Number of songs over the years')\n",
    "# # display(type(ax1))\n",
    "# ax1.ticklabel_format(useOffset=False)\n",
    "# ax2.ticklabel_format(useOffset=False)\n",
    "# \n",
    "# ax1.plot(release_year, counts, color='steelblue', linewidth=1.5, alpha=0.8)    # alpha: transparency (0-1)\n",
    "# ax2.plot(release_year, counts, color='purple', linewidth=1.5, alpha=0.8);      # alpha: transparency (0-1)"
   ],
   "outputs": [],
   "execution_count": 1
  },
  {
   "metadata": {},
   "cell_type": "markdown",
   "source": "##### Histogram"
  },
  {
   "metadata": {},
   "cell_type": "markdown",
   "source": "Read the dataset (`grunge_visualization.csv`)."
  },
  {
   "metadata": {},
   "cell_type": "code",
   "outputs": [],
   "execution_count": null,
   "source": ""
  },
  {
   "metadata": {},
   "cell_type": "markdown",
   "source": "Plot the histogram of song durations (lengths, times)."
  },
  {
   "metadata": {},
   "cell_type": "markdown",
   "source": "Use Pandas to extract song lengths as a `pd.Series` object (`<pd.Series object> = <pd.df>['<column>']`)."
  },
  {
   "metadata": {},
   "cell_type": "code",
   "outputs": [],
   "execution_count": null,
   "source": "# Get the song lengths as a pd.Series object\n"
  },
  {
   "metadata": {},
   "cell_type": "code",
   "outputs": [],
   "execution_count": null,
   "source": "# Convert the song lengths into a NumPy array (using <song lengths>.to_numpy() or np.array(<song lengths>))\n"
  },
  {
   "metadata": {},
   "cell_type": "markdown",
   "source": "###### Plotting using Matplotlib"
  },
  {
   "metadata": {},
   "cell_type": "markdown",
   "source": [
    "[Matplotlib histogram example](https://matplotlib.org/stable/gallery/statistics/hist.html)\n",
    "\n",
    "Plot the histogram of the song lengths using Matplotlib.\n",
    "\n",
    "Minimal version: `plt.hist(<x>, bins=<number of bins>);` or `sb.histplot(<x>, bins=<number of bins>)`.\n",
    "\n",
    "Alternatively:<br>\n",
    "`plt.figure(layout='constrained', facecolor='<color>', figsize=(3.5, 2), )`<br>\n",
    "`ax = plt.axes()`<br>\n",
    "`ax.set(xlabel='...', ylabel='...', title='...')`<br>\n",
    "`ax.hist(<x>, bins=<number of bins>)`<br>\n",
    "\n",
    "As for the plot styles, there are a lot of [available styles](https://www.dunderdata.com/blog/view-all-available-matplotlib-styles) that can be also shown in code using `plt.style.available`. See also [this](https://www.analyticsvidhya.com/blog/2021/08/exploring-matplotlib-stylesheets-for-data-visualization/).\n",
    "\n",
    "Alternatively, plot style can be set using `sb.set_theme(palette='...')` (or just `sb.set()`, but that function might get deprecated and removed from *Seaborn* in the future). See [`sb.set_theme()` documentation](https://seaborn.pydata.org/generated/seaborn.set_theme.html) for the function's parameters and defaults. For `palette='...'` use any of the palettes shown with `plt.style.available`, or any of [these](https://matplotlib.org/stable/users/explain/colors/colormaps.html#qualitative), or...\n",
    "\n",
    "Elaborated version, using plt.subplots():\n",
    "\n",
    "Get the Figure and the Axes objects\n",
    "\n",
    "`fig, ax = plt.subplots(nrows=1, ncols=1, layout='constrained', facecolor='color', figsize=(<x_size>, <y_size>))`\n",
    "\n",
    "Plot the data on the Axes\n",
    "\n",
    "`ax.hist(x=<x>, bins=<number of bins>, color='<color>', linewidth=<linewidth>, edgecolor='<edgecolors>', alpha=<transparency>)`\n",
    "\n",
    "Set the Axes title, background color (face color), labels (incl. font sizes) and limits\n",
    "\n",
    "`ax.set_title('<title>', fontsize=12, loc='left')`<br>\n",
    "`ax.set_facecolor('<color>')`<br>\n",
    "`ax.set_xlabel('<x_label>', fontsize=8)`<br>\n",
    "`ax.set_ylabel('<y_label>', fontsize=8)`<br>\n",
    "`ax.set_xlim(<m>, <n>)`<br>\n",
    "`ax.set_ylim(<p>, <q>)`<br>\n",
    "\n",
    "Set the tick parameters<br>\n",
    "\n",
    "`ax.ticklabel_format(useOffset=False)`<br>\n",
    "`ax.tick_params(axis='x', labelsize=6)`<br>\n",
    "`ax.tick_params(axis='y', labelsize=6)`<br>\n",
    "\n",
    "Display the plot<br>\n",
    "\n",
    "`plt.show()`<br><br>\n",
    "\n",
    "In `fig, ax = plt.subplots(nrows=1, ncols=1, layout='constrained', facecolor='color', figsize=(<x_size>, <y_size>))`, using `layout='constrained'` is recommended to avoid overlapping of figure elements when changing the figure size. For a good figure size, use `figsize=(3.5, 2)` or similar.\n",
    "\n",
    "To prevent numbers displayed in scientific notation (exponential) on axes ticks, make sure to use `ax.ticklabel_format(useOffset=False)`.\n",
    "\n",
    "Experiment with different font sizes for labels, title and ticks.\n",
    "\n",
    "The `color` parameter can be abbreviated as `c` and is optional. The `marker` parameter is optional as well, and so is `edgecolor` (can be abbreviated as `ec`). They all have defaults. For other values of `color` and `marker`, see [this](https://matplotlib.org/stable/gallery/color/named_colors.html#css-colors) and [this](https://matplotlib.org/stable/api/_as_gen/matplotlib.markers.MarkerStyle.html#matplotlib.markers.MarkerStyle.markers), respectively.\n",
    "\n",
    "Examples of some parameters in `ax.hist()`: `color='steelblue'`, `linewidth=1` (the thickness of the dots/points rim), `alpha=0.8` (alpha: transparency (0-1))."
   ]
  },
  {
   "metadata": {},
   "cell_type": "code",
   "outputs": [],
   "execution_count": null,
   "source": [
    "# Set plot style using sb.set_theme(palette='Pastel2')\n",
    "\n",
    "# Plot the histogram - x: song time in [sec]; y: number of songs; 40 bins\n",
    "\n",
    "# Minimal version\n",
    "\n",
    "# A more detailed version\n",
    "\n",
    "# Elaborated version, using plt.subplots()\n"
   ]
  },
  {
   "metadata": {},
   "cell_type": "markdown",
   "source": "##### Bar graph"
  },
  {
   "metadata": {},
   "cell_type": "markdown",
   "source": [
    "Read the dataset (`'../data/grunge_visualization.csv'`) and make some minor transformations.\n",
    "\n",
    "`pd.read_csv()` returns a `pd.DataFrame` object.\n",
    "\n",
    "As for specifying the path of the dataset properly, see [this](https://stackoverflow.com/questions/35384358/how-to-open-my-files-in-data-folder-with-pandas-using-relative-path) (more specifically, **both** [this](https://stackoverflow.com/a/35384414/1899061) and [this](https://stackoverflow.com/a/43600253/1899061))."
   ]
  },
  {
   "metadata": {},
   "cell_type": "code",
   "outputs": [],
   "execution_count": null,
   "source": [
    "# Get the songs as a pd.DataFrame object from 'data/grunge_visualization.csv', or from\n",
    "# '../data/grunge_visualization.csv', or '../../data/grunge_visualization.csv', or ..., \n",
    "# depending on where the csv file is located\n"
   ]
  },
  {
   "metadata": {},
   "cell_type": "markdown",
   "source": "How many powerful, energetic, intense, loud, and possibly anthemic songs did each grunge band released during the grunge period?"
  },
  {
   "metadata": {},
   "cell_type": "markdown",
   "source": "Define a new feature (column in the `songs` dataframe), `powerful`, as a combination of `energy` and `loudness` - songs with `energy` and `loudness` above the corresponding 3rd quartiles are considered powerful."
  },
  {
   "metadata": {},
   "cell_type": "code",
   "outputs": [],
   "execution_count": null,
   "source": "# Run songs.describe() to see the 3rd quartiles\n"
  },
  {
   "metadata": {},
   "cell_type": "code",
   "outputs": [],
   "execution_count": null,
   "source": [
    "# Display the 3rd quartiles for selected candidate features to describe the new feature, 'poweful' \n",
    "# ('danceability', 'energy', 'liveness', 'loudness', 'tempo', 'valence')\n"
   ]
  },
  {
   "metadata": {},
   "cell_type": "code",
   "outputs": [],
   "execution_count": null,
   "source": "# Define threshold values for the candidate features (3rd quartiles, i.e. '75%')\n"
  },
  {
   "metadata": {},
   "cell_type": "code",
   "outputs": [],
   "execution_count": null,
   "source": [
    "# Define the condition for a song to be powerful (songs with `energy` and `loudness` above the corresponding 3rd quartiles); \n",
    "# experiment with different combinations of candidate features\n"
   ]
  },
  {
   "metadata": {},
   "cell_type": "code",
   "outputs": [],
   "execution_count": null,
   "source": "# Define the new feature, 'powerful'\n"
  },
  {
   "metadata": {},
   "cell_type": "code",
   "outputs": [],
   "execution_count": null,
   "source": "# Display these powerful songs and their performers\n"
  },
  {
   "metadata": {},
   "cell_type": "markdown",
   "source": "How many grunge songs have been powerful, in terms of the definition of `songs.powerful` shown above?"
  },
  {
   "metadata": {},
   "cell_type": "code",
   "outputs": [],
   "execution_count": null,
   "source": ""
  },
  {
   "metadata": {},
   "cell_type": "markdown",
   "source": "<u>Save this version as a new *.csv* file, for use in the subsequent examples.</u> (`<pd.df>.to_csv('<path>')`)"
  },
  {
   "metadata": {},
   "cell_type": "code",
   "outputs": [],
   "execution_count": null,
   "source": ""
  },
  {
   "metadata": {},
   "cell_type": "markdown",
   "source": "###### Preparing the data for plotting the bar graph"
  },
  {
   "metadata": {},
   "cell_type": "markdown",
   "source": "Group the data - group the songs by artists."
  },
  {
   "metadata": {},
   "cell_type": "code",
   "outputs": [],
   "execution_count": null,
   "source": ""
  },
  {
   "metadata": {},
   "cell_type": "markdown",
   "source": "Use `get_group(<artists>)` to get all songs by a selected performer and `value_counts()` over the resulting group's `powerful` column (showing the `True` and `False` subgroups). This is a precursor to creating the data for the y-axis of the bar graph."
  },
  {
   "metadata": {},
   "cell_type": "code",
   "outputs": [],
   "execution_count": null,
   "source": ""
  },
  {
   "metadata": {},
   "cell_type": "markdown",
   "source": "Build the data to plot by extracting relevant items from each group."
  },
  {
   "metadata": {},
   "cell_type": "markdown",
   "source": "For x-axis, use `unique()` over the `artists` column, and then optionally `list()` over the resulting array to make the list of artists."
  },
  {
   "metadata": {},
   "cell_type": "code",
   "outputs": [],
   "execution_count": null,
   "source": ""
  },
  {
   "metadata": {},
   "cell_type": "markdown",
   "source": [
    "For y-axis, create the lists of the numbers of powerful songs (`powerful`) and of the other ones (`not_powerful`).\n",
    "(Start from two empty lists. Loop over the list of artistss created in the previous step, `get_group()` for each artist/band and append the `value_counts()[True]` of the `powerful` column of the current artist (`a['powerful']`) to `powerful` if any of `a['powerful']` has the value `True`, otherwise append 0. Do the similar thing for `not_powerful`. Display both lists in the end to double-check the result.)"
   ]
  },
  {
   "metadata": {},
   "cell_type": "code",
   "outputs": [],
   "execution_count": null,
   "source": ""
  },
  {
   "metadata": {},
   "cell_type": "markdown",
   "source": [
    "And now plot the bar graph. Based on the second example from [here](https://pandas.pydata.org/pandas-docs/stable/reference/api/pandas.DataFrame.plot.bar.html) (using `<pd.df>.plot.bar()`, not Matplotlib or Seaborn).\n",
    "For a complete list of parameters used in `**kwargs`, see [this](https://pandas.pydata.org/pandas-docs/stable/reference/api/pandas.DataFrame.plot.html).\n",
    "For a list of named colors (Matplotlib named colors), see [here](https://matplotlib.org/stable/gallery/color/named_colors.html#css-colors)."
   ]
  },
  {
   "metadata": {},
   "cell_type": "markdown",
   "source": "First create an auxiliary dataframe to use for plotting. Use `pwerful` and `not_powerful` as the columns, <u>and the list of artists created above as the index of the dataframe</u>."
  },
  {
   "metadata": {},
   "cell_type": "code",
   "outputs": [],
   "execution_count": null,
   "source": [
    "# # The role-model example from https://pandas.pydata.org/pandas-docs/stable/reference/api/pandas.DataFrame.plot.bar.html\n",
    "# speed = [0.1, 17.5, 40, 48, 52, 69, 88]\n",
    "# lifespan = [2, 8, 70, 1.5, 25, 12, 28]\n",
    "# index = ['snail', 'pig', 'elephant', 'rabbit', 'giraffe', 'coyote', 'horse']\n",
    "# df = pd.DataFrame({'speed': speed, 'lifespan': lifespan}, index=index)\n"
   ]
  },
  {
   "metadata": {},
   "cell_type": "markdown",
   "source": [
    "###### Alternative 1 - plotting the bargraph using Pandas (`<pd.df>.plot.bar()`)\n",
    "\n",
    "[Pandas bargraph example](https://pandas.pydata.org/docs/reference/api/pandas.DataFrame.plot.bar.html)\n",
    "\n",
    "Use `ax = <pd.df>.plot.bar()` to plot the bargraph.\n",
    "\n",
    "Relevant parameters:\n",
    "- `figsize=(<width>, <height>)` (e.g., (6, 6))\n",
    "- `rot=<rotation angle [degrees]>` for the x-axis labels\n",
    "- `ylim=(<from>, <to>)`\n",
    "- `color={'powerful': 'limegreen', 'not_powerful': 'navajowhite'}` (for a list of Matplotlib named colors, see [here](https://matplotlib.org/stable/gallery/color/named_colors.html#css-colors))\n",
    "- `edgecolor='<color of bin lines>'`\n",
    "- `title='<title>'`\n",
    "- `xlabel='<xlabel>'`\n",
    "- `ylabel='<ylabel>'`\n",
    "- `fontsize=<fontsize>` (for all text; suitable fontsizes are 10, 12,...)\n",
    "- `stacked=True` (the bins for the same x-axis value stacked on top of one another)\n",
    "\n",
    "To show labels (counts) in each bin container, use:\n",
    "\n",
    "`for c in ax.containers:`<br>\n",
    "&emsp;&emsp;`ax.bar_label(c, label_type='center')`\n",
    "\n",
    "If the labels (counts) in each container are not needed, the returned value (`ax`) is usually unnecessary and can be omitted.\n",
    "\n",
    "It is <b>a very good idea</b> to also use `plt.tight_layout()` <b>after</b> `<pd.df>.plot.bar()` to avoid cutoffs at the bottom of the figure.  "
   ]
  },
  {
   "metadata": {},
   "cell_type": "code",
   "outputs": [],
   "execution_count": null,
   "source": ""
  },
  {
   "metadata": {},
   "cell_type": "markdown",
   "source": [
    "###### Alternative 2 - plotting the bargraph using Seaborn (`sb.countplot()`)\n",
    "\n",
    "Use `ax = sb.countplot()` to plot the bargraph.\n",
    "\n",
    "Relevant parameters:\n",
    "- `data=<pd.df>`\n",
    "- `x='<column 1>'` (e.g., 'artists')\n",
    "- `hue='<column 2>'` (e.g., 'powerful`)\n",
    "- `palette='<palette>'` (e.g., 'Set2'; it is also possible to define custom palletes using Hex codes, e.g. `palette=['#432371','#FAAE7B']`)\n",
    "- `dodge=False` to make the bargraph **seemingly stacked** (the containers are not on top of each other, they just overlap); if no stacking is needed (which is a recommended option here), hust omit `dodge=False`\n",
    "\n",
    "**Making the bargraph really stacked (its containers on top of each other) uses (`dodge=False`), but it cannot be done directly (no kwarg for that, i.e. no specific feature for that in `Seaborn.countplot()`), only with some extra work** (see a possible solution [here](https://stackoverflow.com/a/67116235/1899061)).\n",
    "\n",
    "If necessary, use `plt.xticks(rotation=<rotation angle [degrees]>)` before `sb.countplot()`.\n",
    "\n",
    "Note that `ax = sb.countplot()` returns a `pd.Axes` object, so after the call to `ax = sb.countplot()` all `pd.Axes` methods can be called (like `ax.set_title(title='<title>'`, `ax.set_ylim(...)`, etc.). \n",
    "\n",
    "To show labels (counts) in each bin container, use:\n",
    "\n",
    "`for c in ax.containers:`<br>\n",
    "&emsp;&emsp;`ax.bar_label(c, label_type='center')`\n",
    "\n",
    "If the labels (counts) in each container are not needed, the returned value (`ax`) is usually unnecessary and can be omitted.\n",
    "\n"
   ]
  },
  {
   "metadata": {},
   "cell_type": "code",
   "outputs": [],
   "execution_count": 4,
   "source": [
    "# plt.figure(figsize=(8, 6), facecolor='navajowhite')\n",
    "# plt.xticks(rotation=90)\n"
   ]
  },
  {
   "metadata": {},
   "cell_type": "markdown",
   "source": [
    "##### Box plot\n",
    "[Seaborn boxplot example](https://seaborn.pydata.org/generated/seaborn.boxplot.html) (used here as the role model)\n",
    "\n",
    "For Seaborn color palette names see [this](https://seaborn.pydata.org/generated/seaborn.color_palette.html#seaborn.color_palette) or [this](https://10xsoft.org/courses/data-analysis/mastering-data-visualization-with-python/section-4-data-visualization-using-seaborn/colour-palettes-seaborn/). To list the names of some ('quantitative') Seaborn color palettes, use `sb.palettes.SEABORN_PALETTES.keys()` (see [this](https://10xsoft.org/courses/data-analysis/mastering-data-visualization-with-python/section-4-data-visualization-using-seaborn/colour-palettes-seaborn/) and [this](https://www.codecademy.com/article/seaborn-design-ii) for additional named palettes)."
   ]
  },
  {
   "metadata": {},
   "cell_type": "markdown",
   "source": [
    "Read the dataset (`'data/grunge_visualization.csv'`).\n",
    "\n",
    "`pd.read_csv()` returns a `pd.DataFrame` object.\n",
    "\n",
    "As for specifying the path of the dataset properly, see [this](https://stackoverflow.com/questions/35384358/how-to-open-my-files-in-data-folder-with-pandas-using-relative-path) (more specifically, **both** [this](https://stackoverflow.com/a/35384414/1899061) and [this](https://stackoverflow.com/a/43600253/1899061))."
   ]
  },
  {
   "metadata": {},
   "cell_type": "code",
   "outputs": [],
   "execution_count": null,
   "source": [
    "# Get the songs as a pd.DataFrame object from 'data/grunge_visualization.csv', or from\n",
    "# '../data/grunge_visualization.csv', or '../../data/grunge_visualization.csv', or ..., depending on where the csv file is located\n"
   ]
  },
  {
   "metadata": {},
   "cell_type": "markdown",
   "source": [
    "Use `sb.boxplot(y='<column>' | x='<column>', palette='<palette>', hue=1, legend=False)` to plot some boxplots.\n",
    "\n",
    "For a single-column boxplot, relevant parameters are `y=<pd.df>['column']` (for 'vertical' boxplot) or `x=<pd.df>['column']` (for 'horizontal' boxplot), and `palette='<palette>'` (e.g., 'Set3', 'pastel', ...; see the links above for other named color palettes). <u>Note that in case `palette` is used, it is also necessary to use `hue=<n>`, where `<n>` can be any value, e.g. 1</u>.\n",
    "\n",
    "For a multiple-column boxplot, relevant parameters are `data=<pd.df>[['column1', 'column2',...]]`, `orient='v'` (for 'vertical' boxplot) and `palette='<palette>'`. No `hue` is needed, no `legend`."
   ]
  },
  {
   "metadata": {},
   "cell_type": "code",
   "outputs": [],
   "execution_count": null,
   "source": [
    "# display(sb.palettes.SEABORN_PALETTES.keys())\n",
    "\n",
    "# plt.figure(layout='constrained', facecolor='navajowhite', figsize=(3.5, 2), )\n",
    "\n",
    "# For a single column (e.g., duration)\n",
    "# sb.boxplot(y=songs.duration, palette='Set1', hue=1, legend=False)\n",
    "# plt.tight_layout()\n",
    "\n",
    "# Alternatively\n",
    "# sb.boxplot(data=songs, y='duration', palette='Set1', hue=1, legend=False)\n",
    "\n",
    "# For multiple columns (e.g., energy and acousticness)\n"
   ]
  },
  {
   "metadata": {},
   "cell_type": "markdown",
   "source": [
    "##### Violin plot\n",
    "[Seaborn violin plot example](https://seaborn.pydata.org/generated/seaborn.violinplot.html)\n",
    "\n",
    "Combines box plot and density plot. Based on [this](https://stackoverflow.com/questions/46134113/seaborn-violin-plot-from-pandas-dataframe-each-column-its-own-separate-violin-p) and [this](https://seaborn.pydata.org/generated/seaborn.violinplot.html)."
   ]
  },
  {
   "metadata": {},
   "cell_type": "markdown",
   "source": [
    "Read the dataset (`'../data/grunge_visualization.csv'`).\n",
    "\n",
    "`pd.read_csv()` returns a `pd.DataFrame` object.\n",
    "\n",
    "As for specifying the path of the dataset properly, see [this](https://stackoverflow.com/questions/35384358/how-to-open-my-files-in-data-folder-with-pandas-using-relative-path) (more specifically, **both** [this](https://stackoverflow.com/a/35384414/1899061) and [this](https://stackoverflow.com/a/43600253/1899061))."
   ]
  },
  {
   "metadata": {},
   "cell_type": "code",
   "outputs": [],
   "execution_count": null,
   "source": [
    "# Get the songs as a pd.DataFrame object from ''../data/grunge_visualization.csv'', or from\n",
    "# '../data/grunge_visualization.csv', or '../../data/grunge_visualization.csv', or ..., depending on where the csv file is located\n"
   ]
  },
  {
   "metadata": {},
   "cell_type": "markdown",
   "source": [
    "Use `sb.violinplot()` like: `x=<pd.df>.loc[<index>, '<column for x-axis>']`, `sb.violinplot(data=<pd.df>, x=x, y=<pd.df>['<column for y-axis>'], hue=x, palette='<palette>', legend=False)`.\n",
    "\n",
    "For example, if the violin plot should represent density/boxplot diagram of song `duration` in certain `release_year`s, then `<column for x-axis>` is `release_year` and `<column for y-axis>` is `duration`. Good values for `'<palette>'` are, e.g., 'Set3', 'pastel',...).\n",
    "\n",
    "It is a good practice to set the `x` parameter directly before the call to `sb.violinplot()`, and then use `x=x` in `sb.violinplot()`. Using `x=<pd.df>.loc[<index>, '<column for x-axis>']` within the call to `sb.violinplot()` (like call to `sb.violinplot(x=<pd.df>.loc[<index>, '<column for x-axis>'], y=..., ...)`) might generate an error."
   ]
  },
  {
   "metadata": {},
   "cell_type": "code",
   "outputs": [],
   "execution_count": null,
   "source": [
    "# plt.figure(layout='constrained', facecolor='navajowhite', figsize=(5, 3), )\n",
    "\n",
    "# # Alternatively, set x and y explicitly and then call sb.violinplot() as\n",
    "# # sb.violinplot(data=songs, x=x, y=y, hue=x, palette='Set1', legend=False);\n",
    "# x=songs.loc[songs.release_year < 1995, 'release_year']\n",
    "# y=songs.duration\n",
    "# sb.violinplot(data=songs, x=x, y=y, hue=x, palette='Set1', legend=False);"
   ]
  },
  {
   "metadata": {},
   "cell_type": "markdown",
   "source": [
    "##### Heat map\n",
    "[Seaborn heat map example](https://seaborn.pydata.org/generated/seaborn.heatmap.html) (used here as the role model)\n",
    "\n",
    "To create a heatmap, create the corresponding pivot table first. [An intuitive visual explanation of pivot tables](https://support.microsoft.com/en-us/office/overview-of-pivottables-and-pivotcharts-527c8fa3-02c0-445a-a2db-7794676bce96#:~:text=A%20PivotTable%20is%20an%20interactive,unanticipated%20questions%20about%20your%20data.) (start from [this raw table](https://support.microsoft.com/en-us/office/create-a-pivottable-to-analyze-worksheet-data-a9a84538-bfe9-40a9-a8e9-f99134456576), and then see [the corresponding pivot table](https://support.microsoft.com/en-us/office/overview-of-pivottables-and-pivotcharts-527c8fa3-02c0-445a-a2db-7794676bce96#:~:text=A%20PivotTable%20is%20an%20interactive,unanticipated%20questions%20about%20your%20data.) (expand <em>About Pivot Tables</em>)).\n"
   ]
  },
  {
   "metadata": {},
   "cell_type": "markdown",
   "source": [
    "Read the dataset (`'../data/grunge_visualization.csv'`).\n",
    "\n",
    "`pd.read_csv()` returns a `pd.DataFrame` object.\n",
    "\n",
    "As for specifying the path of the dataset properly, see [this](https://stackoverflow.com/questions/35384358/how-to-open-my-files-in-data-folder-with-pandas-using-relative-path) (more specifically, **both** [this](https://stackoverflow.com/a/35384414/1899061) and [this](https://stackoverflow.com/a/43600253/1899061))."
   ]
  },
  {
   "metadata": {},
   "cell_type": "code",
   "outputs": [],
   "execution_count": null,
   "source": [
    "# Get the songs as a pd.DataFrame object from ''../data/grunge_visualization.csv'', or from\n",
    "# '../data/grunge_visualization.csv', or '../../data/grunge_visualization.csv', or ..., depending on where the csv file is located\n"
   ]
  },
  {
   "metadata": {},
   "cell_type": "markdown",
   "source": "The idea: categorize songs according to their *valence*."
  },
  {
   "metadata": {},
   "cell_type": "code",
   "outputs": [],
   "execution_count": null,
   "source": [
    "# # Plot the density function for 'valence', using sb.kdeplot(data=<pd.df>, x=<column>)\n",
    "# sb.kdeplot(data=songs, x='valence')"
   ]
  },
  {
   "metadata": {},
   "cell_type": "markdown",
   "source": [
    "###### Alternative 1 - using `pd.qcut()`\n",
    "Create a new column in the dataframe, e.g. `valence_category`, using `pd.qcut()` function to split the entire range of `songs.valence` values into five equally sized subranges, `Very Low` to `Very High` (with ~equal number of elements in each subrange): `songs['valence_category'] = pd.qcut(songs.valence, q=5, labels=['Very Low', 'Low', 'Medium', 'High', 'Very High'])`."
   ]
  },
  {
   "metadata": {},
   "cell_type": "code",
   "outputs": [],
   "execution_count": 2,
   "source": "# Create the new column\n"
  },
  {
   "metadata": {},
   "cell_type": "code",
   "outputs": [],
   "execution_count": 99,
   "source": [
    "# Check the type of its values using type(<pd.df>.<new column>.values)\n",
    "\n",
    "# Display the categories in the new column using <pd.df>.<new column>.cat.categories\n"
   ]
  },
  {
   "metadata": {},
   "cell_type": "code",
   "outputs": [],
   "execution_count": 3,
   "source": "# Check value_counts() for 'valence_category' (the counts should be more or less equal)\n"
  },
  {
   "metadata": {},
   "cell_type": "markdown",
   "source": [
    "###### Alternative 2 - using `pd.cut()`\n",
    "Create a new column in the dataframe, e.g. `valence_category`, using `pd.cut()` function to split the entire range of `songs.valence` values into five subranges, `Very Low` to `Very High` (with  generally *unequal* number of elements in each subrange): `songs['valence_category'] = pd.cut(songs.valence, bins=[<bin edges>], labels=['Very Low', 'Low', 'Medium', 'High', 'Very High'], include_lowest=True)`. Depending on the value of `bins` parameter, the subranges are either equally *spaced* (`bins=<number of subranges>`), or the edges of each subrange interval are specified in `bins` explicitly. Note that there must be one more `<bin edges>` than bins (defined in `labels`). \n",
    "\n",
    "Note also that the ranges of values in the bins are defined as `(...]`. Thus make sure to include `include_lowest=True` in the call to `pd.cut()` to include the lowest value in the first bin (i.e., to get its range as `[...]`, not as `(...]`). The highest value in the last bin is always included."
   ]
  },
  {
   "metadata": {},
   "cell_type": "code",
   "outputs": [],
   "execution_count": 137,
   "source": "# Extract mean, median and other values of valence as v_mean, v_median, etc. from songs.valence.describe().values, to be used as bin edges\n"
  },
  {
   "metadata": {},
   "cell_type": "code",
   "outputs": [],
   "execution_count": 146,
   "source": [
    "# Define the list of bin edges (v_min, v_mean, v_median, etc.)\n",
    "\n",
    "# Dafine the list of bin labels ('Very Low','Low', etc.)\n",
    "\n",
    "# Create 'valence_category' using pd.cut(songs['valence'], ...)\n"
   ]
  },
  {
   "metadata": {},
   "cell_type": "code",
   "outputs": [],
   "execution_count": 99,
   "source": [
    "# Check the type of its values using type(<pd.df>.<new column>.values)\n",
    "\n",
    "# Display the categories in the new column using <pd.df>.<new column>.cat.categories\n"
   ]
  },
  {
   "metadata": {},
   "cell_type": "code",
   "outputs": [],
   "execution_count": 3,
   "source": "# Check value_counts() for 'valence_category' (in general, the counts should NOT be equal)\n"
  },
  {
   "metadata": {},
   "cell_type": "markdown",
   "source": [
    "###### Alternative 3 - create `valence` categories manually\n",
    "For example, split the range of `valence` to five subranges, `Very Low` to `Very High` according to the following criteria: \n",
    "- `Very Low` is the *valence* from 0 to the first quartile (`songs.valence.describe()['25%']`)\n",
    "- `Low` is the *valence* from the first quartile to the mean value (`songs.valence.describe()['mean']`), since the mean value is lower than the median value\n",
    "- `Medium` is the *valence* from the mean value to the median value (`songs.valence.describe()['50%']`)\n",
    "- `High` is the *valence* from the median value to the third quartile (`songs.valence.describe()['75%']`)\n",
    "- `Very High` is the *valence* from the third quartile to 1"
   ]
  },
  {
   "metadata": {},
   "cell_type": "code",
   "outputs": [],
   "execution_count": null,
   "source": "# Extract mean, median and other values of valence as v_mean, v_median, etc. from songs.valence.describe().values\n"
  },
  {
   "metadata": {},
   "cell_type": "markdown",
   "source": "Insert a new column, e.g. `valence_category` and set it to the default value `Medium`. Then split the range of `valence` to five subranges, `Very Low` to `Very High` (find the `max()` of `valence` first). Each such a subrange is actually an index of selected songs, based on the value of `valence` (e.g., `very_low = songs['valence'] < 10`). Then use `<pd.df>.loc[<index of selected observations>, <relevant column>]` to change the default value `Medium` where appropriate (e.g., `songs.loc[very_low, 'valence_category'] = 'Very Low'`)."
  },
  {
   "metadata": {},
   "cell_type": "code",
   "outputs": [],
   "execution_count": null,
   "source": [
    "# Insert a new column, e.g. valence_category and set it to the default value 'Medium'. \n",
    "# Then split the range of valence to five subranges, 'Very Low' to 'Very High.\n"
   ]
  },
  {
   "metadata": {},
   "cell_type": "markdown",
   "source": "<u>Save this version as a new *.csv* file, e.g. `grunge_visualization_valence_categories.csv`, for possible use in other examples.</u> (`<pd.df>.to_csv('<path>')`)"
  },
  {
   "metadata": {},
   "cell_type": "code",
   "outputs": [],
   "execution_count": null,
   "source": ""
  },
  {
   "metadata": {},
   "cell_type": "markdown",
   "source": [
    "Rearrange the categories of `valence_category` to make the output natural.\n",
    "Use `<pd.df>['<column>'] = pd.Categorical(<pd.df>[<column>], categories=['<cat1>, <cat2>, ...'], ordered=True)`. In this example, order categories from `Very High` to `Very Low`."
   ]
  },
  {
   "metadata": {},
   "cell_type": "code",
   "outputs": [],
   "execution_count": null,
   "source": ""
  },
  {
   "metadata": {},
   "cell_type": "markdown",
   "source": [
    "Create a suitable pivot table. Use `<pivot table> = <pd.df>.pivot_table(values='<column with values to show on the heatmap>', index='<categorical index to show on y-axis>', columns='<column with values to show on x-axis>')`\n",
    "- `values`: e.g. `acousticness` or `tempo`\n",
    "- `index`: to be shown on y-axis, e.g. `valence_category`\n",
    "- `columns`: to be shown on x-axis, e.g. `release_year`\n"
   ]
  },
  {
   "metadata": {},
   "cell_type": "code",
   "outputs": [],
   "execution_count": null,
   "source": "# pivot_table = songs.pivot_table(values='energy', index='valence_category', columns='release_year')\n"
  },
  {
   "metadata": {},
   "cell_type": "markdown",
   "source": [
    "Plot the corresponding heatmap. Based on [this](https://pythonbasics.org/seaborn-heatmap/), [this](https://seaborn.pydata.org/generated/seaborn.heatmap.html), and [this](https://stackoverflow.com/a/29648332/1899061).\n",
    "\n",
    "It is often a good idea to change the default figure size first, using `sb.set_theme(rc={'figure.figsize': (<x_size>, <y_size>)})`, to avoid cluttering on the heatmap (alternatively, use something like `plt.figure(layout='constrained', facecolor='navajowhite', figsize=(5, 3.5))`). Here `rc` stands for 'run command' - essentially, configurations which will execute when running the code. Experiment with `(<x_size>, <y_size>)`. The values that have worked well in this example: (15.7, 5.27).\n",
    "\n",
    "Then use `sb.heatmap(data=<pivot table>, annot=True, fmt='<format string>', cmap='<color map>');`\n",
    "- `data=<pivot table>`: the pivot table created in the previous step\n",
    "- `annot=True`: annotate heatmap cells with values\n",
    "- `fmt='<format_string>'`: for example, use `'.0f'` to show int values in annotations, not scientific notation (`'g'` for using mixed int and float annotations)\n",
    "- `cmap='<color map>'`: color map (see [this](https://10xsoft.org/courses/data-analysis/mastering-data-visualization-with-python/section-4-data-visualization-using-seaborn/colour-palettes-seaborn/)); a good one is `viridis`\n",
    "\n",
    "To set the title for the heatmap, or to change the axes labels, use (<b>AFTER</b> the call to `sb.heatmap()`!) something like:\n",
    "\n",
    "`plt.title('<title>', loc='left', color='<color>', alpha=0.4, size=14)`<br>\n",
    "`plt.xlabel('<xlabel>', size=<font size>, color='<color>')`<br>\n",
    "`plt.ylabel('<ylabel>', size=<font size>, color='<color>')`<br>\n",
    "`plt.show()`    # it's a must"
   ]
  },
  {
   "metadata": {},
   "cell_type": "code",
   "outputs": [],
   "execution_count": null,
   "source": [
    "# sb.set_theme(rc={'figure.figsize': (15.7, 5.27)})\n",
    "# plt.figure(layout='constrained', facecolor='navajowhite', figsize=(5, 3.5))\n"
   ]
  },
  {
   "metadata": {},
   "cell_type": "markdown",
   "source": [
    "##### A fancier example\n",
    "Average duration of songs over the years, represented as circles with sizes proportional to the numbers of songs."
   ]
  },
  {
   "metadata": {},
   "cell_type": "code",
   "outputs": [],
   "execution_count": null,
   "source": [
    "# songs = pd.read_csv('../data/grunge_visualization_valence_categories.csv')\n",
    "# songs_by_year = songs.groupby('release_year')\n",
    "# years = np.sort(songs.release_year.unique())\n",
    "# years\n",
    "# \n",
    "# avg_duration = []\n",
    "# for year in years:\n",
    "#     avg_duration.append(np.mean(songs_by_year.get_group(year)['duration']))\n",
    "# avg_duration = np.array(avg_duration)\n",
    "# \n",
    "# rng = np.random.RandomState(370)\n",
    "# \n",
    "# colors = rng.choice(100, size=len(years), replace=False)                    # random sample, no duplicates\n",
    "# # display(colors)\n",
    "# \n",
    "# sizes = []\n",
    "# for year in years:\n",
    "#     sizes.append(len(songs_by_year.get_group(year)) * 100)                  # sizes proportional to the numbers of songs\n",
    "# \n",
    "# # plt.title('Song duration over the years', fontdict={'size': 20})\n",
    "# # plt.xlabel('release year')\n",
    "# # plt.ylabel('duration')\n",
    "# # plt.xlim(1989, 2020)\n",
    "# # plt.ticklabel_format(useOffset=False)\n",
    "# # plt.scatter(years, avg_duration,\n",
    "# #             c=colors, s=sizes, alpha=0.3,                                   # alpha: the level of transparency\n",
    "# #             cmap='Set1')                                                    # cmap: a pre-defined color map\n",
    "# # plt.colorbar();                                                             # show color scale\n",
    "# # \n",
    "# # # Alternatively, but without showing the colorbar\n",
    "# # ax = plt.axes()\n",
    "# # ax.set(xlabel='release year', ylabel='duration', xlim=(1989, 2020),\n",
    "# #        title='Song duration over the years')\n",
    "# # plt.ticklabel_format(useOffset=False)\n",
    "# # ax.scatter(years, avg_duration,\n",
    "# #            c=colors, s=sizes, alpha=0.3,                                    # alpha: the level of transparency\n",
    "# #            cmap='Set1');                                                    # cmap: a pre-defined color map"
   ]
  }
 ],
 "metadata": {
  "kernelspec": {
   "display_name": "Python 3 (ipykernel)",
   "language": "python",
   "name": "python3"
  },
  "language_info": {
   "codemirror_mode": {
    "name": "ipython",
    "version": 3
   },
   "file_extension": ".py",
   "mimetype": "text/x-python",
   "name": "python",
   "nbconvert_exporter": "python",
   "pygments_lexer": "ipython3",
   "version": "3.10.0"
  }
 },
 "nbformat": 4,
 "nbformat_minor": 4
}
